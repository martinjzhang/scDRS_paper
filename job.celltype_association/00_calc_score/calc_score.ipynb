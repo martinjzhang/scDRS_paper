{
 "cells": [
  {
   "cell_type": "markdown",
   "metadata": {},
   "source": [
    "# Calculate scDRS scores for different parameters"
   ]
  },
  {
   "cell_type": "code",
   "execution_count": 1,
   "metadata": {},
   "outputs": [],
   "source": [
    "%load_ext lab_black\n",
    "import os, sys"
   ]
  },
  {
   "cell_type": "code",
   "execution_count": 2,
   "metadata": {},
   "outputs": [],
   "source": [
    "import scdrs.util as util\n",
    "import scdrs.data_loader as dl\n",
    "import scdrs.method as md\n",
    "import submitit\n",
    "import os\n",
    "from os.path import join\n",
    "import glob\n",
    "import shutil\n",
    "import yaml\n",
    "import pandas as pd"
   ]
  },
  {
   "cell_type": "code",
   "execution_count": 3,
   "metadata": {},
   "outputs": [],
   "source": [
    "def process_magma(window_size):\n",
    "    assert window_size in [0, 10, 50]\n",
    "    zstat_file = f\"/n/holystore01/LABS/price_lab/Users/mjzhang/scDRS_data/gene_annotation/MAGMA-v108/MAGMA_v108_GENE_{window_size}_ZSTAT.txt\"\n",
    "    df = pd.read_csv(zstat_file, sep=\"\\t\")\n",
    "    dic_ranked_gene_list = dict()\n",
    "    for trait in df.columns:\n",
    "        dic_ranked_gene_list[trait] = (\n",
    "            df[trait].dropna().sort_values(ascending=False).index.tolist()\n",
    "        )\n",
    "    return dic_ranked_gene_list"
   ]
  },
  {
   "cell_type": "code",
   "execution_count": 4,
   "metadata": {},
   "outputs": [],
   "source": [
    "with open(\"../url_dict.yaml\") as f:\n",
    "    url_dict = yaml.safe_load(f)"
   ]
  },
  {
   "cell_type": "code",
   "execution_count": 5,
   "metadata": {},
   "outputs": [],
   "source": [
    "list_trait = pd.read_excel(\n",
    "    \"https://www.dropbox.com/s/qojbzu5zln33j7f/supp_tables.xlsx?dl=1\", sheet_name=0\n",
    ")[\"Trait_Identifier\"].values"
   ]
  },
  {
   "cell_type": "code",
   "execution_count": 6,
   "metadata": {},
   "outputs": [],
   "source": [
    "# download from MAGMA websites\n",
    "gene_loc_path = \"../data/gene_loc/NCBI37.3.gene.loc\"\n",
    "gene_loc = pd.read_csv(\n",
    "    gene_loc_path,\n",
    "    delim_whitespace=True,\n",
    "    header=None,\n",
    "    usecols=[1, 2, 3, 5],\n",
    "    names=[\"CHR\", \"START\", \"STOP\", \"GENE\"],\n",
    ")"
   ]
  },
  {
   "cell_type": "code",
   "execution_count": 7,
   "metadata": {},
   "outputs": [],
   "source": [
    "for window_size in [0, 10, 50]:\n",
    "    out_dir = f\"./geneset/{window_size}kb\"\n",
    "    if not os.path.exists(out_dir):\n",
    "        os.makedirs(out_dir)\n",
    "    dic_ranked_gene_list = process_magma(window_size)\n",
    "    for trait in list_trait:\n",
    "        with open(join(out_dir, f\"{trait}.txt\"), \"w\") as f:\n",
    "            f.writelines(\"\\n\".join(dic_ranked_gene_list[trait]))"
   ]
  },
  {
   "cell_type": "code",
   "execution_count": 8,
   "metadata": {},
   "outputs": [],
   "source": [
    "list_gs_name = [\n",
    "    f\"{window_size}kb.{n_gene}\"\n",
    "    for window_size in [10]\n",
    "    for n_gene in [100, 500, 1000, 2000]\n",
    "] + [f\"{window_size}kb.{n_gene}\" for window_size in [0, 50] for n_gene in [1000]]"
   ]
  },
  {
   "cell_type": "code",
   "execution_count": 9,
   "metadata": {},
   "outputs": [
    {
     "name": "stdout",
     "output_type": "stream",
     "text": [
      "10 100\n",
      "10 500\n",
      "10 1000\n",
      "10 2000\n",
      "0 1000\n",
      "50 1000\n"
     ]
    }
   ],
   "source": [
    "for gs_name in list_gs_name:\n",
    "    window_size, top_n_gene = gs_name.split(\".\")\n",
    "    window_size = window_size[:-2]\n",
    "    top_n_gene = int(top_n_gene)\n",
    "    print(window_size, top_n_gene)\n",
    "    df = {\"TRAIT\": [], \"GENESET\": []}\n",
    "    for trait in list_trait:\n",
    "        file = f\"./geneset/{window_size}kb/{trait}.txt\"\n",
    "        with open(file) as f:\n",
    "            gene_list = [line.strip() for line in f.readlines()]\n",
    "        df[\"TRAIT\"].append(trait)\n",
    "        df[\"GENESET\"].append(\",\".join(gene_list[0:top_n_gene]))\n",
    "    df = pd.DataFrame(df)\n",
    "    df.to_csv(\n",
    "        join(f\"geneset/{window_size}kb.{top_n_gene}.gs\"),\n",
    "        sep=\"\\t\",\n",
    "        index=False,\n",
    "    )"
   ]
  },
  {
   "cell_type": "code",
   "execution_count": 16,
   "metadata": {},
   "outputs": [
    {
     "name": "stdout",
     "output_type": "stream",
     "text": [
      "10kb.100\n",
      "10kb.500\n",
      "10kb.1000\n",
      "10kb.2000\n",
      "0kb.1000\n",
      "50kb.1000\n"
     ]
    }
   ],
   "source": [
    "DATASET = \"tms_facs\"\n",
    "for gs_name in list_gs_name:\n",
    "    print(gs_name)\n",
    "    window_size, top_n_gene = gs_name.split(\".\")\n",
    "    window_size = window_size[:-2]\n",
    "    df = pd.read_csv(f\"geneset/{window_size}kb.{top_n_gene}.gs\", sep=\"\\t\")\n",
    "    todo_df = []\n",
    "    for _, row in df.iterrows():\n",
    "        if not os.path.exists(\n",
    "            join(\n",
    "                f\"{DATASET}/score_file/{window_size}kb.{top_n_gene}\",\n",
    "                row.TRAIT + \".score.gz\",\n",
    "            )\n",
    "        ):\n",
    "            todo_df.append(row)\n",
    "\n",
    "    batch_size = 1\n",
    "    # generate batch gs\n",
    "    batch_dir = join(f\"{DATASET}/geneset\", f\"{window_size}kb.{top_n_gene}.gs.batch\")\n",
    "    if os.path.exists(batch_dir):\n",
    "        shutil.rmtree(batch_dir)\n",
    "\n",
    "    if len(todo_df) == 0:\n",
    "        continue\n",
    "\n",
    "    os.makedirs(batch_dir)\n",
    "    todo_df = pd.concat(todo_df, axis=1).T\n",
    "\n",
    "    batch_dfs = np.array_split(todo_df, int(np.ceil(todo_df.shape[0] / batch_size)))\n",
    "    for batch_i, batch_df in enumerate(batch_dfs):\n",
    "        batch_df.to_csv(join(batch_dir, f\"batch{batch_i}.gs\"), sep=\"\\t\", index=False)"
   ]
  }
 ],
 "metadata": {
  "kernelspec": {
   "display_name": "Python 3",
   "language": "python",
   "name": "python3"
  },
  "language_info": {
   "codemirror_mode": {
    "name": "ipython",
    "version": 3
   },
   "file_extension": ".py",
   "mimetype": "text/x-python",
   "name": "python",
   "nbconvert_exporter": "python",
   "pygments_lexer": "ipython3",
   "version": "3.8.3"
  }
 },
 "nbformat": 4,
 "nbformat_minor": 4
}
