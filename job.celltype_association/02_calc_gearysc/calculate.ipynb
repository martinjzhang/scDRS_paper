{
 "cells": [
  {
   "cell_type": "code",
   "execution_count": 1,
   "metadata": {},
   "outputs": [],
   "source": [
    "from scdrs.util import test_gearysc\n",
    "import submitit\n",
    "from os.path import join\n",
    "import glob\n",
    "import pandas as pd\n",
    "import scanpy as sc\n",
    "from tqdm import tqdm"
   ]
  },
  {
   "cell_type": "code",
   "execution_count": 2,
   "metadata": {},
   "outputs": [],
   "source": [
    "DATA_ROOT_DIR = \"/n/holystore01/LABS/price_lab/Users/mjzhang/scDRS_data\"\n",
    "\n",
    "URL_SUPP_TABLE = \"https://www.dropbox.com/s/qojbzu5zln33j7f/supp_tables.xlsx?dl=1\"\n",
    "\n",
    "df_trait_info = pd.read_excel(\n",
    "    URL_SUPP_TABLE,\n",
    "    sheet_name=0,\n",
    ")\n",
    "\n",
    "df_celltype_info = pd.read_excel(\n",
    "    URL_SUPP_TABLE,\n",
    "    sheet_name=1,\n",
    ")\n",
    "trait_list = df_trait_info[\"Trait_Identifier\"].values"
   ]
  },
  {
   "cell_type": "code",
   "execution_count": 3,
   "metadata": {},
   "outputs": [],
   "source": [
    "DATA_PATH = \"/n/holystore01/LABS/price_lab/Users/mjzhang/scDRS_data\"\n",
    "\n",
    "dict_dset = {\n",
    "    \"tms_facs\": join(\n",
    "        DATA_PATH, \"tabula_muris_senis/tabula-muris-senis-facs-official-raw-obj.h5ad\"\n",
    "    ),\n",
    "    \"tms_droplet\": join(\n",
    "        DATA_PATH, \"tabula_muris_senis/tabula-muris-senis-droplet-official-raw-obj.h5ad\"\n",
    "    ),\n",
    "    \"ts_facs\": join(\n",
    "        DATA_PATH, \"single_cell_data/tabula_sapiens/obj_smartseq2_raw.h5ad\"\n",
    "    ),\n",
    "}\n",
    "\n",
    "dict_df_obs = {k: sc.read_h5ad(dict_dset[k]).obs for k in dict_dset}"
   ]
  },
  {
   "cell_type": "markdown",
   "metadata": {},
   "source": [
    "# Tabula Muris"
   ]
  },
  {
   "cell_type": "code",
   "execution_count": 8,
   "metadata": {},
   "outputs": [],
   "source": [
    "import os.path\n",
    "\n",
    "executor = submitit.AutoExecutor(folder=\"submitit_log/\")\n",
    "executor.update_parameters(timeout_min=240, mem_gb=16, slurm_partition=\"shared\")\n",
    "\n",
    "def tms_wrapper(dset, tissue_list, trait):\n",
    "    # load adata\n",
    "    score_dir = join(DATA_ROOT_DIR, f\"score_file/score.{dset}_with_cov.magma_10kb_1000\")\n",
    "    df_score_full = pd.read_csv(\n",
    "        join(score_dir, f\"{trait}.full_score.gz\"), sep=\"\\t\", index_col=0\n",
    "    )\n",
    "    for tissue in tissue_list:\n",
    "        out_file = join(f\"./gearysc/{dset}\", f\"{trait}.{tissue}.csv\")\n",
    "        if os.path.exists(out_file):\n",
    "            continue\n",
    "        print(tissue)\n",
    "        adata = sc.read_h5ad(\n",
    "            join(\n",
    "                DATA_ROOT_DIR,\n",
    "                f\"tabula_muris_senis/tabula-muris-senis-{dset.split('_')[1]}-processed-official-annotations-{tissue}.h5ad\",\n",
    "            )\n",
    "        )\n",
    "        adata = adata[adata.obs.index.isin(df_score_full.index)]\n",
    "        df_score_full_tissue = df_score_full.reindex(adata.obs.index).dropna()\n",
    "        df_rls = test_gearysc(adata, df_score_full_tissue, \"cell_ontology_class\")\n",
    "        df_rls.to_csv(out_file)\n",
    "\n",
    "for dset in [\"tms_facs\", \"tms_droplet\"]:\n",
    "    jobs = executor.map_array(lambda trait : tms_wrapper(dset, dict_df_obs[dset].tissue.unique(), trait), trait_list)"
   ]
  },
  {
   "cell_type": "markdown",
   "metadata": {},
   "source": [
    "# Tabula Sapiens"
   ]
  },
  {
   "cell_type": "code",
   "execution_count": 40,
   "metadata": {},
   "outputs": [],
   "source": [
    "executor = submitit.AutoExecutor(folder=\"submitit_log/\")\n",
    "executor.update_parameters(timeout_min=120, mem_gb=16, slurm_partition=\"serial_requeue\")\n",
    "out_dir = \"./gearysc/ts_facs\"\n",
    "\n",
    "def wrapper(trait):\n",
    "    # load adata\n",
    "    score_dir = join(DATA_ROOT_DIR, \"score_file/score.ts_facs_with_cov.magma_10kb_1000\")\n",
    "    df_score_full = pd.read_csv(\n",
    "        join(score_dir, f\"{trait}.full_score.gz\"), sep=\"\\t\", index_col=0\n",
    "    )\n",
    "    adata = sc.read_h5ad(\"/n/holystore01/LABS/price_lab/Users/mjzhang/scDRS_data/single_cell_data/tabula_sapiens/obj_smartseq2_raw.h5ad\")\n",
    "    \n",
    "    tissue_list = list(adata.obs.tissue.unique())\n",
    "    \n",
    "    for tissue in tissue_list:\n",
    "        adata_tissue = adata[(adata.obs.tissue == tissue) & adata.obs.index.isin(df_score_full.index)]\n",
    "        df_score_full_tissue = df_score_full.reindex(adata_tissue.obs.index)\n",
    "        df_rls = test_gearysc(adata_tissue, df_score_full_tissue, \"cell_ontology_class\")\n",
    "        df_rls.to_csv(join(out_dir, f\"{trait}.{tissue}.csv\"))\n",
    "        \n",
    "jobs = executor.map_array(lambda trait : wrapper(trait), trait_list)"
   ]
  }
 ],
 "metadata": {
  "kernelspec": {
   "display_name": "Python 3",
   "language": "python",
   "name": "python3"
  },
  "language_info": {
   "codemirror_mode": {
    "name": "ipython",
    "version": 3
   },
   "file_extension": ".py",
   "mimetype": "text/x-python",
   "name": "python",
   "nbconvert_exporter": "python",
   "pygments_lexer": "ipython3",
   "version": "3.8.3"
  }
 },
 "nbformat": 4,
 "nbformat_minor": 4
}
