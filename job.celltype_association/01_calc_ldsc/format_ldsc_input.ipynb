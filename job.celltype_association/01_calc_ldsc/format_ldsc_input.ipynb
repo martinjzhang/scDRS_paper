{
 "cells": [
  {
   "cell_type": "code",
   "execution_count": 1,
   "metadata": {},
   "outputs": [
    {
     "name": "stdout",
     "output_type": "stream",
     "text": [
      "scanpy==1.8.1 anndata==0.7.5 umap==0.4.6 numpy==1.19.4 scipy==1.5.2 pandas==1.3.2 scikit-learn==0.23.2 statsmodels==0.12.0 python-igraph==0.8.3 leidenalg==0.8.2\n"
     ]
    }
   ],
   "source": [
    "import scanpy as sc\n",
    "import pandas as pd\n",
    "import numpy as np\n",
    "import scipy as sp\n",
    "from statsmodels.stats.multitest import multipletests\n",
    "import os\n",
    "import time\n",
    "from os.path import join\n",
    "import glob\n",
    "\n",
    "import scdrs.util as util\n",
    "import scdrs.data_loader as dl\n",
    "import scdrs.method as md\n",
    "from anndata import read_h5ad\n",
    "\n",
    "import warnings\n",
    "warnings.simplefilter(action='ignore', category=FutureWarning)"
   ]
  },
  {
   "cell_type": "code",
   "execution_count": 2,
   "metadata": {},
   "outputs": [],
   "source": [
    "trait_list = pd.read_excel(\"https://www.dropbox.com/s/qojbzu5zln33j7f/supp_tables.xlsx?dl=1\", sheet_name=0)[\n",
    "    \"Trait_Identifier\"\n",
    "].values\n",
    "\n",
    "np.savetxt(f\"out/trait_list.txt\", trait_list, fmt='%s')"
   ]
  },
  {
   "cell_type": "code",
   "execution_count": null,
   "metadata": {},
   "outputs": [],
   "source": [
    "DATA_PATH = \"/n/holystore01/LABS/price_lab/Users/mjzhang/scDRS_data\"\n",
    "\n",
    "n_top_gene = 1000\n",
    "df_hom = pd.read_csv(join(DATA_PATH, 'gene_annotation/mouse_human_homologs.txt'), sep='\\t')\n",
    "dic_map = {x:y for x,y in zip(df_hom['MOUSE_GENE_SYM'], df_hom['HUMAN_GENE_SYM'])}\n",
    "\n",
    "dict_dset = {\n",
    "    \"tms_facs\": join(\n",
    "        DATA_PATH, \"tabula_muris_senis/tabula-muris-senis-facs-official-raw-obj.h5ad\"\n",
    "    ),\n",
    "    \"tms_droplet\": join(\n",
    "        DATA_PATH, \"tabula_muris_senis/tabula-muris-senis-droplet-official-raw-obj.h5ad\"\n",
    "    ),\n",
    "    \"ts_facs\": join(\n",
    "        DATA_PATH, \"single_cell_data/tabula_sapiens/obj_smartseq2_raw.h5ad\"\n",
    "    ),\n",
    "}\n",
    "\n",
    "for dset_name in [\"ts_facs\", \"tms_facs\", \"tms_droplet\"]:\n",
    "    adata = sc.read_h5ad(dict_dset[dset_name])\n",
    "    \n",
    "    if dset_name in [\"tms_facs\", \"tms_droplet\"]:\n",
    "        adata = adata[:, adata.var.index.isin(dic_map.keys())]\n",
    "    else:\n",
    "        adata = adata[:, adata.var.index.isin(dic_map.values())]\n",
    "\n",
    "    adata.obs[\"ct\"] = adata.obs.cell_ontology_class.apply(lambda x: '_'.join(x.split()).replace(\",\", \"\")).astype(str)\n",
    "\n",
    "    sc.pp.filter_cells(adata, min_genes=250)\n",
    "    sc.pp.filter_genes(adata, min_cells=50)\n",
    "\n",
    "    sc.pp.normalize_per_cell(adata, counts_per_cell_after=1e4)\n",
    "    sc.pp.log1p(adata)\n",
    "\n",
    "    ct_list = adata.obs.cell_ontology_class.value_counts()\n",
    "    print(\"Cell-types being removed: \", '\\t'.join(ct_list[ct_list <= 10].index.values))\n",
    "    ct_list = ct_list[ct_list > 10].index.values\n",
    "\n",
    "    adata = adata[adata.obs.cell_ontology_class.isin(ct_list)]\n",
    "\n",
    "    groupby = \"ct\"\n",
    "    sc.tl.rank_genes_groups(adata, groupby=groupby, method=\"t-test_overestim_var\")\n",
    "    \n",
    "    # create gene set\n",
    "    group_list = sorted(np.unique(adata.obs[groupby]))\n",
    "    ct_list = adata.obs.ct.unique()\n",
    "    dic_gene_list = {}\n",
    "    for ct in ct_list:\n",
    "        gene_list = sc.get.rank_genes_groups_df(adata, group=ct).sort_values(\"scores\", ascending=False)[\"names\"][0:n_top_gene]\n",
    "        if dset_name in [\"tms_facs\", \"tms_droplet\"]:\n",
    "            dic_gene_list[ct] = [dic_map[g] for g in gene_list]\n",
    "        else:\n",
    "            dic_gene_list[ct] = gene_list\n",
    "\n",
    "    # all homolog genes\n",
    "    dic_gene_list[\"background\"] = list(dic_map.values())\n",
    "\n",
    "    os.makedirs(f\"out/{dset_name}/ldscore/\", exist_ok=True)\n",
    "    for ct in [*ct_list, \"background\"]:\n",
    "        np.savetxt(f\"out/{dset_name}/ldscore/{ct}.geneset\", dic_gene_list[ct], fmt='%s')\n",
    "\n",
    "    # write relevant list\n",
    "    with open(f\"out/{dset_name}/ldsc.ldcts\", \"w\") as f:\n",
    "        lines = []\n",
    "        for ct in ct_list:\n",
    "            lines.append(f\"{ct}\\tout/{dset_name}/ldscore/{ct}.,out/{dset_name}/ldscore/background.\\n\")\n",
    "        f.writelines(lines)\n",
    "\n",
    "    np.savetxt(f\"out/{dset_name}/ct_list.txt\", [*ct_list, \"background\"], fmt='%s')"
   ]
  }
 ],
 "metadata": {
  "kernelspec": {
   "display_name": "Python 3",
   "language": "python",
   "name": "python3"
  },
  "language_info": {
   "codemirror_mode": {
    "name": "ipython",
    "version": 3
   },
   "file_extension": ".py",
   "mimetype": "text/x-python",
   "name": "python",
   "nbconvert_exporter": "python",
   "pygments_lexer": "ipython3",
   "version": "3.8.3"
  }
 },
 "nbformat": 4,
 "nbformat_minor": 4
}
