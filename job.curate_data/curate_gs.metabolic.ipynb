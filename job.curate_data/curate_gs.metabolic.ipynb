{
 "cells": [
  {
   "cell_type": "code",
   "execution_count": 1,
   "metadata": {},
   "outputs": [],
   "source": [
    "import numpy as np\n",
    "import pandas as pd"
   ]
  },
  {
   "cell_type": "code",
   "execution_count": 2,
   "metadata": {},
   "outputs": [],
   "source": [
    "DIC_PATHWAY = {'Glycolysis': 'REACTOME_GLYCOLYSIS',\n",
    "               'Lipogenesis': 'REACTOME_TRIGLYCERIDE_BIOSYNTHESIS',\n",
    "               'Bile acid production':'KEGG_PRIMARY_BILE_ACID_BIOSYNTHESIS',\n",
    "               'Glutamine synthesis':'',\n",
    "               'Xenobiotic metabolism': 'HALLMARK_XENOBIOTIC_METABOLISM',\n",
    "               'Gluconeogenesis':'REACTOME_GLUCONEOGENESIS',\n",
    "               'Beta-oxidation': 'KEGG_FATTY_ACID_METABOLISM',\n",
    "               'Cholesterol biosynthesis':'REACTOME_CHOLESTEROL_BIOSYNTHESIS',\n",
    "               'Ureagenesis':'REACTOME_UREA_CYCLE',\n",
    "               'Protein secretion': 'HALLMARK_PROTEIN_SECRETION'\n",
    "              }"
   ]
  },
  {
   "cell_type": "code",
   "execution_count": 9,
   "metadata": {},
   "outputs": [],
   "source": [
    "DATA_PATH='/n/holystore01/LABS/price_lab/Users/mjzhang/scTRS_data/gene_annotation/'\\\n",
    "    'msigdb_v7.1_files_to_download_locally/msigdb_v7.1_GMTs'\n",
    "FILE_LIST=['h.all.v7.1.symbols.gmt', 'c2.cp.kegg.v7.1.symbols.gmt', 'c2.cp.reactome.v7.1.symbols.gmt']\n",
    "dic_gs_msigdb = {}\n",
    "for file in FILE_LIST:\n",
    "    with open(DATA_PATH+'/'+file, 'r') as f:\n",
    "        for line in f:\n",
    "            line = line.strip()\n",
    "            dic_gs_msigdb[line.split('\\t')[0]] = line.split('\\t')[2:]"
   ]
  },
  {
   "cell_type": "code",
   "execution_count": 20,
   "metadata": {},
   "outputs": [
    {
     "name": "stdout",
     "output_type": "stream",
     "text": [
      "# Glycolysis                     n_gene=72\n",
      "# Lipogenesis                    n_gene=14\n",
      "# Bile acid production           n_gene=16\n",
      "# Missing Glutamine synthesis\n",
      "# Xenobiotic metabolism          n_gene=200\n",
      "# Gluconeogenesis                n_gene=34\n",
      "# Beta-oxidation                 n_gene=42\n",
      "# Cholesterol biosynthesis       n_gene=25\n",
      "# Ureagenesis                    n_gene=10\n",
      "# Protein secretion              n_gene=96\n"
     ]
    }
   ],
   "source": [
    "dic_gs = {}\n",
    "for term in DIC_PATHWAY:\n",
    "    if DIC_PATHWAY[term] in dic_gs_msigdb:\n",
    "        dic_gs[term] = dic_gs_msigdb[DIC_PATHWAY[term]]\n",
    "        print('# %-30s n_gene=%d'%(term, len(dic_gs[term])))\n",
    "    else:\n",
    "        print('# Missing %s'%term)\n",
    "        \n",
    "df_gs = pd.DataFrame(columns=['TRAIT', 'GENESET'])\n",
    "for term in dic_gs:\n",
    "    df_gs.loc[term] = [term, ','.join(dic_gs[term])]\n",
    "df_gs.to_csv('/n/holystore01/LABS/price_lab/Users/mjzhang/scTRS_data/gs_file/hep_metabolic.gs', sep='\\t', index=False)"
   ]
  },
  {
   "cell_type": "code",
   "execution_count": 19,
   "metadata": {},
   "outputs": [
    {
     "data": {
      "text/html": [
       "<div>\n",
       "<style scoped>\n",
       "    .dataframe tbody tr th:only-of-type {\n",
       "        vertical-align: middle;\n",
       "    }\n",
       "\n",
       "    .dataframe tbody tr th {\n",
       "        vertical-align: top;\n",
       "    }\n",
       "\n",
       "    .dataframe thead th {\n",
       "        text-align: right;\n",
       "    }\n",
       "</style>\n",
       "<table border=\"1\" class=\"dataframe\">\n",
       "  <thead>\n",
       "    <tr style=\"text-align: right;\">\n",
       "      <th></th>\n",
       "      <th>TRAIT</th>\n",
       "      <th>GENESET</th>\n",
       "    </tr>\n",
       "  </thead>\n",
       "  <tbody>\n",
       "    <tr>\n",
       "      <th>Glycolysis</th>\n",
       "      <td>Glycolysis</td>\n",
       "      <td>NUP160,TPR,NDC1,PFKP,PKM,NUP133,PRKACA,ENO1,NU...</td>\n",
       "    </tr>\n",
       "    <tr>\n",
       "      <th>Lipogenesis</th>\n",
       "      <td>Lipogenesis</td>\n",
       "      <td>DGAT2,LPIN2,MOGAT3,GPAM,MOGAT1,LPIN3,LPIN1,MOG...</td>\n",
       "    </tr>\n",
       "    <tr>\n",
       "      <th>Bile acid production</th>\n",
       "      <td>Bile acid production</td>\n",
       "      <td>CYP46A1,SLC27A5,BAAT,CYP7B1,AKR1C4,HSD17B4,SCP...</td>\n",
       "    </tr>\n",
       "    <tr>\n",
       "      <th>Xenobiotic metabolism</th>\n",
       "      <td>Xenobiotic metabolism</td>\n",
       "      <td>CYP1A1,FAH,DCXR,CYP1A2,GSTA3,CYP2J2,CYP27A1,AD...</td>\n",
       "    </tr>\n",
       "    <tr>\n",
       "      <th>Gluconeogenesis</th>\n",
       "      <td>Gluconeogenesis</td>\n",
       "      <td>SLC25A13,MDH1,ENO1,SLC25A1,PCK2,PGK1,GPI,GAPDH...</td>\n",
       "    </tr>\n",
       "    <tr>\n",
       "      <th>Beta-oxidation</th>\n",
       "      <td>Beta-oxidation</td>\n",
       "      <td>CPT1A,CPT1C,ACADS,ALDH1B1,ACADSB,ACADL,ALDH2,A...</td>\n",
       "    </tr>\n",
       "    <tr>\n",
       "      <th>Cholesterol biosynthesis</th>\n",
       "      <td>Cholesterol biosynthesis</td>\n",
       "      <td>CYP51A1,MSMO1,IDI1,FDFT1,SQLE,SC5D,MVK,HMGCS1,...</td>\n",
       "    </tr>\n",
       "    <tr>\n",
       "      <th>Ureagenesis</th>\n",
       "      <td>Ureagenesis</td>\n",
       "      <td>CPS1,OTC,ARG2,SLC25A15,ARG1,SLC25A2,ASL,ASS1,N...</td>\n",
       "    </tr>\n",
       "    <tr>\n",
       "      <th>Protein secretion</th>\n",
       "      <td>Protein secretion</td>\n",
       "      <td>ARCN1,TMED10,COPB2,RAB14,ATP7A,COPB1,LAMP2,EGF...</td>\n",
       "    </tr>\n",
       "  </tbody>\n",
       "</table>\n",
       "</div>"
      ],
      "text/plain": [
       "                                             TRAIT  \\\n",
       "Glycolysis                              Glycolysis   \n",
       "Lipogenesis                            Lipogenesis   \n",
       "Bile acid production          Bile acid production   \n",
       "Xenobiotic metabolism        Xenobiotic metabolism   \n",
       "Gluconeogenesis                    Gluconeogenesis   \n",
       "Beta-oxidation                      Beta-oxidation   \n",
       "Cholesterol biosynthesis  Cholesterol biosynthesis   \n",
       "Ureagenesis                            Ureagenesis   \n",
       "Protein secretion                Protein secretion   \n",
       "\n",
       "                                                                    GENESET  \n",
       "Glycolysis                NUP160,TPR,NDC1,PFKP,PKM,NUP133,PRKACA,ENO1,NU...  \n",
       "Lipogenesis               DGAT2,LPIN2,MOGAT3,GPAM,MOGAT1,LPIN3,LPIN1,MOG...  \n",
       "Bile acid production      CYP46A1,SLC27A5,BAAT,CYP7B1,AKR1C4,HSD17B4,SCP...  \n",
       "Xenobiotic metabolism     CYP1A1,FAH,DCXR,CYP1A2,GSTA3,CYP2J2,CYP27A1,AD...  \n",
       "Gluconeogenesis           SLC25A13,MDH1,ENO1,SLC25A1,PCK2,PGK1,GPI,GAPDH...  \n",
       "Beta-oxidation            CPT1A,CPT1C,ACADS,ALDH1B1,ACADSB,ACADL,ALDH2,A...  \n",
       "Cholesterol biosynthesis  CYP51A1,MSMO1,IDI1,FDFT1,SQLE,SC5D,MVK,HMGCS1,...  \n",
       "Ureagenesis               CPS1,OTC,ARG2,SLC25A15,ARG1,SLC25A2,ASL,ASS1,N...  \n",
       "Protein secretion         ARCN1,TMED10,COPB2,RAB14,ATP7A,COPB1,LAMP2,EGF...  "
      ]
     },
     "execution_count": 19,
     "metadata": {},
     "output_type": "execute_result"
    }
   ],
   "source": [
    "df_gs"
   ]
  },
  {
   "cell_type": "code",
   "execution_count": 12,
   "metadata": {},
   "outputs": [
    {
     "data": {
      "text/plain": [
       "set()"
      ]
     },
     "execution_count": 12,
     "metadata": {},
     "output_type": "execute_result"
    }
   ],
   "source": [
    "set(dic_gs['Lipogenesis']) & set(dic_gs['Cholesterol biosynthesis'])"
   ]
  },
  {
   "cell_type": "code",
   "execution_count": 13,
   "metadata": {},
   "outputs": [
    {
     "data": {
      "text/plain": [
       "['DGAT2',\n",
       " 'LPIN2',\n",
       " 'MOGAT3',\n",
       " 'GPAM',\n",
       " 'MOGAT1',\n",
       " 'LPIN3',\n",
       " 'LPIN1',\n",
       " 'MOGAT2',\n",
       " 'DGAT1',\n",
       " 'GPAT2',\n",
       " 'AGMO',\n",
       " 'GK2',\n",
       " 'GK',\n",
       " 'GK3P']"
      ]
     },
     "execution_count": 13,
     "metadata": {},
     "output_type": "execute_result"
    }
   ],
   "source": [
    "dic_gs['Lipogenesis']"
   ]
  },
  {
   "cell_type": "code",
   "execution_count": 14,
   "metadata": {},
   "outputs": [
    {
     "data": {
      "text/plain": [
       "['CYP51A1',\n",
       " 'MSMO1',\n",
       " 'IDI1',\n",
       " 'FDFT1',\n",
       " 'SQLE',\n",
       " 'SC5D',\n",
       " 'MVK',\n",
       " 'HMGCS1',\n",
       " 'HMGCR',\n",
       " 'DHCR24',\n",
       " 'ACAT2',\n",
       " 'HSD17B7',\n",
       " 'LBR',\n",
       " 'EBP',\n",
       " 'NSDHL',\n",
       " 'IDI2',\n",
       " 'TM7SF2',\n",
       " 'GGPS1',\n",
       " 'LSS',\n",
       " 'FDPS',\n",
       " 'PMVK',\n",
       " 'MVD',\n",
       " 'DHCR7',\n",
       " 'ARV1',\n",
       " 'PLPP6']"
      ]
     },
     "execution_count": 14,
     "metadata": {},
     "output_type": "execute_result"
    }
   ],
   "source": [
    "dic_gs['Cholesterol biosynthesis']"
   ]
  },
  {
   "cell_type": "code",
   "execution_count": null,
   "metadata": {},
   "outputs": [],
   "source": []
  }
 ],
 "metadata": {
  "kernelspec": {
   "display_name": "Python 3",
   "language": "python",
   "name": "python3"
  },
  "language_info": {
   "codemirror_mode": {
    "name": "ipython",
    "version": 3
   },
   "file_extension": ".py",
   "mimetype": "text/x-python",
   "name": "python",
   "nbconvert_exporter": "python",
   "pygments_lexer": "ipython3",
   "version": "3.7.2"
  }
 },
 "nbformat": 4,
 "nbformat_minor": 4
}
