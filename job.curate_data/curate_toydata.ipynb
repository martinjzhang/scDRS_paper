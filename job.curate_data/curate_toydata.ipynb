{
 "cells": [
  {
   "cell_type": "code",
   "execution_count": 1,
   "metadata": {},
   "outputs": [],
   "source": [
    "import scanpy as sc\n",
    "import anndata\n",
    "from anndata import read_h5ad\n",
    "import pandas as pd\n",
    "import numpy as np\n",
    "import scipy as sp\n",
    "from scipy import io\n",
    "# from statsmodels.stats.multitest import multipletests\n",
    "import matplotlib.pyplot as plt\n",
    "# import seaborn as sns\n",
    "# import os\n",
    "\n",
    "# # scTRS tools\n",
    "# import scdrs.util as util\n",
    "# import scdrs.data_loader as dl\n",
    "# import scdrs.method as md\n",
    "\n",
    "# autoreload\n",
    "%load_ext autoreload\n",
    "%autoreload 2"
   ]
  },
  {
   "cell_type": "code",
   "execution_count": 2,
   "metadata": {},
   "outputs": [
    {
     "name": "stderr",
     "output_type": "stream",
     "text": [
      "/n/holystore01/LABS/price_lab/Users/mjzhang/myenv_gf/lib/python3.7/site-packages/scipy/sparse/_index.py:116: SparseEfficiencyWarning: Changing the sparsity structure of a csr_matrix is expensive. lil_matrix is more efficient.\n",
      "  self._set_arrayXarray_sparse(i, j, x)\n",
      "... storing 'cell_type' as categorical\n"
     ]
    },
    {
     "name": "stdout",
     "output_type": "stream",
     "text": [
      "# Load data: n_cell=9160, n_gene=7177\n",
      "# Small data: n_cell=30, n_gene=2500\n"
     ]
    }
   ],
   "source": [
    "DF_HOM = pd.read_csv('/n/holystore01/LABS/price_lab/Users/mjzhang/scDRS_data/gene_annotation/'\n",
    "                     'mouse_human_homologs.txt', sep='\\t')\n",
    "DIC_MAP_M2H = {x:y for x,y in zip(DF_HOM['MOUSE_GENE_SYM'], DF_HOM['HUMAN_GENE_SYM'])}\n",
    "\n",
    "# Load data \n",
    "DATA_PATH = '/n/holystore01/LABS/price_lab/Users/mjzhang/scDRS_data'\n",
    "adata = read_h5ad(DATA_PATH+'/simulation_data/single_cell_data/tms_facs.ncell_10k.h5ad')\n",
    "sc.pp.normalize_per_cell(adata, counts_per_cell_after=1e4)\n",
    "sc.pp.log1p(adata)\n",
    "sc.pp.filter_cells(adata, min_genes=1000)\n",
    "sc.pp.filter_genes(adata, min_cells=1000)\n",
    "adata = adata[:, sorted(set(adata.var_names) & set(DF_HOM['MOUSE_GENE_SYM']))].copy()\n",
    "print('# Load data: n_cell=%d, n_gene=%d'%adata.shape)\n",
    "\n",
    "np.random.seed(0)\n",
    "cell_list = np.random.choice(adata.obs_names, size=30, replace=False)\n",
    "gene_list = np.random.choice(adata.var_names, size=2500, replace=False)\n",
    "adata = adata[cell_list, gene_list].copy()\n",
    "print('# Small data: n_cell=%d, n_gene=%d'%adata.shape)\n",
    "\n",
    "# Cell-level and gene-level variables \n",
    "np.random.seed(0)\n",
    "perturb_cell_list = adata.obs_names[:5]\n",
    "perturb_gene_list = np.random.choice(adata.var_names, size=250, replace=False)\n",
    "\n",
    "adata.obs['label'] = [x in set(perturb_cell_list) for x in adata.obs_names]\n",
    "adata.var['label'] = [x in set(perturb_gene_list) for x in adata.var_names]\n",
    "\n",
    "adata.obs['cell_type'] = ['causal_cell' if x<10 else 'non_causal_cell' for x in np.arange(adata.shape[0])]\n",
    "adata.obs['causal_variable'] = np.random.randn(adata.shape[0]) + adata.obs['label']*10\n",
    "adata.obs['non_causal_variable'] = np.random.randn(adata.shape[0])\n",
    "adata.obs['covariate'] = np.random.binomial(2, 0.5, size=adata.shape[0])*10\n",
    "\n",
    "# Perturb data \n",
    "adata[perturb_cell_list, perturb_gene_list].X = adata[perturb_cell_list, perturb_gene_list].X + np.ones(250)*0.2\n",
    "adata.X = (adata.X.T + 0.5 * adata.obs['covariate'].values).T\n",
    "adata.X = sp.sparse.csr_matrix(adata.X, dtype=np.float32)\n",
    "\n",
    "# Write data \n",
    "adata.obs = adata.obs[['label', 'cell_type', 'causal_variable', 'non_causal_variable', 'covariate']].copy()\n",
    "adata.var = adata.var[['label']].copy()\n",
    "adata.write('/n/home11/mjzhang/gwas_informed_scRNAseq/scDRS/scdrs/data/toydata_mouse.h5ad')\n",
    "# Write .cov file \n",
    "adata.obs[['covariate']].to_csv('/n/home11/mjzhang/gwas_informed_scRNAseq/scDRS/scdrs/data/toydata_mouse.cov', \n",
    "                                sep='\\t')\n",
    "# Write .gs \n",
    "df_gs = pd.DataFrame(columns=['TRAIT', 'GENESET'])\n",
    "df_gs.loc['toy_gs'] = ['toydata_gs_mouse', ','.join(perturb_gene_list)]\n",
    "df_gs.to_csv('/n/home11/mjzhang/gwas_informed_scRNAseq/scDRS/scdrs/data/toydata_mouse.gs', sep='\\t', index=False)\n",
    "df_gs = pd.DataFrame(columns=['TRAIT', 'GENESET'])\n",
    "df_gs.loc['toy_gs'] = ['toydata_gs_human', ','.join([DIC_MAP_M2H[x] for x in perturb_gene_list])]\n",
    "df_gs.to_csv('/n/home11/mjzhang/gwas_informed_scRNAseq/scDRS/scdrs/data/toydata_human.gs', sep='\\t', index=False)"
   ]
  },
  {
   "cell_type": "code",
   "execution_count": 96,
   "metadata": {},
   "outputs": [
    {
     "data": {
      "image/png": "[encoded data removed]",
      "text/plain": [
       "<Figure size 432x288 with 1 Axes>"
      ]
     },
     "metadata": {
      "needs_background": "light"
     },
     "output_type": "display_data"
    },
    {
     "data": {
      "image/png": "[encoded data removed]",
      "text/plain": [
       "<Figure size 432x288 with 1 Axes>"
      ]
     },
     "metadata": {
      "needs_background": "light"
     },
     "output_type": "display_data"
    },
    {
     "data": {
      "image/png": "[encoded data removed]",
      "text/plain": [
       "<Figure size 432x288 with 1 Axes>"
      ]
     },
     "metadata": {
      "needs_background": "light"
     },
     "output_type": "display_data"
    }
   ],
   "source": [
    "# Sanity check\n",
    "adata = read_h5ad('/n/home11/mjzhang/gwas_informed_scRNAseq/scDRS/scdrs/data/toydata_mouse.h5ad')\n",
    "perturb_gene_list = adata.var_names[adata.var['label']]\n",
    "perturb_cell_list = adata.obs_names[adata.obs['label']]\n",
    "\n",
    "v_score = np.array(adata[:, perturb_gene_list].X.mean(axis=1)).flatten()\n",
    "plt.figure()\n",
    "plt.hist(v_score[adata.obs['label']], alpha=0.5, bins=np.linspace(0,v_score.max(),20))\n",
    "plt.hist(v_score[~adata.obs['label']], alpha=0.5, bins=np.linspace(0,v_score.max(),20))\n",
    "plt.show()\n",
    "\n",
    "# Mean and variance \n",
    "plt.figure()\n",
    "plt.hist(adata.X.toarray().mean(axis=0))\n",
    "plt.show()\n",
    "\n",
    "plt.figure()\n",
    "plt.hist(adata.X.toarray().var(axis=0))\n",
    "plt.show()"
   ]
  },
  {
   "cell_type": "code",
   "execution_count": 104,
   "metadata": {},
   "outputs": [],
   "source": [
    "v_raw_score = np.ones(19)"
   ]
  },
  {
   "cell_type": "code",
   "execution_count": 106,
   "metadata": {},
   "outputs": [],
   "source": [
    "ind_zero_score = (v_raw_score==0)\n",
    "v_norm_score = (v_raw_score - 0) / 1\n",
    "v_norm_score[ind_zero_score] = 0-1e-3"
   ]
  },
  {
   "cell_type": "code",
   "execution_count": null,
   "metadata": {},
   "outputs": [],
   "source": []
  }
 ],
 "metadata": {
  "kernelspec": {
   "display_name": "Python 3",
   "language": "python",
   "name": "python3"
  },
  "language_info": {
   "codemirror_mode": {
    "name": "ipython",
    "version": 3
   },
   "file_extension": ".py",
   "mimetype": "text/x-python",
   "name": "python",
   "nbconvert_exporter": "python",
   "pygments_lexer": "ipython3",
   "version": "3.7.2"
  }
 },
 "nbformat": 4,
 "nbformat_minor": 4
}
