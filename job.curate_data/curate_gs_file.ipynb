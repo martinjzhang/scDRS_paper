{
 "cells": [
  {
   "cell_type": "code",
   "execution_count": 1,
   "metadata": {},
   "outputs": [],
   "source": [
    "import scanpy as sc\n",
    "import pandas as pd\n",
    "import numpy as np\n",
    "import scipy as sp\n",
    "from statsmodels.stats.multitest import multipletests\n",
    "import os\n",
    "from os.path import join\n",
    "import time\n",
    "\n",
    "from anndata import read_h5ad\n",
    "\n",
    "# scTRS tools\n",
    "import scdrs.util as util\n",
    "import scdrs.data_loader as dl\n",
    "import scdrs.method as md\n",
    "\n",
    "# autoreload\n",
    "%load_ext autoreload\n",
    "%autoreload 2"
   ]
  },
  {
   "cell_type": "markdown",
   "metadata": {},
   "source": [
    "### Make GS file "
   ]
  },
  {
   "cell_type": "code",
   "execution_count": null,
   "metadata": {},
   "outputs": [],
   "source": [
    "# GENE_SCORE_PATH='/n/holystore01/LABS/price_lab/Users/mjzhang/scTRS_data/trs_gene_scores/gwas_max_abs_z'\n",
    "\n",
    "# # Top 500 GWAS genes \n",
    "# df_gs = pd.DataFrame(columns=['TRAIT', 'GENESET'])\n",
    "# for file in os.listdir(GENE_SCORE_PATH):\n",
    "#     trait=file.replace('.csv','')\n",
    "#     temp_df = pd.read_csv(join(GENE_SCORE_PATH, file), sep=',')\n",
    "#     temp_df = temp_df.loc[~temp_df['MAX_ABS_Z'].isna()]\n",
    "#     temp_df = temp_df.sort_values(by='MAX_ABS_Z', ascending=False)\n",
    "#     df_gs.loc[trait] = [trait,','.join(temp_df['GENE'][0:500])]\n",
    "# df_gs.to_csv('/n/holystore01/LABS/price_lab/Users/mjzhang/scTRS_data/gs_file/gwas_max_abs_z.top500.gs',\n",
    "#              sep='\\t', index=False)\n",
    "\n",
    "# BATCH_SIZE=5\n",
    "# for i_batch in range(np.ceil(df_gs.shape[0]/BATCH_SIZE).astype(int)):\n",
    "#     df_gs.iloc[i_batch*BATCH_SIZE:(i_batch+1)*BATCH_SIZE].to_csv(\n",
    "#         '/n/holystore01/LABS/price_lab/Users/mjzhang/scTRS_data/gs_file/gwas_max_abs_z.top500.batch%d.gs'%i_batch,\n",
    "#                 sep='\\t', index=False)"
   ]
  },
  {
   "cell_type": "code",
   "execution_count": null,
   "metadata": {},
   "outputs": [],
   "source": [
    "# GENE_SCORE_PATH='/n/holystore01/LABS/price_lab/Users/mjzhang/scTRS_data/trs_gene_scores/gwas_max_abs_z'\n",
    "\n",
    "# # Top 100 GWAS genes \n",
    "# df_gs = pd.DataFrame(columns=['TRAIT', 'GENESET'])\n",
    "# for file in os.listdir(GENE_SCORE_PATH):\n",
    "#     trait=file.replace('.csv','')\n",
    "#     temp_df = pd.read_csv(join(GENE_SCORE_PATH, file), sep=',')\n",
    "#     temp_df = temp_df.loc[~temp_df['MAX_ABS_Z'].isna()]\n",
    "#     temp_df = temp_df.sort_values(by='MAX_ABS_Z', ascending=False)\n",
    "#     df_gs.loc[trait] = [trait,','.join(temp_df['GENE'][0:100])]\n",
    "# df_gs.to_csv('/n/holystore01/LABS/price_lab/Users/mjzhang/scTRS_data/gs_file/gwas_max_abs_z.top100.gs',\n",
    "#              sep='\\t', index=False)\n",
    "\n",
    "# BATCH_SIZE=5\n",
    "# for i_batch in range(np.ceil(df_gs.shape[0]/BATCH_SIZE).astype(int)):\n",
    "#     df_gs.iloc[i_batch*BATCH_SIZE:(i_batch+1)*BATCH_SIZE].to_csv(\n",
    "#         '/n/holystore01/LABS/price_lab/Users/mjzhang/scTRS_data/gs_file'\n",
    "#         '/gwas_max_abs_z.top100.gs.batch/gwas_max_abs_z.top100.batch%d.gs'%i_batch,\n",
    "#                 sep='\\t', index=False)"
   ]
  },
  {
   "cell_type": "code",
   "execution_count": 6,
   "metadata": {},
   "outputs": [],
   "source": [
    "# df_gs = pd.read_csv('/n/holystore01/LABS/price_lab/Users/mjzhang/scTRS_data/gs_file/magma_10kb_1000.gs',\n",
    "#                     sep='\\t')\n",
    "\n",
    "# BATCH_SIZE=3\n",
    "# for i_batch in range(np.ceil(df_gs.shape[0]/BATCH_SIZE).astype(int)):\n",
    "#     df_gs.iloc[i_batch*BATCH_SIZE:(i_batch+1)*BATCH_SIZE].to_csv(\n",
    "#         '/n/holystore01/LABS/price_lab/Users/mjzhang/scTRS_data/gs_file'\n",
    "#         '/magma_10kb_1000.gs.batch/magma_10kb_1000.batch%d.gs'%i_batch,\n",
    "#                 sep='\\t', index=False)"
   ]
  },
  {
   "cell_type": "code",
   "execution_count": 3,
   "metadata": {},
   "outputs": [],
   "source": [
    "# # Make a small gs file containing the 74 analyzed traits \n",
    "# df_gs = pd.read_csv('/n/holystore01/LABS/price_lab/Users/mjzhang/scDRS_data/gs_file/magma_10kb_1000.gs', sep='\\t')\n",
    "# df_trait = pd.read_csv('/n/holystore01/LABS/price_lab/Users/mjzhang/scDRS_data/supp_table/trait_info.tsv', sep='\\t')\n",
    "\n",
    "# df_gs_small = df_gs.loc[[x in df_trait['Trait_Identifier'].values for x in df_gs['TRAIT']]].copy()\n",
    "# df_gs_small.to_csv('/n/holystore01/LABS/price_lab/Users/mjzhang/scDRS_data/gs_file/magma_10kb_1000.74_traits.gs',\n",
    "#                    sep='\\t', index=False)\n",
    "\n",
    "# BATCH_SIZE=3\n",
    "# for i_batch in range(np.ceil(df_gs_small.shape[0]/BATCH_SIZE).astype(int)):\n",
    "#     df_gs_small.iloc[i_batch*BATCH_SIZE:(i_batch+1)*BATCH_SIZE].to_csv(\n",
    "#         '/n/holystore01/LABS/price_lab/Users/mjzhang/scDRS_data/gs_file'\n",
    "#         '/magma_10kb_1000.74_traits.gs.batch/magma_10kb_1000.batch%d.gs'%i_batch,\n",
    "#                 sep='\\t', index=False)"
   ]
  },
  {
   "cell_type": "code",
   "execution_count": null,
   "metadata": {},
   "outputs": [],
   "source": [
    "# # Make a small gs file containing IBD,SCZ,TG\n",
    "# df_gs = pd.read_csv('/n/holystore01/LABS/price_lab/Users/mjzhang/scDRS_data/gs_file/magma_10kb_1000.gs', sep='\\t')\n",
    "# df_trait = pd.read_csv('/n/holystore01/LABS/price_lab/Users/mjzhang/scDRS_data/supp_table/trait_info.tsv', sep='\\t')\n",
    "\n",
    "# df_gs_small = df_gs.loc[[x in df_trait['Trait_Identifier'].values for x in df_gs['TRAIT']]].copy()\n",
    "# df_gs_small.to_csv('/n/holystore01/LABS/price_lab/Users/mjzhang/scDRS_data/gs_file/magma_10kb_1000.74_traits.gs',\n",
    "#                    sep='\\t', index=False)\n",
    "\n",
    "# BATCH_SIZE=3\n",
    "# for i_batch in range(np.ceil(df_gs_small.shape[0]/BATCH_SIZE).astype(int)):\n",
    "#     df_gs_small.iloc[i_batch*BATCH_SIZE:(i_batch+1)*BATCH_SIZE].to_csv(\n",
    "#         '/n/holystore01/LABS/price_lab/Users/mjzhang/scDRS_data/gs_file'\n",
    "#         '/magma_10kb_1000.74_traits.gs.batch/magma_10kb_1000.batch%d.gs'%i_batch,\n",
    "#                 sep='\\t', index=False)"
   ]
  },
  {
   "cell_type": "markdown",
   "metadata": {},
   "source": [
    "### Check unfinished files "
   ]
  },
  {
   "cell_type": "code",
   "execution_count": 5,
   "metadata": {},
   "outputs": [
    {
     "name": "stdout",
     "output_type": "stream",
     "text": [
      "UKB_460K.cov_EDU_COLLEGE\n",
      "PASS_DS\n",
      "UKB_460K.cancer_BREAST\n",
      "PASS_ProstateCancer\n"
     ]
    }
   ],
   "source": [
    "# # Check unfinished files \n",
    "# DATA_PATH='/n/holystore01/LABS/price_lab/Users/mjzhang/scTRS_data'\n",
    "# GS_FILE=DATA_PATH+'/gs_file/gwas_max_abs_z.top500.gs'\n",
    "# SCORE_FILE=DATA_PATH+'/score_file/score.tms_droplet_with_cov.gwas_max_abs_z.top500/@t.full_score.gz'\n",
    "\n",
    "# trait_list = []\n",
    "# df_gs = pd.read_csv(GS_FILE, sep='\\t', index_col=0)\n",
    "# for trait in df_gs.index:\n",
    "#     if os.path.exists(SCORE_FILE.replace('@t',trait)) is False:\n",
    "#         print(trait)\n",
    "#         trait_list.append(trait)\n",
    "        \n",
    "# df_gs.loc[trait_list].to_csv(DATA_PATH+'/gs_file/gwas_max_abs_z.top500.unfinished.gs', sep='\\t')"
   ]
  },
  {
   "cell_type": "code",
   "execution_count": 6,
   "metadata": {},
   "outputs": [
    {
     "name": "stdout",
     "output_type": "stream",
     "text": [
      "effector_vs_memory_cd8\n",
      "memory_vs_effector_cd8\n"
     ]
    }
   ],
   "source": [
    "# # Check unfinished files \n",
    "# DATA_PATH='/n/holystore01/LABS/price_lab/Users/mjzhang/scTRS_data'\n",
    "# GS_FILE=DATA_PATH+'/gs_file/tcell_signature.gs'\n",
    "# SCORE_FILE=DATA_PATH+'/score_file/score.tms_droplet_with_cov.tcell_sig/@t.full_score.gz'\n",
    "\n",
    "# trait_list = []\n",
    "# df_gs = pd.read_csv(GS_FILE, sep='\\t', index_col=0)\n",
    "# for trait in df_gs.index:\n",
    "#     if os.path.exists(SCORE_FILE.replace('@t',trait)) is False:\n",
    "#         print(trait)\n",
    "#         trait_list.append(trait)\n",
    "        \n",
    "# df_gs.loc[trait_list].to_csv(DATA_PATH+'/gs_file/tcell_signature.unfinished.gs', sep='\\t')"
   ]
  },
  {
   "cell_type": "code",
   "execution_count": 5,
   "metadata": {},
   "outputs": [],
   "source": [
    "# Check unfinished files \n",
    "DATA_PATH='/n/holystore01/LABS/price_lab/Users/mjzhang/scDRS_data'\n",
    "GS_FILE=DATA_PATH+'/gs_file/ploidy.gs'\n",
    "SCORE_FILE=DATA_PATH+'/score_file/score.tms_droplet_with_cov.hep_metabolic/@t.full_score.gz'\n",
    "\n",
    "trait_list = []\n",
    "df_gs = pd.read_csv(GS_FILE, sep='\\t', index_col=0)\n",
    "for trait in df_gs.index:\n",
    "    if os.path.exists(SCORE_FILE.replace('@t',trait)) is False:\n",
    "        print(trait)\n",
    "        trait_list.append(trait)\n",
    "        \n",
    "df_gs.loc[trait_list].to_csv(DATA_PATH+'/gs_file/ploidy.unfinished.gs', sep='\\t')"
   ]
  },
  {
   "cell_type": "code",
   "execution_count": 3,
   "metadata": {},
   "outputs": [
    {
     "data": {
      "text/html": [
       "<div>\n",
       "<style scoped>\n",
       "    .dataframe tbody tr th:only-of-type {\n",
       "        vertical-align: middle;\n",
       "    }\n",
       "\n",
       "    .dataframe tbody tr th {\n",
       "        vertical-align: top;\n",
       "    }\n",
       "\n",
       "    .dataframe thead th {\n",
       "        text-align: right;\n",
       "    }\n",
       "</style>\n",
       "<table border=\"1\" class=\"dataframe\">\n",
       "  <thead>\n",
       "    <tr style=\"text-align: right;\">\n",
       "      <th></th>\n",
       "      <th>GENESET</th>\n",
       "    </tr>\n",
       "    <tr>\n",
       "      <th>TRAIT</th>\n",
       "      <th></th>\n",
       "    </tr>\n",
       "  </thead>\n",
       "  <tbody>\n",
       "    <tr>\n",
       "      <th>Glycolysis</th>\n",
       "      <td>NUP160,TPR,NDC1,PFKP,PKM,NUP133,PRKACA,ENO1,NU...</td>\n",
       "    </tr>\n",
       "    <tr>\n",
       "      <th>Lipogenesis</th>\n",
       "      <td>DGAT2,LPIN2,MOGAT3,GPAM,MOGAT1,LPIN3,LPIN1,MOG...</td>\n",
       "    </tr>\n",
       "    <tr>\n",
       "      <th>Bile acid production</th>\n",
       "      <td>CYP46A1,SLC27A5,BAAT,CYP7B1,AKR1C4,HSD17B4,SCP...</td>\n",
       "    </tr>\n",
       "    <tr>\n",
       "      <th>Xenobiotic metabolism</th>\n",
       "      <td>CYP1A1,FAH,DCXR,CYP1A2,GSTA3,CYP2J2,CYP27A1,AD...</td>\n",
       "    </tr>\n",
       "    <tr>\n",
       "      <th>Gluconeogenesis</th>\n",
       "      <td>SLC25A13,MDH1,ENO1,SLC25A1,PCK2,PGK1,GPI,GAPDH...</td>\n",
       "    </tr>\n",
       "    <tr>\n",
       "      <th>Beta-oxidation</th>\n",
       "      <td>CPT1A,CPT1C,ACADS,ALDH1B1,ACADSB,ACADL,ALDH2,A...</td>\n",
       "    </tr>\n",
       "    <tr>\n",
       "      <th>Cholesterol biosynthesis</th>\n",
       "      <td>CYP51A1,MSMO1,IDI1,FDFT1,SQLE,SC5D,MVK,HMGCS1,...</td>\n",
       "    </tr>\n",
       "    <tr>\n",
       "      <th>Ureagenesis</th>\n",
       "      <td>CPS1,OTC,ARG2,SLC25A15,ARG1,SLC25A2,ASL,ASS1,N...</td>\n",
       "    </tr>\n",
       "    <tr>\n",
       "      <th>Protein secretion</th>\n",
       "      <td>ARCN1,TMED10,COPB2,RAB14,ATP7A,COPB1,LAMP2,EGF...</td>\n",
       "    </tr>\n",
       "  </tbody>\n",
       "</table>\n",
       "</div>"
      ],
      "text/plain": [
       "                                                                    GENESET\n",
       "TRAIT                                                                      \n",
       "Glycolysis                NUP160,TPR,NDC1,PFKP,PKM,NUP133,PRKACA,ENO1,NU...\n",
       "Lipogenesis               DGAT2,LPIN2,MOGAT3,GPAM,MOGAT1,LPIN3,LPIN1,MOG...\n",
       "Bile acid production      CYP46A1,SLC27A5,BAAT,CYP7B1,AKR1C4,HSD17B4,SCP...\n",
       "Xenobiotic metabolism     CYP1A1,FAH,DCXR,CYP1A2,GSTA3,CYP2J2,CYP27A1,AD...\n",
       "Gluconeogenesis           SLC25A13,MDH1,ENO1,SLC25A1,PCK2,PGK1,GPI,GAPDH...\n",
       "Beta-oxidation            CPT1A,CPT1C,ACADS,ALDH1B1,ACADSB,ACADL,ALDH2,A...\n",
       "Cholesterol biosynthesis  CYP51A1,MSMO1,IDI1,FDFT1,SQLE,SC5D,MVK,HMGCS1,...\n",
       "Ureagenesis               CPS1,OTC,ARG2,SLC25A15,ARG1,SLC25A2,ASL,ASS1,N...\n",
       "Protein secretion         ARCN1,TMED10,COPB2,RAB14,ATP7A,COPB1,LAMP2,EGF..."
      ]
     },
     "execution_count": 3,
     "metadata": {},
     "output_type": "execute_result"
    }
   ],
   "source": [
    "df_gs"
   ]
  },
  {
   "cell_type": "code",
   "execution_count": null,
   "metadata": {},
   "outputs": [],
   "source": []
  },
  {
   "cell_type": "code",
   "execution_count": 2,
   "metadata": {},
   "outputs": [
    {
     "name": "stdout",
     "output_type": "stream",
     "text": [
      "UKB_460K.biochemistry_Triglycerides\n"
     ]
    }
   ],
   "source": [
    "# Check unfinished files \n",
    "DATA_PATH='/n/holystore01/LABS/price_lab/Users/mjzhang/scDRS_data'\n",
    "GS_FILE=DATA_PATH+'/gs_file/magma_10kb_1000.74_traits.gs'\n",
    "SCORE_FILE=DATA_PATH+'/score_file/score.tms_facs_with_cov.magma_10kb_1000.score_od/@t.score.gz'\n",
    "SUFFIX = 'score_od'\n",
    "\n",
    "trait_list = []\n",
    "df_gs = pd.read_csv(GS_FILE, sep='\\t', index_col=0)\n",
    "for trait in df_gs.index:\n",
    "    if os.path.exists(SCORE_FILE.replace('@t',trait)) is False:\n",
    "        print(trait)\n",
    "        trait_list.append(trait)\n",
    "df_gs.loc[trait_list].to_csv(DATA_PATH+'/gs_file/magma_10kb_1000.74_traits.unfinished.%s.gs'%SUFFIX, sep='\\t')\n",
    "\n",
    "df_gs = df_gs.loc[trait_list].copy()\n",
    "BATCH_SIZE=3\n",
    "for i_batch in range(np.ceil(df_gs.shape[0]/BATCH_SIZE).astype(int)):\n",
    "    df_gs.iloc[i_batch*BATCH_SIZE:(i_batch+1)*BATCH_SIZE].to_csv(DATA_PATH+\n",
    "        '/gs_file/magma_10kb_1000.74_traits.gs.unfinished.batch/magma_10kb_1000.batch%d.unfinished%s.gs'\n",
    "                                                                 %(i_batch,SUFFIX), \n",
    "        sep='\\t', index=True)"
   ]
  },
  {
   "cell_type": "code",
   "execution_count": 3,
   "metadata": {},
   "outputs": [],
   "source": [
    "df_gs = df_gs.loc[trait_list].copy()\n",
    "BATCH_SIZE=3\n",
    "for i_batch in range(np.ceil(df_gs.shape[0]/BATCH_SIZE).astype(int)):\n",
    "    df_gs.iloc[i_batch*BATCH_SIZE:(i_batch+1)*BATCH_SIZE].to_csv(\n",
    "        '/n/holystore01/LABS/price_lab/Users/mjzhang/scDRS_data/gs_file'\n",
    "        '/magma_10kb_1000.gs.batch/magma_10kb_1000.batch%d.unfinished.gs'%i_batch,\n",
    "                sep='\\t', index=True)"
   ]
  },
  {
   "cell_type": "code",
   "execution_count": null,
   "metadata": {},
   "outputs": [],
   "source": []
  }
 ],
 "metadata": {
  "kernelspec": {
   "display_name": "Python 3",
   "language": "python",
   "name": "python3"
  },
  "language_info": {
   "codemirror_mode": {
    "name": "ipython",
    "version": 3
   },
   "file_extension": ".py",
   "mimetype": "text/x-python",
   "name": "python",
   "nbconvert_exporter": "python",
   "pygments_lexer": "ipython3",
   "version": "3.7.2"
  }
 },
 "nbformat": 4,
 "nbformat_minor": 4
}
