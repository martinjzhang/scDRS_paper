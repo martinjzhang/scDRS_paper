{
 "cells": [
  {
   "cell_type": "code",
   "execution_count": 3,
   "metadata": {},
   "outputs": [],
   "source": [
    "import scanpy as sc\n",
    "import pandas as pd\n",
    "import numpy as np\n",
    "import scipy as sp\n",
    "from statsmodels.stats.multitest import multipletests\n",
    "import matplotlib.pyplot as plt\n",
    "import seaborn as sns\n",
    "from anndata import AnnData\n",
    "import os\n",
    "import time\n",
    "from gprofiler import GProfiler\n",
    "\n",
    "# scTRS tools\n",
    "import scdrs.util as util\n",
    "import scdrs.data_loader as dl\n",
    "import scdrs.method as md\n",
    "\n",
    "# autoreload\n",
    "%load_ext autoreload\n",
    "%autoreload 2"
   ]
  },
  {
   "cell_type": "code",
   "execution_count": 5,
   "metadata": {},
   "outputs": [],
   "source": [
    "DATA_FILE='/n/holystore01/LABS/price_lab/Users/mjzhang/scTRS_data/single_cell_data/tabula_sapiens/raw_data/TabulaSapiens.h5ad'\n",
    "OUT_PATH='/n/holystore01/LABS/price_lab/Users/mjzhang/scTRS_data/single_cell_data/tabula_sapiens'"
   ]
  },
  {
   "cell_type": "code",
   "execution_count": 3,
   "metadata": {},
   "outputs": [
    {
     "name": "stdout",
     "output_type": "stream",
     "text": [
      "smartseq2\n",
      "# n_cell=27051, n_gene=58870\n",
      "# n_tissue=24\n",
      "# n_celltype=134\n",
      "# n_tissue_celltype=353\n"
     ]
    },
    {
     "name": "stderr",
     "output_type": "stream",
     "text": [
      "... storing 'tissue_celltype' as categorical\n"
     ]
    },
    {
     "name": "stdout",
     "output_type": "stream",
     "text": [
      "After filtering\n",
      "# n_cell=26813, n_gene=34963\n",
      "# n_tissue=24\n",
      "# n_celltype=134\n",
      "# n_tissue_celltype=353\n",
      "10X\n",
      "# n_cell=454069, n_gene=58870\n",
      "# n_tissue=24\n",
      "# n_celltype=180\n",
      "# n_tissue_celltype=470\n"
     ]
    },
    {
     "name": "stderr",
     "output_type": "stream",
     "text": [
      "... storing 'tissue_celltype' as categorical\n"
     ]
    },
    {
     "name": "stdout",
     "output_type": "stream",
     "text": [
      "After filtering\n",
      "# n_cell=453582, n_gene=36715\n",
      "# n_tissue=24\n",
      "# n_celltype=180\n",
      "# n_tissue_celltype=470\n"
     ]
    }
   ],
   "source": [
    "adata_full = sc.read_h5ad(DATA_FILE)\n",
    "adata_full.X = adata_full.raw.X\n",
    "del adata_full.layers[\"decontXcounts\"]\n",
    "del adata_full.raw\n",
    "adata_full.obs['tissue'] = adata_full.obs['organ_tissue']\n",
    "adata_full.obs['tissue_celltype'] = ['%s.%s'%(x,y) for x,y in zip(adata_full.obs['tissue'], \n",
    "                                                                  adata_full.obs['cell_ontology_class'])]\n",
    "\n",
    "for method in ['smartseq2', '10X']:\n",
    "    adata = adata_full[adata_full.obs['method']==method].copy()\n",
    "    \n",
    "    # Before filtering \n",
    "    print(method)\n",
    "    print('# n_cell=%d, n_gene=%d'%(adata.shape[0], adata.shape[1]))\n",
    "    print('# n_tissue=%d'%(len(set(adata.obs['organ_tissue']))))\n",
    "    print('# n_celltype=%d'%(len(set(adata.obs['cell_ontology_class']))))\n",
    "    print('# n_tissue_celltype=%d'%(len(set(adata.obs['tissue_celltype']))))\n",
    "\n",
    "    # Remove tissue-cell types with <3 cells:\n",
    "    sc.pp.filter_cells(adata, min_genes=250)\n",
    "    sc.pp.filter_genes(adata, min_cells=50)\n",
    "    adata.write(OUT_PATH+'/obj_%s_raw.h5ad'%method)\n",
    "\n",
    "    # After filtering \n",
    "    print('After filtering')\n",
    "    print('# n_cell=%d, n_gene=%d'%(adata.shape[0], adata.shape[1]))\n",
    "    print('# n_tissue=%d'%(len(set(adata.obs['tissue']))))\n",
    "    print('# n_celltype=%d'%(len(set(adata.obs['cell_ontology_class']))))\n",
    "    print('# n_tissue_celltype=%d'%(len(set(adata.obs['tissue_celltype']))))"
   ]
  },
  {
   "cell_type": "code",
   "execution_count": 4,
   "metadata": {},
   "outputs": [],
   "source": [
    "# TS FACS \n",
    "DATA_PATH = '/n/holystore01/LABS/price_lab/Users/mjzhang/scDRS_data/single_cell_data/tabula_sapiens'\n",
    "adata_raw = sc.read_h5ad(DATA_PATH+'/obj_smartseq2_raw.h5ad')"
   ]
  },
  {
   "cell_type": "code",
   "execution_count": 14,
   "metadata": {},
   "outputs": [],
   "source": [
    "# Make .cov file \n",
    "df_cov = pd.DataFrame(index=adata_raw.obs.index)\n",
    "df_cov['const'] = 1\n",
    "df_cov['n_genes'] = (adata_raw.X>0).sum(axis=1)\n",
    "for donor in sorted(set(adata_raw.obs['donor'])):\n",
    "    if donor!='TSP1':\n",
    "        df_cov['donor_%s'%donor] = (adata_raw.obs['donor']==donor)*1    \n",
    "df_cov.to_csv(DATA_PATH+'/ts_smartseq2.cov', sep='\\t')"
   ]
  },
  {
   "cell_type": "code",
   "execution_count": 8,
   "metadata": {},
   "outputs": [],
   "source": [
    "# TS Droplet \n",
    "DATA_PATH = '/n/holystore01/LABS/price_lab/Users/mjzhang/scTRS_data/single_cell_data/tabula_sapiens'\n",
    "adata_raw = sc.read_h5ad(DATA_PATH+'/obj_10X_raw.h5ad')"
   ]
  },
  {
   "cell_type": "code",
   "execution_count": 9,
   "metadata": {},
   "outputs": [],
   "source": [
    "# Make .cov file \n",
    "df_cov = pd.DataFrame(index=adata_raw.obs.index)\n",
    "df_cov['const'] = 1\n",
    "df_cov['n_genes'] = (adata_raw.X>0).sum(axis=1)\n",
    "df_cov.to_csv(DATA_PATH+'/ts_10X.cov', sep='\\t')"
   ]
  },
  {
   "cell_type": "code",
   "execution_count": null,
   "metadata": {},
   "outputs": [],
   "source": []
  }
 ],
 "metadata": {
  "kernelspec": {
   "display_name": "Python 3",
   "language": "python",
   "name": "python3"
  },
  "language_info": {
   "codemirror_mode": {
    "name": "ipython",
    "version": 3
   },
   "file_extension": ".py",
   "mimetype": "text/x-python",
   "name": "python",
   "nbconvert_exporter": "python",
   "pygments_lexer": "ipython3",
   "version": "3.7.2"
  }
 },
 "nbformat": 4,
 "nbformat_minor": 4
}
