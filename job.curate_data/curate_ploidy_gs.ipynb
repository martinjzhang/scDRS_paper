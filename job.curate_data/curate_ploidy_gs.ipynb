{
 "cells": [
  {
   "cell_type": "code",
   "execution_count": 2,
   "metadata": {},
   "outputs": [],
   "source": [
    "import numpy as np\n",
    "import pandas as pd\n",
    "import scanpy as sc\n",
    "import anndata as ad\n",
    "\n",
    "import scdrs.data_loader as dl"
   ]
  },
  {
   "cell_type": "code",
   "execution_count": 7,
   "metadata": {},
   "outputs": [],
   "source": [
    "DATA_PATH='/n/holystore01/LABS/price_lab/Users/mjzhang/scDRS_data'\n",
    "df_hom = pd.read_csv('/n/holystore01/LABS/price_lab/Users/mjzhang/scDRS_data/gene_annotation/'\n",
    "                     'mouse_human_homologs.txt', sep='\\t')\n",
    "dic_map = {x:y for x,y in zip(df_hom['HUMAN_GENE_SYM'], df_hom['MOUSE_GENE_SYM'])}\n",
    "dic_map_m2h = {x:y for x,y in zip(df_hom['MOUSE_GENE_SYM'], df_hom['HUMAN_GENE_SYM'])}"
   ]
  },
  {
   "cell_type": "code",
   "execution_count": 8,
   "metadata": {},
   "outputs": [
    {
     "name": "stderr",
     "output_type": "stream",
     "text": [
      "Trying to set attribute `.uns` of view, copying.\n"
     ]
    },
    {
     "name": "stdout",
     "output_type": "stream",
     "text": [
      "4n 830\n",
      "2n 5\n"
     ]
    }
   ],
   "source": [
    "# Richtor 2021 \n",
    "dic_gs = {}\n",
    "adata = dl.load_richter(DATA_PATH, opt='raw', flag_size_factor=True, flag_log1p=True)\n",
    "adata = adata[adata.obs['inferred_cell_label']=='Hepatocytes'].copy()\n",
    "adata = adata[:,[x for x in adata.var_names if x.startswith('ERCC') is False]]\n",
    "\n",
    "sc.tl.rank_genes_groups(adata, groupby='Ploidy', method='wilcoxon')\n",
    "\n",
    "temp_df = sc.get.rank_genes_groups_df(adata, group='4n')\n",
    "ind_select = (temp_df['logfoldchanges']>0.5) & (temp_df['pvals_adj']<0.01)\n",
    "print('4n', ind_select.sum())\n",
    "dic_gs['hep4n_richter'] = [dic_map_m2h[x] for x in temp_df.loc[ind_select, 'names'][:200] \n",
    "                           if x in dic_map_m2h]\n",
    "ind_select = (temp_df['logfoldchanges']<-0.1) & (temp_df['pvals_adj']<0.01)\n",
    "print('2n', ind_select.sum())\n",
    "dic_gs['hep2n_richter'] = [dic_map_m2h[x] for x in temp_df['names'][-200:] \n",
    "                           if x in dic_map_m2h]"
   ]
  },
  {
   "cell_type": "code",
   "execution_count": 11,
   "metadata": {},
   "outputs": [],
   "source": [
    "# Table S1 in Miettinen CurrBio 2014\n",
    "\n",
    "temp_df = pd.read_excel('/n/holystore01/LABS/price_lab/Users/mjzhang/scDRS_data/single_cell_data/'\n",
    "                        'miettinen_CurrBio_2014/Miettinen_CurrBio_2014_supp_tab.xlsx', skiprows=4)\n",
    "\n",
    "# ind_select = (temp_df['Pearson correlation with nuclear radius ( r )']>0.8) & \\\n",
    "#                 (temp_df['correlation adj.P.val']<0.01)\n",
    "# dic_gs['size_pos_meittinen'] = [dic_map_m2h[x] for x in temp_df.loc[ind_select, 'Gene_Name']\n",
    "#                                 if x in dic_map_m2h] \n",
    "\n",
    "# ind_select = (temp_df['Pearson correlation with nuclear radius ( r )']<-0.8) & \\\n",
    "#                 (temp_df['correlation adj.P.val']<0.01)\n",
    "# dic_gs['size_neg_meittinen'] = [dic_map_m2h[x] for x in temp_df.loc[ind_select, 'Gene_Name']\n",
    "#                                 if x in dic_map_m2h] \n",
    "\n",
    "# # \n",
    "# ind_select = (temp_df['[Cdk1Flox/Flox_Pre-PH] vs [Cdk1Liv-/-_Pre-PH] logFC']>0.5) & \\\n",
    "#                 (temp_df['[Cdk1Flox/Flox_Pre-PH] vs [Cdk1Liv-/-_Pre-PH] adj.P.val']<0.01)\n",
    "# dic_gs['ctrl_vs_case_prePH'] = [dic_map_m2h[x] for x in temp_df.loc[ind_select, 'Gene_Name']\n",
    "#                                 if x in dic_map_m2h]\n",
    "\n",
    "# ind_select = (temp_df['[Cdk1Flox/Flox_Pre-PH] vs [Cdk1Liv-/-_Pre-PH] logFC']<-0.5) & \\\n",
    "#                 (temp_df['[Cdk1Flox/Flox_Pre-PH] vs [Cdk1Liv-/-_Pre-PH] adj.P.val']<0.01)\n",
    "# dic_gs['case_vs_ctrl_prePH'] = [dic_map_m2h[x] for x in temp_df.loc[ind_select, 'Gene_Name']\n",
    "#                                 if x in dic_map_m2h]\n",
    "\n",
    "# \n",
    "ind_select = (temp_df['[Cdk1Flox/Flox_96hPH] vs [Cdk1Liv-/-_96hPH] logFC']>0.5) & \\\n",
    "                (temp_df['[Cdk1Flox/Flox_96hPH] vs [Cdk1Liv-/-_96hPH] adj.P.val']<0.01)\n",
    "dic_gs['ctrl_vs_case_96hPH'] = [dic_map_m2h[x] for x in temp_df.loc[ind_select, 'Gene_Name']\n",
    "                                if x in dic_map_m2h]\n",
    "\n",
    "ind_select = (temp_df['[Cdk1Flox/Flox_96hPH] vs [Cdk1Liv-/-_96hPH] logFC']<-0.5) & \\\n",
    "                (temp_df['[Cdk1Flox/Flox_96hPH] vs [Cdk1Liv-/-_96hPH] adj.P.val']<0.01)\n",
    "dic_gs['case_vs_ctrl_96hPH'] = [dic_map_m2h[x] for x in temp_df.loc[ind_select, 'Gene_Name'] \n",
    "                               if x in dic_map_m2h] \n",
    "\n",
    "\n",
    "\n",
    "# \n",
    "ind_select = (temp_df['[Cdk1Liv-/-_Pre-PH] vs [Cdk1Liv-/-_96hPH] logFC']>0.5) & \\\n",
    "                (temp_df['[Cdk1Liv-/-_Pre-PH] vs [Cdk1Liv-/-_96hPH] adj.P.val']<0.01)\n",
    "dic_gs['case_prePH_vs_96hPH'] = [dic_map_m2h[x] for x in temp_df.loc[ind_select, 'Gene_Name'] \n",
    "                                 if x in dic_map_m2h]\n",
    "\n",
    "ind_select = (temp_df['[Cdk1Liv-/-_Pre-PH] vs [Cdk1Liv-/-_96hPH] logFC']<-0.5) & \\\n",
    "                (temp_df['[Cdk1Liv-/-_Pre-PH] vs [Cdk1Liv-/-_96hPH] adj.P.val']<0.01)\n",
    "dic_gs['case_96hPH_vs_prePH'] = [dic_map_m2h[x] for x in temp_df.loc[ind_select, 'Gene_Name'] \n",
    "                                 if x in dic_map_m2h]\n",
    "\n",
    "dic_gs['large_vs_small'] = temp_df.sort_values('log2FoldChange(Largest vs smallest)')['Gene_Name'][:500]\n",
    "dic_gs['large_vs_small'] = [dic_map_m2h[x] for x in dic_gs['large_vs_small'] \n",
    "                            if x in dic_map_m2h] "
   ]
  },
  {
   "cell_type": "code",
   "execution_count": 12,
   "metadata": {},
   "outputs": [
    {
     "name": "stdout",
     "output_type": "stream",
     "text": [
      "hep4n_richter 144 overlap with hep4n_richtor 144 overlap with hep2n_richtor 0\n",
      "hep2n_richter 134 overlap with hep4n_richtor 0 overlap with hep2n_richtor 134\n",
      "ctrl_vs_case_96hPH 509 overlap with hep4n_richtor 1 overlap with hep2n_richtor 12\n",
      "case_vs_ctrl_96hPH 399 overlap with hep4n_richtor 30 overlap with hep2n_richtor 7\n",
      "case_prePH_vs_96hPH 784 overlap with hep4n_richtor 3 overlap with hep2n_richtor 20\n",
      "case_96hPH_vs_prePH 472 overlap with hep4n_richtor 39 overlap with hep2n_richtor 5\n",
      "large_vs_small 261 overlap with hep4n_richtor 16 overlap with hep2n_richtor 1\n"
     ]
    }
   ],
   "source": [
    "for term in dic_gs:\n",
    "    print(term, len(dic_gs[term]), \n",
    "          'overlap with hep4n_richtor', len(set(dic_gs[term]) & set(dic_gs['hep4n_richter'])),\n",
    "          'overlap with hep2n_richtor', len(set(dic_gs[term]) & set(dic_gs['hep2n_richter'])))"
   ]
  },
  {
   "cell_type": "code",
   "execution_count": 18,
   "metadata": {},
   "outputs": [],
   "source": [
    "df_gs = pd.DataFrame(columns=['TRAIT', 'GENESET'])\n",
    "for term in dic_gs:\n",
    "    df_gs.loc[term] = [term, ','.join(dic_gs[term])]\n",
    "df_gs.to_csv('/n/holystore01/LABS/price_lab/Users/mjzhang/scTRS_data/gs_file/ploidy.gs',\n",
    "             sep='\\t', index=False)"
   ]
  },
  {
   "cell_type": "markdown",
   "metadata": {},
   "source": [
    "### Old code "
   ]
  }
 ],
 "metadata": {
  "kernelspec": {
   "display_name": "Python 3",
   "language": "python",
   "name": "python3"
  },
  "language_info": {
   "codemirror_mode": {
    "name": "ipython",
    "version": 3
   },
   "file_extension": ".py",
   "mimetype": "text/x-python",
   "name": "python",
   "nbconvert_exporter": "python",
   "pygments_lexer": "ipython3",
   "version": "3.7.2"
  }
 },
 "nbformat": 4,
 "nbformat_minor": 4
}
