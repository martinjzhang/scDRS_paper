{
 "cells": [
  {
   "cell_type": "code",
   "execution_count": 1,
   "metadata": {},
   "outputs": [],
   "source": [
    "import scanpy as sc\n",
    "from anndata import read_h5ad\n",
    "import pandas as pd\n",
    "import numpy as np\n",
    "import os\n",
    "from os.path import join\n",
    "import time\n",
    "import argparse\n",
    "\n",
    "# inhouse tools\n",
    "import scdrs.util as util\n",
    "import scdrs.data_loader as dl\n",
    "import scdrs.method as md\n",
    "\n",
    "#  autoreload\n",
    "%load_ext autoreload\n",
    "%autoreload 2"
   ]
  },
  {
   "cell_type": "code",
   "execution_count": 5,
   "metadata": {},
   "outputs": [],
   "source": [
    "# tms_facs \n",
    "H5AD_FILE='/n/holystore01/LABS/price_lab/Users/mjzhang/scDRS_data/tabula_muris_senis/'\\\n",
    "            'tabula-muris-senis-facs-official-raw-obj.h5ad'\n",
    "adata = read_h5ad(H5AD_FILE)\n",
    "\n",
    "sc.pp.filter_cells(adata, min_genes=250)\n",
    "sc.pp.filter_genes(adata, min_cells=50)\n",
    "\n",
    "sc.pp.normalize_per_cell(adata, counts_per_cell_after=1e6)\n",
    "sc.pp.log1p(adata)\n",
    "\n",
    "adata.write('/n/holystore01/LABS/price_lab/Users/mjzhang/scDRS_data/single_cell_data/tms_proc/'\\\n",
    "            'tms_facs.logtpm.h5ad')"
   ]
  },
  {
   "cell_type": "code",
   "execution_count": 2,
   "metadata": {},
   "outputs": [],
   "source": [
    "# # tms_facs \n",
    "# H5AD_FILE='/n/holystore01/LABS/price_lab/Users/mjzhang/scDRS_data/tabula_muris_senis/'\\\n",
    "#             'tabula-muris-senis-facs-official-raw-obj.h5ad'\n",
    "# adata = read_h5ad(H5AD_FILE)\n",
    "# df_cov = pd.DataFrame(index=adata.obs.index)\n",
    "# df_cov['const'] = 1\n",
    "# df_cov['n_genes'] = adata.obs['n_genes']\n",
    "# df_cov['sex_male'] = (adata.obs['sex']=='male')*1\n",
    "# df_cov['age'] = [int(x.replace('m','')) for x in adata.obs['age']]\n",
    "# df_cov.to_csv('/n/holystore01/LABS/price_lab/Users/mjzhang/scDRS_data/tabula_muris_senis/tms_facs.cov', sep='\\t')"
   ]
  },
  {
   "cell_type": "code",
   "execution_count": 9,
   "metadata": {},
   "outputs": [],
   "source": [
    "# # tms_facs \n",
    "# H5AD_FILE='/n/holystore01/LABS/price_lab/Users/mjzhang/scDRS_data/tabula_muris_senis/'\\\n",
    "#             'tabula-muris-senis-facs-official-raw-obj.h5ad'\n",
    "# adata = read_h5ad(H5AD_FILE)\n",
    "# df_cov = pd.DataFrame(index=adata.obs.index)\n",
    "# df_cov['const'] = 1\n",
    "# df_cov['n_genes'] = adata.obs['n_genes']\n",
    "# for mouse in sorted(set(adata.obs['mouse.id'])):\n",
    "#     if mouse!='3_8_M':\n",
    "#         df_cov['mouse_%s'%mouse] = (adata.obs['mouse.id']==mouse)*1  \n",
    "# df_cov.to_csv('/n/holystore01/LABS/price_lab/Users/mjzhang/scDRS_data/tabula_muris_senis/tms_facs_mouseid.cov',\n",
    "#               sep='\\t')"
   ]
  },
  {
   "cell_type": "code",
   "execution_count": 9,
   "metadata": {},
   "outputs": [
    {
     "data": {
      "text/plain": [
       "120"
      ]
     },
     "execution_count": 9,
     "metadata": {},
     "output_type": "execute_result"
    }
   ],
   "source": [
    "temp_df = adata.obs.groupby('cell_ontology_class').agg({'cell':len})\n",
    "(temp_df['cell']>0).sum()"
   ]
  },
  {
   "cell_type": "code",
   "execution_count": 10,
   "metadata": {},
   "outputs": [
    {
     "data": {
      "text/plain": [
       "4"
      ]
     },
     "execution_count": 10,
     "metadata": {},
     "output_type": "execute_result"
    }
   ],
   "source": [
    "temp_df['cell'].min()"
   ]
  },
  {
   "cell_type": "code",
   "execution_count": 12,
   "metadata": {},
   "outputs": [
    {
     "data": {
      "text/plain": [
       "110096"
      ]
     },
     "execution_count": 12,
     "metadata": {},
     "output_type": "execute_result"
    }
   ],
   "source": [
    "ind_select = adata.obs['age'].isin(['3m', '18m', '24m'])\n",
    "ind_select.sum()"
   ]
  },
  {
   "cell_type": "code",
   "execution_count": 13,
   "metadata": {},
   "outputs": [
    {
     "data": {
      "text/html": [
       "<div>\n",
       "<style scoped>\n",
       "    .dataframe tbody tr th:only-of-type {\n",
       "        vertical-align: middle;\n",
       "    }\n",
       "\n",
       "    .dataframe tbody tr th {\n",
       "        vertical-align: top;\n",
       "    }\n",
       "\n",
       "    .dataframe thead th {\n",
       "        text-align: right;\n",
       "    }\n",
       "</style>\n",
       "<table border=\"1\" class=\"dataframe\">\n",
       "  <thead>\n",
       "    <tr style=\"text-align: right;\">\n",
       "      <th></th>\n",
       "      <th>cell</th>\n",
       "    </tr>\n",
       "    <tr>\n",
       "      <th>cell_ontology_class</th>\n",
       "      <th></th>\n",
       "    </tr>\n",
       "  </thead>\n",
       "  <tbody>\n",
       "    <tr>\n",
       "      <th>Bergmann glial cell</th>\n",
       "      <td>54</td>\n",
       "    </tr>\n",
       "    <tr>\n",
       "      <th>basophil</th>\n",
       "      <td>71</td>\n",
       "    </tr>\n",
       "    <tr>\n",
       "      <th>ciliated columnar cell of tracheobronchial tree</th>\n",
       "      <td>70</td>\n",
       "    </tr>\n",
       "    <tr>\n",
       "      <th>club cell of bronchiole</th>\n",
       "      <td>22</td>\n",
       "    </tr>\n",
       "    <tr>\n",
       "      <th>dendritic cell</th>\n",
       "      <td>62</td>\n",
       "    </tr>\n",
       "    <tr>\n",
       "      <th>early pro-B cell</th>\n",
       "      <td>72</td>\n",
       "    </tr>\n",
       "    <tr>\n",
       "      <th>endothelial cell of lymphatic vessel</th>\n",
       "      <td>99</td>\n",
       "    </tr>\n",
       "    <tr>\n",
       "      <th>ependymal cell</th>\n",
       "      <td>55</td>\n",
       "    </tr>\n",
       "    <tr>\n",
       "      <th>fibrocyte</th>\n",
       "      <td>44</td>\n",
       "    </tr>\n",
       "    <tr>\n",
       "      <th>intermediate monocyte</th>\n",
       "      <td>12</td>\n",
       "    </tr>\n",
       "    <tr>\n",
       "      <th>keratinocyte stem cell</th>\n",
       "      <td>35</td>\n",
       "    </tr>\n",
       "    <tr>\n",
       "      <th>kidney interstitial fibroblast</th>\n",
       "      <td>16</td>\n",
       "    </tr>\n",
       "    <tr>\n",
       "      <th>lung macrophage</th>\n",
       "      <td>9</td>\n",
       "    </tr>\n",
       "    <tr>\n",
       "      <th>lung neuroendocrine cell</th>\n",
       "      <td>4</td>\n",
       "    </tr>\n",
       "    <tr>\n",
       "      <th>lymphocyte</th>\n",
       "      <td>10</td>\n",
       "    </tr>\n",
       "    <tr>\n",
       "      <th>lymphoid progenitor cell</th>\n",
       "      <td>13</td>\n",
       "    </tr>\n",
       "    <tr>\n",
       "      <th>megakaryocyte-erythroid progenitor cell</th>\n",
       "      <td>80</td>\n",
       "    </tr>\n",
       "    <tr>\n",
       "      <th>mesangial cell</th>\n",
       "      <td>93</td>\n",
       "    </tr>\n",
       "    <tr>\n",
       "      <th>mucus secreting cell</th>\n",
       "      <td>73</td>\n",
       "    </tr>\n",
       "    <tr>\n",
       "      <th>neuronal stem cell</th>\n",
       "      <td>97</td>\n",
       "    </tr>\n",
       "    <tr>\n",
       "      <th>pancreatic PP cell</th>\n",
       "      <td>71</td>\n",
       "    </tr>\n",
       "    <tr>\n",
       "      <th>pancreatic stellate cell</th>\n",
       "      <td>48</td>\n",
       "    </tr>\n",
       "    <tr>\n",
       "      <th>pericyte cell</th>\n",
       "      <td>38</td>\n",
       "    </tr>\n",
       "    <tr>\n",
       "      <th>plasma cell</th>\n",
       "      <td>25</td>\n",
       "    </tr>\n",
       "    <tr>\n",
       "      <th>plasmacytoid dendritic cell</th>\n",
       "      <td>6</td>\n",
       "    </tr>\n",
       "    <tr>\n",
       "      <th>pulmonary interstitial fibroblast</th>\n",
       "      <td>50</td>\n",
       "    </tr>\n",
       "    <tr>\n",
       "      <th>regulatory T cell</th>\n",
       "      <td>47</td>\n",
       "    </tr>\n",
       "    <tr>\n",
       "      <th>respiratory basal cell</th>\n",
       "      <td>34</td>\n",
       "    </tr>\n",
       "    <tr>\n",
       "      <th>type I pneumocyte</th>\n",
       "      <td>4</td>\n",
       "    </tr>\n",
       "  </tbody>\n",
       "</table>\n",
       "</div>"
      ],
      "text/plain": [
       "                                                 cell\n",
       "cell_ontology_class                                  \n",
       "Bergmann glial cell                                54\n",
       "basophil                                           71\n",
       "ciliated columnar cell of tracheobronchial tree    70\n",
       "club cell of bronchiole                            22\n",
       "dendritic cell                                     62\n",
       "early pro-B cell                                   72\n",
       "endothelial cell of lymphatic vessel               99\n",
       "ependymal cell                                     55\n",
       "fibrocyte                                          44\n",
       "intermediate monocyte                              12\n",
       "keratinocyte stem cell                             35\n",
       "kidney interstitial fibroblast                     16\n",
       "lung macrophage                                     9\n",
       "lung neuroendocrine cell                            4\n",
       "lymphocyte                                         10\n",
       "lymphoid progenitor cell                           13\n",
       "megakaryocyte-erythroid progenitor cell            80\n",
       "mesangial cell                                     93\n",
       "mucus secreting cell                               73\n",
       "neuronal stem cell                                 97\n",
       "pancreatic PP cell                                 71\n",
       "pancreatic stellate cell                           48\n",
       "pericyte cell                                      38\n",
       "plasma cell                                        25\n",
       "plasmacytoid dendritic cell                         6\n",
       "pulmonary interstitial fibroblast                  50\n",
       "regulatory T cell                                  47\n",
       "respiratory basal cell                             34\n",
       "type I pneumocyte                                   4"
      ]
     },
     "execution_count": 13,
     "metadata": {},
     "output_type": "execute_result"
    }
   ],
   "source": [
    "temp_df.loc[temp_df['cell']<100]"
   ]
  },
  {
   "cell_type": "code",
   "execution_count": null,
   "metadata": {},
   "outputs": [],
   "source": []
  }
 ],
 "metadata": {
  "kernelspec": {
   "display_name": "Python 3",
   "language": "python",
   "name": "python3"
  },
  "language_info": {
   "codemirror_mode": {
    "name": "ipython",
    "version": 3
   },
   "file_extension": ".py",
   "mimetype": "text/x-python",
   "name": "python",
   "nbconvert_exporter": "python",
   "pygments_lexer": "ipython3",
   "version": "3.7.2"
  }
 },
 "nbformat": 4,
 "nbformat_minor": 4
}
