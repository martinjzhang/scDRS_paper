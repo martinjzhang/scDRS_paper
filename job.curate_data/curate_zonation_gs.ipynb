{
 "cells": [
  {
   "cell_type": "code",
   "execution_count": 1,
   "metadata": {},
   "outputs": [],
   "source": [
    "import numpy as np\n",
    "import pandas as pd"
   ]
  },
  {
   "cell_type": "code",
   "execution_count": 2,
   "metadata": {},
   "outputs": [],
   "source": [
    "# Table 2 \n",
    "temp_df = pd.read_excel('/n/holystore01/LABS/price_lab/Users/mjzhang/scTRS_data/single_cell_data/'\n",
    "                        'mouse_liver_halpern_nature_2017/SuppTable3_zonation.xlsx', skiprows=2, index_col=0)\n"
   ]
  },
  {
   "cell_type": "code",
   "execution_count": 3,
   "metadata": {},
   "outputs": [],
   "source": [
    "df_hom = pd.read_csv('/n/holystore01/LABS/price_lab/Users/mjzhang/scTRS_data/gene_annotation/'\n",
    "                     'mouse_human_homologs.txt', sep='\\t')\n",
    "dic_map = {x:y for x,y in zip(df_hom['MOUSE_GENE_SYM'], df_hom['HUMAN_GENE_SYM'])}\n",
    "\n",
    "def convert_gene(x, dic_map):\n",
    "    for gene in str(x).split(';'):\n",
    "        if gene in dic_map:\n",
    "            return dic_map[gene]\n",
    "    return 'nomap'"
   ]
  },
  {
   "cell_type": "code",
   "execution_count": 4,
   "metadata": {},
   "outputs": [],
   "source": [
    "df_zon = temp_df.loc[temp_df['q-values']<0.01]\n",
    "df_zon.index = [convert_gene(x, dic_map) for x in df_zon.index]\n",
    "df_zon = df_zon[['Layer %d'%x for x in range(1,10)]]\n",
    "df_zon['Corr'] = [np.corrcoef(df_zon.loc[x], np.arange(9))[0,1] for x in df_zon.index]\n",
    "df_zon['MeanExpr'] = df_zon[['Layer %d'%x for x in range(1,10)]].max(axis=1)\n",
    "df_zon = df_zon.loc[(df_zon['MeanExpr']>0.0001) & (np.absolute(df_zon['Corr'])>0.6)]\n",
    "df_zon.sort_values('Corr', inplace=True)\n",
    "\n",
    "dic_gs = {}\n",
    "dic_gs['CV'] = list(df_zon.index[df_zon['Corr']<0])\n",
    "dic_gs['PN'] = list(df_zon.index[df_zon['Corr']>0])"
   ]
  },
  {
   "cell_type": "code",
   "execution_count": 5,
   "metadata": {},
   "outputs": [],
   "source": [
    "df_gs = pd.DataFrame(columns=['TRAIT', 'GENESET'])\n",
    "for term in dic_gs:\n",
    "    df_gs.loc[term] = [term, ','.join(dic_gs[term])]\n",
    "df_gs.to_csv('/n/holystore01/LABS/price_lab/Users/mjzhang/scTRS_data/gs_file/zonation_halpern_2017.gs',\n",
    "             sep='\\t', index=False)"
   ]
  },
  {
   "cell_type": "code",
   "execution_count": 6,
   "metadata": {},
   "outputs": [
    {
     "data": {
      "text/html": [
       "<div>\n",
       "<style scoped>\n",
       "    .dataframe tbody tr th:only-of-type {\n",
       "        vertical-align: middle;\n",
       "    }\n",
       "\n",
       "    .dataframe tbody tr th {\n",
       "        vertical-align: top;\n",
       "    }\n",
       "\n",
       "    .dataframe thead th {\n",
       "        text-align: right;\n",
       "    }\n",
       "</style>\n",
       "<table border=\"1\" class=\"dataframe\">\n",
       "  <thead>\n",
       "    <tr style=\"text-align: right;\">\n",
       "      <th></th>\n",
       "      <th>TRAIT</th>\n",
       "      <th>GENESET</th>\n",
       "    </tr>\n",
       "  </thead>\n",
       "  <tbody>\n",
       "    <tr>\n",
       "      <th>CV</th>\n",
       "      <td>CV</td>\n",
       "      <td>RPS18,SMARCA2,ACOT2,KLF13,PPARA,FERMT2,PSMD4,C...</td>\n",
       "    </tr>\n",
       "    <tr>\n",
       "      <th>PN</th>\n",
       "      <td>PN</td>\n",
       "      <td>SCD,ST3GAL5,TAT,SDHC,ARG1,LEAP2,CCDC142,CXCL12...</td>\n",
       "    </tr>\n",
       "  </tbody>\n",
       "</table>\n",
       "</div>"
      ],
      "text/plain": [
       "   TRAIT                                            GENESET\n",
       "CV    CV  RPS18,SMARCA2,ACOT2,KLF13,PPARA,FERMT2,PSMD4,C...\n",
       "PN    PN  SCD,ST3GAL5,TAT,SDHC,ARG1,LEAP2,CCDC142,CXCL12..."
      ]
     },
     "execution_count": 6,
     "metadata": {},
     "output_type": "execute_result"
    }
   ],
   "source": [
    "df_gs"
   ]
  },
  {
   "cell_type": "code",
   "execution_count": null,
   "metadata": {},
   "outputs": [],
   "source": []
  }
 ],
 "metadata": {
  "kernelspec": {
   "display_name": "Python 3",
   "language": "python",
   "name": "python3"
  },
  "language_info": {
   "codemirror_mode": {
    "name": "ipython",
    "version": 3
   },
   "file_extension": ".py",
   "mimetype": "text/x-python",
   "name": "python",
   "nbconvert_exporter": "python",
   "pygments_lexer": "ipython3",
   "version": "3.7.2"
  }
 },
 "nbformat": 4,
 "nbformat_minor": 4
}
