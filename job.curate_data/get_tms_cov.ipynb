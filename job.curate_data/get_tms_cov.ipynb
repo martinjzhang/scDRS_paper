{
 "cells": [
  {
   "cell_type": "code",
   "execution_count": 2,
   "metadata": {},
   "outputs": [],
   "source": [
    "import scanpy as sc\n",
    "from anndata import read_h5ad\n",
    "import pandas as pd\n",
    "import numpy as np\n",
    "import os\n",
    "from os.path import join\n",
    "import time\n",
    "import argparse\n",
    "\n",
    "# inhouse tools\n",
    "import scdrs.util as util\n",
    "import scdrs.data_loader as dl\n",
    "import scdrs.method as md\n",
    "\n",
    "#  autoreload\n",
    "%load_ext autoreload\n",
    "%autoreload 2"
   ]
  },
  {
   "cell_type": "code",
   "execution_count": 2,
   "metadata": {},
   "outputs": [],
   "source": [
    "# # tms_facs \n",
    "# H5AD_FILE='/n/holystore01/LABS/price_lab/Users/mjzhang/scDRS_data/tabula_muris_senis/'\\\n",
    "#             'tabula-muris-senis-facs-official-raw-obj.h5ad'\n",
    "# adata = read_h5ad(H5AD_FILE)\n",
    "# df_cov = pd.DataFrame(index=adata.obs.index)\n",
    "# df_cov['const'] = 1\n",
    "# df_cov['n_genes'] = adata.obs['n_genes']\n",
    "# df_cov['sex_male'] = (adata.obs['sex']=='male')*1\n",
    "# df_cov['age'] = [int(x.replace('m','')) for x in adata.obs['age']]\n",
    "# df_cov.to_csv('/n/holystore01/LABS/price_lab/Users/mjzhang/scDRS_data/tabula_muris_senis/tms_facs.cov', sep='\\t')"
   ]
  },
  {
   "cell_type": "code",
   "execution_count": 9,
   "metadata": {},
   "outputs": [],
   "source": [
    "# tms_facs \n",
    "H5AD_FILE='/n/holystore01/LABS/price_lab/Users/mjzhang/scDRS_data/tabula_muris_senis/'\\\n",
    "            'tabula-muris-senis-facs-official-raw-obj.h5ad'\n",
    "adata = read_h5ad(H5AD_FILE)\n",
    "df_cov = pd.DataFrame(index=adata.obs.index)\n",
    "df_cov['const'] = 1\n",
    "df_cov['n_genes'] = adata.obs['n_genes']\n",
    "for mouse in sorted(set(adata.obs['mouse.id'])):\n",
    "    if mouse!='3_8_M':\n",
    "        df_cov['mouse_%s'%mouse] = (adata.obs['mouse.id']==mouse)*1  \n",
    "df_cov.to_csv('/n/holystore01/LABS/price_lab/Users/mjzhang/scDRS_data/tabula_muris_senis/tms_facs_mouseid.cov',\n",
    "              sep='\\t')"
   ]
  },
  {
   "cell_type": "code",
   "execution_count": 5,
   "metadata": {},
   "outputs": [
    {
     "data": {
      "text/plain": [
       "index\n",
       "A10_B000497_B009023_S10.mm10-plus-0-0    18_53_M\n",
       "A10_B000756_B007446_S10.mm10-plus-0-0    18_45_M\n",
       "A10_B000802_B009022_S10.mm10-plus-0-0    18_47_F\n",
       "A10_B000927_B007456_S10.mm10-plus-0-0    18_46_F\n",
       "A10_B001361_B007505_S10.mm10-plus-0-0    18_46_F\n",
       "                                          ...   \n",
       "P8_MAA001690_S20.mus-2-1                 21_54_F\n",
       "P8_MAA001700_S104.mus-2-1                21_55_F\n",
       "P9_B000485_S69.mus-2-1                   18_47_F\n",
       "P9_B000492_S153.mus-2-1                  18_46_F\n",
       "P9_MAA001700_S105.mus-2-1                21_55_F\n",
       "Name: mouse.id, Length: 110824, dtype: category\n",
       "Categories (21, object): [3_8_M, 3_9_M, 3_10_M, 3_10_M/3_11_M, ..., 24_58_M, 24_59_M, 24_60_M, 24_61_M]"
      ]
     },
     "execution_count": 5,
     "metadata": {},
     "output_type": "execute_result"
    }
   ],
   "source": [
    "adata.obs['mouse.id']"
   ]
  },
  {
   "cell_type": "code",
   "execution_count": 4,
   "metadata": {},
   "outputs": [],
   "source": [
    "# # tms_droplet\n",
    "# H5AD_FILE='/n/holystore01/LABS/price_lab/Users/mjzhang/scDRS_data/tabula_muris_senis/'\\\n",
    "#             'tabula-muris-senis-droplet-official-raw-obj.h5ad'\n",
    "# adata = read_h5ad(H5AD_FILE)\n",
    "# df_cov = pd.DataFrame(index=adata.obs.index)\n",
    "# df_cov['const'] = 1\n",
    "# df_cov['n_genes'] = adata.obs['n_genes']\n",
    "# df_cov['sex_male'] = (adata.obs['sex']=='male')*1\n",
    "# df_cov['age'] = [int(x.replace('m','')) for x in adata.obs['age']]\n",
    "# df_cov.to_csv('/n/holystore01/LABS/price_lab/Users/mjzhang/scDRS_data/tabula_muris_senis/tms_droplet.cov', sep='\\t')"
   ]
  },
  {
   "cell_type": "code",
   "execution_count": null,
   "metadata": {},
   "outputs": [],
   "source": []
  }
 ],
 "metadata": {
  "kernelspec": {
   "display_name": "Python 3",
   "language": "python",
   "name": "python3"
  },
  "language_info": {
   "codemirror_mode": {
    "name": "ipython",
    "version": 3
   },
   "file_extension": ".py",
   "mimetype": "text/x-python",
   "name": "python",
   "nbconvert_exporter": "python",
   "pygments_lexer": "ipython3",
   "version": "3.7.2"
  }
 },
 "nbformat": 4,
 "nbformat_minor": 4
}
