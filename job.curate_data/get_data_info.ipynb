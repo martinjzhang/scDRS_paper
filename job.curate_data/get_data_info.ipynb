{
 "cells": [
  {
   "cell_type": "code",
   "execution_count": 1,
   "metadata": {},
   "outputs": [],
   "source": [
    "import pandas as pd\n",
    "import scanpy as sc\n",
    "\n",
    "# scTRS tools\n",
    "import scdrs.util as util\n",
    "import scdrs.data_loader as dl\n",
    "import scdrs.method as md\n",
    "\n",
    "# autoreload\n",
    "%load_ext autoreload\n",
    "%autoreload 2"
   ]
  },
  {
   "cell_type": "code",
   "execution_count": 2,
   "metadata": {},
   "outputs": [],
   "source": [
    "DATA_PATH = '/n/holystore01/LABS/price_lab/Users/mjzhang/scDRS_data'\n",
    "OUT_FILE = '/n/holystore01/LABS/price_lab/Users/mjzhang/scDRS_data/supp_table/data_info.tsv'"
   ]
  },
  {
   "cell_type": "code",
   "execution_count": 4,
   "metadata": {
    "scrolled": true
   },
   "outputs": [
    {
     "name": "stderr",
     "output_type": "stream",
     "text": [
      "Trying to set attribute `.obs` of view, copying.\n"
     ]
    }
   ],
   "source": [
    "df_info = pd.DataFrame(columns=['Data set', 'Species', 'Number of cells', 'Tissues', 'Cell types'])\n",
    "\n",
    "# TMS FACS\n",
    "dname = 'TMS FACS'\n",
    "species = 'Mus musculus'\n",
    "adata = dl.load_tms_ct(DATA_PATH, data_name='facs')\n",
    "df_info.loc[dname] = [dname, species, adata.shape[0], ';'.join(sorted(set(adata.obs['tissue']))),\n",
    "                      ';'.join(sorted(set(adata.obs['cell_ontology_class'])))]\n",
    "\n",
    "# TMS Droplet\n",
    "dname = 'TMS Droplet'\n",
    "species = 'Mus musculus'\n",
    "adata = dl.load_tms_ct(DATA_PATH, data_name='droplet')\n",
    "df_info.loc[dname] = [dname, species, adata.shape[0], ';'.join(sorted(set(adata.obs['tissue']))),\n",
    "                      ';'.join(sorted(set(adata.obs['cell_ontology_class'])))]\n",
    "\n",
    "# TS FACS\n",
    "dname = 'TS FACS'\n",
    "species = 'Homo sapiens'\n",
    "adata =  dl.load_ts_facs(DATA_PATH, opt='raw', flag_size_factor=False, flag_log1p=False)\n",
    "df_info.loc[dname] = [dname, species, adata.shape[0], ';'.join(sorted(set(adata.obs['organ_tissue']))),\n",
    "                      ';'.join(sorted(set(adata.obs['cell_ontology_class'])))]\n",
    "\n",
    "# Cano-Gamez and Soskic\n",
    "dname = 'Cano-Gamez & Soskic'\n",
    "species = 'Homo sapiens'\n",
    "adata =  dl.load_canogamez(DATA_PATH, opt='raw', flag_size_factor=False, flag_log1p=False)\n",
    "df_info.loc[dname] = [dname, species, adata.shape[0], 'Blood', ';'.join(sorted(set(adata.obs['cluster.id'])))]\n",
    "\n",
    "# Nathan\n",
    "dname = 'Nathan'\n",
    "species = 'Homo sapiens'\n",
    "adata =  dl.load_nathan(DATA_PATH, opt='raw', flag_size_factor=False, flag_log1p=False)\n",
    "df_info.loc[dname] = [dname, species, adata.shape[0], 'Blood', ';'.join(sorted(set(adata.obs['cluster_name'])))]\n",
    "\n",
    "# Aizarani\n",
    "dname = 'Aizarani'\n",
    "species = 'Homo sapiens'\n",
    "adata =  dl.load_aizarani(DATA_PATH, opt='raw', flag_size_factor=False, flag_log1p=False)\n",
    "df_info.loc[dname] = [dname, species, adata.shape[0], 'Liver', ';'.join(sorted(set(adata.obs['celltype'])))]\n",
    "\n",
    "# Halpern and Shenhav\n",
    "dname = 'Halpern & Shenhav'\n",
    "species = 'Mus musculus'\n",
    "adata =  dl.load_halpern(DATA_PATH, opt='raw', flag_size_factor=False, flag_log1p=False)\n",
    "df_info.loc[dname] = [dname, species, adata.shape[0], 'Liver', 'Hepatocyte']\n",
    "\n",
    "# Richter and Deligiannis\n",
    "dname = 'Richter & Deligiannis'\n",
    "species = 'Mus musculus'\n",
    "adata =  dl.load_richter(DATA_PATH, opt='raw', flag_size_factor=False, flag_log1p=False)\n",
    "df_info.loc[dname] = [dname, species, adata.shape[0], 'Liver', 'Hepatocyte']\n",
    "\n",
    "# Rao\n",
    "dname = 'Rao'\n",
    "species = 'Mus musculus'\n",
    "adata =  dl.load_rao(DATA_PATH, opt='raw', flag_size_factor=False, flag_log1p=False)\n",
    "df_info.loc[dname] = [dname, species, adata.shape[0], 'Liver', \n",
    "                      ';'.join(sorted(set(adata.obs['annotated.idents'])))]"
   ]
  },
  {
   "cell_type": "code",
   "execution_count": 5,
   "metadata": {},
   "outputs": [
    {
     "name": "stdout",
     "output_type": "stream",
     "text": [
      "# TMS FACS\tn_cell=110096\tn_tissue=23\tn_celltype=120\n",
      "# Total\tn_cell=110096\tn_tissue=23\tn_celltype=120\n"
     ]
    }
   ],
   "source": [
    "tissue_list = []\n",
    "celltype_list = []\n",
    "for dname in df_info.index:\n",
    "    temp_tissue_list = df_info.loc[dname, 'Tissues'].split(';')\n",
    "    temp_celltype_list = df_info.loc[dname, 'Cell types'].split(';')\n",
    "    tissue_list += temp_tissue_list\n",
    "    celltype_list += temp_celltype_list\n",
    "    print('# %s\\tn_cell=%d\\tn_tissue=%d\\tn_celltype=%d'\n",
    "          %(dname, df_info.loc[dname, 'Number of cells'], len(temp_tissue_list), len(temp_celltype_list)))\n",
    "\n",
    "tissue_list = sorted(set(tissue_list))\n",
    "celltype_list = sorted(set(celltype_list))\n",
    "print('# Total\\tn_cell=%d\\tn_tissue=%d\\tn_celltype=%d'\n",
    "      %(df_info['Number of cells'].sum(), len(tissue_list), len(celltype_list)) )\n",
    "\n",
    "df_info.to_csv(OUT_FILE, sep='\\t')"
   ]
  },
  {
   "cell_type": "code",
   "execution_count": 8,
   "metadata": {},
   "outputs": [
    {
     "name": "stdout",
     "output_type": "stream",
     "text": [
      "Aorta, BAT, Bladder, Brain_Myeloid, Brain_Non-Myeloid, Diaphragm, GAT, Heart, Kidney, Large_Intestine, Limb_Muscle, Liver, Lung, MAT, Mammary_Gland, Marrow, Pancreas, SCAT, Skin, Spleen, Thymus, Tongue, Trachea\n"
     ]
    }
   ],
   "source": [
    "tissue_list = []\n",
    "for ds in df_info.index:\n",
    "    tissue_list.extend(df_info.loc[ds, 'Tissues'].split(';'))\n",
    "tissue_list = sorted(set(tissue_list))\n",
    "print(', '.join(tissue_list))"
   ]
  },
  {
   "cell_type": "code",
   "execution_count": 27,
   "metadata": {},
   "outputs": [
    {
     "name": "stderr",
     "output_type": "stream",
     "text": [
      "Trying to set attribute `.obs` of view, copying.\n"
     ]
    },
    {
     "name": "stdout",
     "output_type": "stream",
     "text": [
      "Top 1  TMS FACS cell types: 12.1%\n",
      "Top 5  TMS FACS cell types: 29.8%\n",
      "Top 10 TMS FACS cell types: 44.2%\n"
     ]
    }
   ],
   "source": [
    "# Balancenes of TMS FACS\n",
    "dname = 'TMS FACS'\n",
    "adata = dl.load_tms_ct(DATA_PATH, data_name='facs')\n",
    "temp_df = adata.obs.groupby('cell_ontology_class').agg({'cell':len})\n",
    "temp_df = temp_df.sort_values('cell', ascending=False) / adata.shape[0]\n",
    "for top in [1,5,10]:\n",
    "    print('Top %-2d %s cell types: %.1f%%'%(top, dname, temp_df['cell'][:top].sum()*100))"
   ]
  }
 ],
 "metadata": {
  "kernelspec": {
   "display_name": "Python 3",
   "language": "python",
   "name": "python3"
  },
  "language_info": {
   "codemirror_mode": {
    "name": "ipython",
    "version": 3
   },
   "file_extension": ".py",
   "mimetype": "text/x-python",
   "name": "python",
   "nbconvert_exporter": "python",
   "pygments_lexer": "ipython3",
   "version": "3.7.2"
  }
 },
 "nbformat": 4,
 "nbformat_minor": 4
}
