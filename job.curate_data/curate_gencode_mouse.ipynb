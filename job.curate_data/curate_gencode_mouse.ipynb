{
 "cells": [
  {
   "cell_type": "code",
   "execution_count": 1,
   "metadata": {},
   "outputs": [],
   "source": [
    "import numpy as np\n",
    "import pandas as pd"
   ]
  },
  {
   "cell_type": "code",
   "execution_count": 7,
   "metadata": {},
   "outputs": [],
   "source": [
    "DATA_PATH = '/n/holystore01/LABS/price_lab/Users/mjzhang/scTRS_data/gene_annotation'\n",
    "temp_df = pd.read_csv(DATA_PATH+'/gencode.vM27.chr_patch_hapl_scaff.basic.annotation.gtf.gz',\n",
    "                      skiprows=5, sep='\\t', header=None)"
   ]
  },
  {
   "cell_type": "code",
   "execution_count": 35,
   "metadata": {},
   "outputs": [],
   "source": [
    "def get_id(x):\n",
    "    for term in x.split(';'):\n",
    "        if 'gene_id' in term:\n",
    "            return term.replace('gene_id ','').replace('\"','').strip().split('.')[0]\n",
    "    return x\n",
    "\n",
    "def get_name(x):\n",
    "    for term in x.split(';'):\n",
    "        if 'gene_name' in term:\n",
    "            return term.replace('gene_name ','').replace('\"','').strip()\n",
    "    return x\n",
    "\n",
    "def get_type(x):\n",
    "    for term in x.split(';'):\n",
    "        if 'gene_type' in term:\n",
    "            return term.replace('gene_type ','').replace('\"','').strip()\n",
    "    return x\n",
    "\n",
    "df_clean = temp_df.loc[(temp_df[1]=='HAVANA') & (temp_df[2]=='gene')].copy()\n",
    "df_clean['seqname'] = df_clean[0]\n",
    "df_clean['gene_id'] = [get_id(x) for x in df_clean[8]]\n",
    "df_clean['gene_name'] = [get_name(x) for x in df_clean[8]]\n",
    "df_clean['gene_type'] = [get_type(x) for x in df_clean[8]]\n",
    "df_clean = df_clean[['seqname', 'gene_id', 'gene_name', 'gene_type']].copy()\n",
    "df_clean.drop_duplicates(inplace=True)\n",
    "df_clean.to_csv(DATA_PATH+'/gencode.vM27.clean.tsv', sep='\\t', index=False)"
   ]
  },
  {
   "cell_type": "code",
   "execution_count": 33,
   "metadata": {},
   "outputs": [],
   "source": []
  },
  {
   "cell_type": "code",
   "execution_count": null,
   "metadata": {},
   "outputs": [],
   "source": []
  }
 ],
 "metadata": {
  "kernelspec": {
   "display_name": "Python 3",
   "language": "python",
   "name": "python3"
  },
  "language_info": {
   "codemirror_mode": {
    "name": "ipython",
    "version": 3
   },
   "file_extension": ".py",
   "mimetype": "text/x-python",
   "name": "python",
   "nbconvert_exporter": "python",
   "pygments_lexer": "ipython3",
   "version": "3.7.2"
  }
 },
 "nbformat": 4,
 "nbformat_minor": 4
}
