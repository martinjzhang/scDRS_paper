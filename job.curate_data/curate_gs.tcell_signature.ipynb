{
 "cells": [
  {
   "cell_type": "code",
   "execution_count": 1,
   "metadata": {},
   "outputs": [],
   "source": [
    "import numpy as np\n",
    "import pandas as pd\n",
    "from collections import Counter"
   ]
  },
  {
   "cell_type": "code",
   "execution_count": 2,
   "metadata": {},
   "outputs": [],
   "source": [
    "# Read msigdb immune signatures  \n",
    "DATA_PATH='/n/holystore01/LABS/price_lab/Users/mjzhang/scDRS_data'\n",
    "\n",
    "def parse_term(term):\n",
    "    study_name = term.split('_')[0]\n",
    "    reg_dir = term.split('_')[-1]\n",
    "    gs_name = term.replace('%s_'%study_name,'').replace('_%s'%reg_dir,'') \n",
    "    \n",
    "    if ('_VS_' in gs_name):\n",
    "        cond1,cond2 = gs_name.split('_VS_')\n",
    "        cond1 = '_'+cond1+'_'\n",
    "        cond2 = '_'+cond2+'_'\n",
    "    else:\n",
    "        cond1,cond2,cond1_ct,cond2_ct = 'na','na','na','na'\n",
    "    \n",
    "    return study_name,cond1,cond2,reg_dir\n",
    "    \n",
    "def read_gmt(fname):\n",
    "    dic_gs = {} \n",
    "    with open(fname,'r') as f:\n",
    "        for line in f:\n",
    "            line = line.strip().split('\\t')\n",
    "            dic_gs[line[0]] = line\n",
    "            \n",
    "    df_gs = pd.DataFrame(index=sorted(dic_gs.keys()),\n",
    "                         columns=['DNAME','COND1','COND2','DIR','TERM','GENESET','LINK'])\n",
    "    df_gs['TERM'] = df_gs.index\n",
    "    df_gs['LINK'] = [dic_gs[x][1] for x in df_gs.index]\n",
    "    df_gs['GENESET'] = [','.join(dic_gs[x][2:]) for x in df_gs.index]\n",
    "    for term in df_gs.index:\n",
    "        df_gs.loc[term,['DNAME','COND1','COND2','DIR']] = parse_term(term)\n",
    "        \n",
    "    return df_gs\n",
    "\n",
    "df_msd=read_gmt(DATA_PATH+'/gene_annotation/msigdb_v7.1_files_to_download_locally/'\n",
    "                'msigdb_v7.1_GMTs/c7.all.v7.1.symbols.gmt')"
   ]
  },
  {
   "cell_type": "code",
   "execution_count": 3,
   "metadata": {},
   "outputs": [],
   "source": [
    "# Get T cell gene sets \n",
    "def check_tcell(term):\n",
    "    BLOCK_LIST = ['NK', 'BCELL', 'MAST', 'KO', 'LCMV', 'TREATED', 'IFNA_STIM_90MIN', 'TSST_ACT',\n",
    "                  'ANTI_CD3CD28_STIM', 'SECONDARY', 'TERTIARY', 'QUATERNARY']\n",
    "    ALLOW_LIST = ['TCELL', '_T_CELL', 'TREG', '_TH1_', '_TH2_', '_TH17_', 'TCONV', '_TH0_']\n",
    "    \n",
    "    return (np.array([x in term for x in ALLOW_LIST]).sum()>0) & (np.array([x in term for x in BLOCK_LIST]).sum()==0)\n",
    "\n",
    "def get_state(cname):\n",
    "    if ('NAIVE' in cname) | ('_TH0_' in cname):\n",
    "        return 'naive'\n",
    "    elif ('EFF' in cname) | ('ACT' in cname) | ('_STIM' in cname) | ('MEM' in cname):\n",
    "        str_ = ''\n",
    "        if ('EFF' in cname) | ('ACT' in cname) | ('_STIM' in cname):\n",
    "            str_ += 'effector'\n",
    "        if 'MEM' in cname:\n",
    "            str_ += 'memory' if str_=='' else '_memory'\n",
    "        return str_\n",
    "    elif ('EXHAUSTED' in cname):\n",
    "        return 'exhausted'\n",
    "    else:\n",
    "        return 'other'\n",
    "    \n",
    "def get_subtype(cname):\n",
    "    if ('NAIVE' in cname) | ('_TH0_' in cname):\n",
    "        return 'naive'\n",
    "    elif ('TREG' in cname):\n",
    "        return 'Treg'\n",
    "    elif ('_TH1_' in cname):\n",
    "        return 'Th1'\n",
    "    elif ('_TH2_' in cname):\n",
    "        return 'Th2'\n",
    "    elif ('_TH17_' in cname):\n",
    "        return 'Th17'\n",
    "    else:\n",
    "        return 'other'\n",
    "    \n",
    "df_msd_t = df_msd.copy()\n",
    "df_msd_t['TCELL'] = [check_tcell(x) for x in df_msd_t.index]\n",
    "df_msd_t = df_msd_t.loc[df_msd_t['TCELL']].copy()\n",
    "df_msd_t['COND1_STATE'] = [get_state(x) for x in df_msd_t['COND1']]\n",
    "df_msd_t['COND2_STATE'] = [get_state(x) for x in df_msd_t['COND2']]\n",
    "df_msd_t['COND1_SUBTYPE'] = [get_subtype(x) for x in df_msd_t['COND1']]\n",
    "df_msd_t['COND2_SUBTYPE'] = [get_subtype(x) for x in df_msd_t['COND2']]\n"
   ]
  },
  {
   "cell_type": "code",
   "execution_count": 4,
   "metadata": {},
   "outputs": [],
   "source": [
    "# for ct in ['naive', 'reg', 'th1', 'th2', 'th17']:\n",
    "#     print(ct, ','.join(set(df_msd_t.loc[df_msd_t['COND1_CT']==ct, 'COND1']) | \n",
    "#                        set(df_msd_t.loc[df_msd_t['COND2_CT']==ct, 'COND2'])))\n",
    "#     print('')\n",
    "    \n",
    "# for term in set(df_msd_t.index[~df_msd_t['TCELL']]):\n",
    "#     if ('BCELL' not in term) & ('NKCELL' not in term) & ('MONOCYTE' not in term) & ('EOSINOPHIL' not in term) \\\n",
    "#         & ('MACROPHAGE' not in term):\n",
    "#         print(term)"
   ]
  },
  {
   "cell_type": "markdown",
   "metadata": {},
   "source": [
    "### Generate .gs file "
   ]
  },
  {
   "cell_type": "code",
   "execution_count": 7,
   "metadata": {},
   "outputs": [],
   "source": [
    "# Get candidate list \n",
    "dic_term_candiate_list = {}\n",
    "\n",
    "# naive_cd8, memory_cd8, effector_cd8_singer from Singer_Cell_2016\n",
    "df_singer = pd.read_excel(DATA_PATH+'/gene_annotation/Singer_cell_2016_tcell_mSigDB_tsig.xlsx')\n",
    "term = 'MSigDB Signatures used as basis for Naive Signature'\n",
    "dic_term_candiate_list['naive_cd8_singer'] = list(df_singer.loc[~df_singer[term].isna(), term]) #>=10\n",
    "term = 'MSigDB Signatures used as basis for Memory Signature'\n",
    "dic_term_candiate_list['memory_cd8_singer'] = list(df_singer.loc[~df_singer[term].isna(), term]) #>=6\n",
    "dic_term_candiate_list['effector_cd8_singer'] = ['GSE10239_NAIVE_VS_DAY4.5_EFF_CD8_TCELL_DN',\n",
    "                                                 'GSE10239_MEMORY_VS_DAY4.5_EFF_CD8_TCELL_DN']\n",
    "\n",
    "# Tcell state signatures \n",
    "for term in ['naive_cd4', 'effector_cd4', 'memory_cd4', 'naive_cd8', 'effector_cd8', 'memory_cd8']:\n",
    "    celltype = term.split('_')[0]\n",
    "    subtype = 'CD4' if 'cd4' in term else 'CD8'\n",
    "    ind_select_up = (df_msd_t['COND1_STATE']==celltype) & (df_msd_t['COND2_STATE']!=celltype) &\\\n",
    "                    (df_msd_t['COND2_STATE']!='other') &\\\n",
    "                    (df_msd_t['DIR']=='UP') & np.array([subtype in x for x in df_msd_t.index])\n",
    "    ind_select_dn = (df_msd_t['COND2_STATE']==celltype) & (df_msd_t['COND1_STATE']!=celltype) &\\\n",
    "                    (df_msd_t['COND1_STATE']!='other') &\\\n",
    "                    (df_msd_t['DIR']=='DN') & np.array([subtype in x for x in df_msd_t.index])\n",
    "    dic_term_candiate_list[term]= list(df_msd_t.index[ind_select_up | ind_select_dn])\n",
    "\n",
    "# Subtype signatures \n",
    "for term in ['SUBTYPE_Treg', 'SUBTYPE_Th1', 'SUBTYPE_Th2', 'SUBTYPE_Th17']:\n",
    "    subtype = term.split('_')[1]\n",
    "    ind_select_up = (df_msd_t['COND1_SUBTYPE']==subtype) & (df_msd_t['COND2_SUBTYPE']!=subtype) & \\\n",
    "                    (df_msd_t['COND2_SUBTYPE']!='other') & (df_msd_t['DIR']=='UP')\n",
    "    ind_select_dn = (df_msd_t['COND2_SUBTYPE']==subtype) & (df_msd_t['COND1_SUBTYPE']!=subtype) & \\\n",
    "                    (df_msd_t['COND1_SUBTYPE']!='other') & (df_msd_t['DIR']=='DN')\n",
    "    dic_term_candiate_list[term]= list(df_msd_t.index[ind_select_up | ind_select_dn])"
   ]
  },
  {
   "cell_type": "code",
   "execution_count": 35,
   "metadata": {
    "scrolled": true
   },
   "outputs": [],
   "source": [
    "# MSigDB term list\n",
    "dic_term_list = {}\n",
    "\n",
    "# T cell state signatures\n",
    "dic_term_list['naive_cd4'] = dic_term_candiate_list['naive_cd4'].copy()\n",
    "dic_term_list['memory_cd4'] = dic_term_candiate_list['memory_cd4'].copy()\n",
    "BLOCK_LIST = ['GSE11057_EFF_MEM_VS_CENT_MEM_CD4_TCELL_DN', \n",
    "              'GSE26928_EFF_MEM_VS_CENTR_MEM_CD4_TCELL_DN',\n",
    "              'GSE3982_EFF_MEMORY_VS_CENT_MEMORY_CD4_TCELL_DN']\n",
    "dic_term_list['memory_cd4'] = [x for x in dic_term_list['memory_cd4'] if x not in BLOCK_LIST]\n",
    "dic_term_list['effector_cd4'] = dic_term_candiate_list['effector_cd4'].copy()\n",
    "dic_term_list['naive_cd8'] = dic_term_candiate_list['naive_cd8_singer'].copy()\n",
    "dic_term_list['memory_cd8'] = dic_term_candiate_list['memory_cd8_singer'].copy()\n",
    "dic_term_list['effector_cd8'] = dic_term_candiate_list['effector_cd8'].copy()\n",
    "\n",
    "# T cell subtype signatures \n",
    "dic_term_list['SUBTYPE_Treg'] = dic_term_candiate_list['SUBTYPE_Treg'].copy()\n",
    "dic_term_list['SUBTYPE_Th1'] = dic_term_candiate_list['SUBTYPE_Th1'].copy()\n",
    "dic_term_list['SUBTYPE_Th2'] = dic_term_candiate_list['SUBTYPE_Th2'].copy()\n",
    "dic_term_list['SUBTYPE_Th17'] = dic_term_candiate_list['SUBTYPE_Th17'].copy()\n",
    "\n",
    "# Write table \n",
    "temp_dic = dic_term_list.copy()\n",
    "n_max = 0 \n",
    "for term in temp_dic:\n",
    "    n_max = max(n_max, len(temp_dic[term]))\n",
    "for term in temp_dic:\n",
    "    temp_dic[term] = temp_dic[term] + ['']*(n_max - len(temp_dic[term]))\n",
    "temp_df = pd.DataFrame(data=temp_dic)\n",
    "temp_df.to_csv('/n/holystore01/LABS/price_lab/Users/mjzhang/scDRS_data/supp_table/tcell_msigdb.tsv',\n",
    "               sep='\\t', index=False)"
   ]
  },
  {
   "cell_type": "code",
   "execution_count": 36,
   "metadata": {},
   "outputs": [
    {
     "name": "stdout",
     "output_type": "stream",
     "text": [
      "naive_cd4  n_gene=303\n",
      "memory_cd4 n_gene=62\n",
      "effector_cd4 n_gene=259\n",
      "naive_cd8  n_gene=185\n",
      "memory_cd8 n_gene=170\n",
      "effector_cd8 n_gene=111\n",
      "SUBTYPE_Treg n_gene=205\n",
      "SUBTYPE_Th1 n_gene=332\n",
      "SUBTYPE_Th2 n_gene=102\n",
      "SUBTYPE_Th17 n_gene=513\n"
     ]
    }
   ],
   "source": [
    "# Get GENESET\n",
    "dic_sig_df = {}\n",
    "df_sig = pd.DataFrame(columns=['TRAIT', 'GENESET'])\n",
    "for term in dic_term_list.keys():\n",
    "    \n",
    "    temp_df_msd = df_msd.loc[dic_term_list[term], ['DNAME', 'GENESET']].copy()\n",
    "    temp_df_msd = temp_df_msd.groupby('DNAME').agg({'GENESET':','.join})\n",
    "\n",
    "    temp_ct = Counter()\n",
    "    for gs in temp_df_msd['GENESET']:\n",
    "        temp_ct.update(set(gs.split(',')))\n",
    "    \n",
    "    temp_df = pd.DataFrame(columns=['GENE', 'CT'], data = temp_ct.most_common()) \n",
    "    temp_df = temp_df.loc[temp_df['CT']>1].copy()\n",
    "    \n",
    "    gene_list = []\n",
    "    for ct in sorted(set(temp_df['CT']))[::-1]:\n",
    "        gene_list += list(temp_df.loc[temp_df['CT']==ct, 'GENE'])\n",
    "        if len(gene_list)>100:\n",
    "            break\n",
    "    df_sig.loc[term] = [term, ','.join(gene_list)]\n",
    "    \n",
    "for term in df_sig.index:\n",
    "    print('%-10s n_gene=%d'%(term, len(df_sig.loc[term, 'GENESET'].split(','))))\n",
    "        \n",
    "df_sig.loc[[x for x in df_sig.index if (x.startswith('SUBTYPE_') is False)]].\\\n",
    "    to_csv('/n/holystore01/LABS/price_lab/Users/mjzhang/scDRS_data/gs_file/tcell_signature.gs',\n",
    "           sep='\\t', index=False)\n",
    "df_sig.to_csv('/n/holystore01/LABS/price_lab/Users/mjzhang/scDRS_data/gs_file/tcell_signature_full.gs',\n",
    "              sep='\\t', index=False)"
   ]
  },
  {
   "cell_type": "code",
   "execution_count": 28,
   "metadata": {},
   "outputs": [
    {
     "name": "stdout",
     "output_type": "stream",
     "text": [
      "naive_cd4, gs=303, gs_ref=100, overlap=73\n",
      "effector_cd8, gs=111, gs_ref=100, overlap=91\n",
      "naive_cd8, gs=185, gs_ref=100, overlap=94\n",
      "effector_cd4, gs=259, gs_ref=64, overlap=64\n",
      "memory_cd4, gs=62, gs_ref=100, overlap=55\n",
      "memory_cd8, gs=170, gs_ref=100, overlap=96\n"
     ]
    }
   ],
   "source": [
    "# Compare to reference \n",
    "df_sig_ref = pd.read_csv('/n/holystore01/LABS/price_lab/Users/mjzhang/scDRS_data/gs_file/tcell_signature.gs.073121',\n",
    "                         sep='\\t', index_col=0)\n",
    "for gs_name in set(df_sig_ref.index)&set(df_sig.index):\n",
    "    gs = set(df_sig.loc[gs_name, 'GENESET'].split(','))\n",
    "    gs_ref = set(df_sig_ref.loc[gs_name, 'GENESET'].split(','))\n",
    "    print('%s, gs=%d, gs_ref=%d, overlap=%d'%(gs_name, len(gs), len(gs_ref), len(gs&gs_ref)))\n",
    "    \n",
    "df_sig_ref = pd.read_csv('/n/holystore01/LABS/price_lab/Users/mjzhang/scDRS_data/gs_file/tcell_subtype.gs',\n",
    "                         sep='\\t', index_col=0)\n",
    "for gs_name in set(df_sig_ref.index)&set(df_sig.index):\n",
    "    gs = set(df_sig.loc[gs_name, 'GENESET'].split(','))\n",
    "    gs_ref = set(df_sig_ref.loc[gs_name, 'GENESET'].split(','))\n",
    "    print('%s, gs=%d, gs_ref=%d, overlap=%d'%(gs_name, len(gs), len(gs_ref), len(gs&gs_ref)))"
   ]
  },
  {
   "cell_type": "code",
   "execution_count": 19,
   "metadata": {},
   "outputs": [
    {
     "data": {
      "text/html": [
       "<div>\n",
       "<style scoped>\n",
       "    .dataframe tbody tr th:only-of-type {\n",
       "        vertical-align: middle;\n",
       "    }\n",
       "\n",
       "    .dataframe tbody tr th {\n",
       "        vertical-align: top;\n",
       "    }\n",
       "\n",
       "    .dataframe thead th {\n",
       "        text-align: right;\n",
       "    }\n",
       "</style>\n",
       "<table border=\"1\" class=\"dataframe\">\n",
       "  <thead>\n",
       "    <tr style=\"text-align: right;\">\n",
       "      <th></th>\n",
       "      <th>GENESET</th>\n",
       "    </tr>\n",
       "    <tr>\n",
       "      <th>TRAIT</th>\n",
       "      <th></th>\n",
       "    </tr>\n",
       "  </thead>\n",
       "  <tbody>\n",
       "    <tr>\n",
       "      <th>Treg</th>\n",
       "      <td>KLHL7,CYB5A,TARDBP,AGAP3,AMFR,UBXN1,SNRK,NTSR2...</td>\n",
       "    </tr>\n",
       "  </tbody>\n",
       "</table>\n",
       "</div>"
      ],
      "text/plain": [
       "                                                 GENESET\n",
       "TRAIT                                                   \n",
       "Treg   KLHL7,CYB5A,TARDBP,AGAP3,AMFR,UBXN1,SNRK,NTSR2..."
      ]
     },
     "execution_count": 19,
     "metadata": {},
     "output_type": "execute_result"
    }
   ],
   "source": [
    "df_sig_ref"
   ]
  },
  {
   "cell_type": "code",
   "execution_count": null,
   "metadata": {},
   "outputs": [],
   "source": []
  },
  {
   "cell_type": "code",
   "execution_count": null,
   "metadata": {},
   "outputs": [],
   "source": []
  }
 ],
 "metadata": {
  "kernelspec": {
   "display_name": "Python 3",
   "language": "python",
   "name": "python3"
  },
  "language_info": {
   "codemirror_mode": {
    "name": "ipython",
    "version": 3
   },
   "file_extension": ".py",
   "mimetype": "text/x-python",
   "name": "python",
   "nbconvert_exporter": "python",
   "pygments_lexer": "ipython3",
   "version": "3.7.2"
  }
 },
 "nbformat": 4,
 "nbformat_minor": 4
}
