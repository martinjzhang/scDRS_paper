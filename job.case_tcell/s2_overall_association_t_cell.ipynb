{
 "cells": [
  {
   "cell_type": "code",
   "execution_count": 1,
   "metadata": {},
   "outputs": [],
   "source": [
    "import scanpy as sc\n",
    "from anndata import read_h5ad\n",
    "import pandas as pd\n",
    "import numpy as np\n",
    "import scipy as sp\n",
    "from statsmodels.stats.multitest import multipletests\n",
    "import matplotlib.pyplot as plt\n",
    "import seaborn as sns\n",
    "import os\n",
    "from os.path import join\n",
    "import time\n",
    "from gprofiler import GProfiler\n",
    "\n",
    "# scTRS tools\n",
    "import scTRS.util as util\n",
    "import scTRS.data_loader as dl\n",
    "import scTRS.method as md\n",
    "\n",
    "# autoreload\n",
    "%load_ext autoreload\n",
    "%autoreload 2"
   ]
  },
  {
   "cell_type": "code",
   "execution_count": 2,
   "metadata": {},
   "outputs": [],
   "source": [
    "# Setup file paths\n",
    "DATA_PATH = '/n/holystore01/LABS/price_lab/Users/mjzhang/scTRS_data'\n",
    "GS_FILE='/n/holystore01/LABS/price_lab/Users/mjzhang/scTRS_data/gs_file/magma_10kb_1000.gs'\n",
    "FIG_PATH = '/n/holystore01/LABS/price_lab/Users/mjzhang/scTRS_data/results/fig_tcell'\n",
    "\n",
    "df_gs = pd.read_csv(GS_FILE, sep='\\t')\n",
    "TRAIT_LIST_FULL = sorted(df_gs['TRAIT'])\n",
    "\n",
    "# Data set info\n",
    "DS_LIST = ['facs']\n",
    "DIC_INFO = {}\n",
    "DIC_INFO['facs'] = {'species': 'mmusculus', 'dname': 'TMS FACS'}\n",
    "\n",
    "# Set score files\n",
    "DIC_SCORE_PATH = {'facs': DATA_PATH+'/score_file/score.tms_facs_with_cov.magma_10kb_1000'}\n"
   ]
  },
  {
   "cell_type": "code",
   "execution_count": 3,
   "metadata": {},
   "outputs": [
    {
     "name": "stderr",
     "output_type": "stream",
     "text": [
      "Trying to set attribute `.obs` of view, copying.\n"
     ]
    },
    {
     "name": "stdout",
     "output_type": "stream",
     "text": [
      "# Loading facs score\n"
     ]
    },
    {
     "data": {
      "text/html": [
       "<div>\n",
       "<style scoped>\n",
       "    .dataframe tbody tr th:only-of-type {\n",
       "        vertical-align: middle;\n",
       "    }\n",
       "\n",
       "    .dataframe tbody tr th {\n",
       "        vertical-align: top;\n",
       "    }\n",
       "\n",
       "    .dataframe thead th {\n",
       "        text-align: right;\n",
       "    }\n",
       "</style>\n",
       "<table border=\"1\" class=\"dataframe\">\n",
       "  <thead>\n",
       "    <tr style=\"text-align: right;\">\n",
       "      <th></th>\n",
       "      <th>cell</th>\n",
       "    </tr>\n",
       "    <tr>\n",
       "      <th>cell_ontology_class</th>\n",
       "      <th></th>\n",
       "    </tr>\n",
       "  </thead>\n",
       "  <tbody>\n",
       "    <tr>\n",
       "      <th>CD4-positive, alpha-beta T cell</th>\n",
       "      <td>1083</td>\n",
       "    </tr>\n",
       "    <tr>\n",
       "      <th>CD8-positive, alpha-beta T cell</th>\n",
       "      <td>1019</td>\n",
       "    </tr>\n",
       "    <tr>\n",
       "      <th>T cell</th>\n",
       "      <td>1177</td>\n",
       "    </tr>\n",
       "    <tr>\n",
       "      <th>mature NK T cell</th>\n",
       "      <td>195</td>\n",
       "    </tr>\n",
       "    <tr>\n",
       "      <th>mature alpha-beta T cell</th>\n",
       "      <td>249</td>\n",
       "    </tr>\n",
       "    <tr>\n",
       "      <th>regulatory T cell</th>\n",
       "      <td>46</td>\n",
       "    </tr>\n",
       "  </tbody>\n",
       "</table>\n",
       "</div>"
      ],
      "text/plain": [
       "                                 cell\n",
       "cell_ontology_class                  \n",
       "CD4-positive, alpha-beta T cell  1083\n",
       "CD8-positive, alpha-beta T cell  1019\n",
       "T cell                           1177\n",
       "mature NK T cell                  195\n",
       "mature alpha-beta T cell          249\n",
       "regulatory T cell                  46"
      ]
     },
     "metadata": {},
     "output_type": "display_data"
    }
   ],
   "source": [
    "# Load raw data \n",
    "dic_data_raw = {}\n",
    "dic_data_raw['facs'] = dl.load_tms_ct(DATA_PATH, data_name='facs')\n",
    "\n",
    "dic_data_proc = {}\n",
    "dic_data_proc['facs'] = read_h5ad('/n/holystore01/LABS/price_lab/Users/mjzhang/scTRS_data/single_cell_data/tms_proc/'\n",
    "                                  'tcell.facs.annot.h5ad')\n",
    "\n",
    "# Load score \n",
    "dic_score = {x:pd.DataFrame() for x in DIC_SCORE_PATH}\n",
    "for score in DIC_SCORE_PATH:\n",
    "    print('# Loading %s score'%score)\n",
    "    for trait in TRAIT_LIST_FULL:\n",
    "        score_file = DIC_SCORE_PATH[score]+'/%s.score.gz'%trait\n",
    "        if os.path.exists(score_file) is False:\n",
    "            print('# Missing score file: %s'%trait)\n",
    "        temp_df = pd.read_csv(score_file, sep='\\t', index_col=0)\n",
    "        temp_df.columns = ['%s.%s'%(trait,x) for x in temp_df.columns]\n",
    "        temp_df['%s.fdr'%trait] = multipletests(temp_df['%s.pval'%trait], method='fdr_bh')[1]\n",
    "        dic_score[score] = pd.concat([dic_score[score], temp_df], axis=1)\n",
    "\n",
    "# Align cell list \n",
    "dic_cell_list = {}\n",
    "for ds in DS_LIST:\n",
    "    dic_cell_list[ds] = list(set(dic_data_proc['facs'].obs_names) & set(dic_score[ds].index))\n",
    "display(dic_data_raw[ds][dic_cell_list[ds],:].obs.groupby('cell_ontology_class').agg({'cell':len}))"
   ]
  },
  {
   "cell_type": "code",
   "execution_count": 4,
   "metadata": {},
   "outputs": [
    {
     "name": "stdout",
     "output_type": "stream",
     "text": [
      "# TMS FACS\n",
      "# PASS_AdultOnsetAsthma_Ferreira2019 0.051\n",
      "# PASS_CD_deLange2017 0.057\n",
      "# PASS_Crohns_Disease 0.015\n",
      "# PASS_IBD 0.097\n",
      "# PASS_IBD_deLange2017 0.094\n",
      "# PASS_Multiple_sclerosis 0.104\n",
      "# PASS_Rheumatoid_Arthritis 0.207\n",
      "# PASS_UC_deLange2017 0.011\n",
      "# UKB_460K.blood_EOSINOPHIL_COUNT 0.296\n",
      "# UKB_460K.blood_LYMPHOCYTE_COUNT 0.090\n",
      "# UKB_460K.blood_MONOCYTE_COUNT 0.010\n",
      "# UKB_460K.disease_AID_ALL 0.305\n",
      "# UKB_460K.disease_ALLERGY_ECZEMA_DIAGNOSED 0.170\n",
      "# UKB_460K.disease_ASTHMA_DIAGNOSED 0.144\n",
      "# UKB_460K.disease_HYPOTHYROIDISM_SELF_REP 0.346\n",
      "# UKB_460K.disease_RESPIRATORY_ENT 0.273\n",
      "# UKB_460K.disease_THYROID_ANY_SELF_REP 0.419\n"
     ]
    }
   ],
   "source": [
    "# Overall association\n",
    "for ds in DS_LIST:\n",
    "    print('# %s'%DIC_INFO[ds]['dname'])\n",
    "    for trait in TRAIT_LIST_FULL:\n",
    "        if '%s.fdr'%trait not in dic_score[ds].columns:\n",
    "            print('# Missing %s'%trait)\n",
    "            continue\n",
    "        \n",
    "        ind_select = (dic_score[ds].loc[dic_cell_list[ds], '%s.fdr'%trait]<0.1)\n",
    "        if ind_select.mean()>0.01:\n",
    "            print('# %s %0.3f'%(trait, ind_select.mean()))"
   ]
  },
  {
   "cell_type": "code",
   "execution_count": 33,
   "metadata": {},
   "outputs": [],
   "source": [
    "temp_df = pd.read_csv(DATA_PATH+'/score_file/score.tms_facs_with_cov.gwas_max_abs_z.top500/PASS_IBD.score.gz',\n",
    "                      sep='\\t', index_col=0)"
   ]
  },
  {
   "cell_type": "code",
   "execution_count": 38,
   "metadata": {},
   "outputs": [
    {
     "data": {
      "image/png": "[encoded data removed]",
      "text/plain": [
       "<Figure size 432x288 with 1 Axes>"
      ]
     },
     "metadata": {
      "needs_background": "light"
     },
     "output_type": "display_data"
    }
   ],
   "source": [
    "plt.figure()\n",
    "plt.scatter(temp_df['nlog10_pval'], dic_score['facs']['PASS_IBD.nlog10_pval'], s=4)\n",
    "plt.show()"
   ]
  },
  {
   "cell_type": "code",
   "execution_count": null,
   "metadata": {},
   "outputs": [],
   "source": []
  }
 ],
 "metadata": {
  "kernelspec": {
   "display_name": "Python 3",
   "language": "python",
   "name": "python3"
  },
  "language_info": {
   "codemirror_mode": {
    "name": "ipython",
    "version": 3
   },
   "file_extension": ".py",
   "mimetype": "text/x-python",
   "name": "python",
   "nbconvert_exporter": "python",
   "pygments_lexer": "ipython3",
   "version": "3.7.2"
  }
 },
 "nbformat": 4,
 "nbformat_minor": 4
}
