{
 "cells": [
  {
   "cell_type": "markdown",
   "metadata": {},
   "source": [
    "# Analyze the data to evaluate the relative performance of different gene weighting methods\n",
    "- Determine the contrast of scores between the control cell-types.\n",
    "- Evaluate power using different statistics.\n"
   ]
  },
  {
   "cell_type": "code",
   "execution_count": 1,
   "metadata": {},
   "outputs": [],
   "source": [
    "%load_ext lab_black\n",
    "\n",
    "import pandas as pd\n",
    "import itertools\n",
    "import numpy as np\n",
    "from statsmodels.stats.multitest import multipletests\n",
    "from tqdm import tqdm\n",
    "import seaborn as sns\n",
    "import matplotlib.pyplot as plt\n",
    "import scdrs\n",
    "from scipy.stats import ttest_ind\n",
    "from os.path import join"
   ]
  },
  {
   "cell_type": "code",
   "execution_count": 3,
   "metadata": {},
   "outputs": [
    {
     "name": "stderr",
     "output_type": "stream",
     "text": [
      "/n/holystore01/LABS/price_lab/Users/khou/miniconda3/lib/python3.8/site-packages/pandas/core/arrays/categorical.py:2630: FutureWarning: The `inplace` parameter in pandas.Categorical.remove_unused_categories is deprecated and will be removed in a future version.\n",
      "  res = method(*args, **kwargs)\n",
      "/n/holystore01/LABS/price_lab/Users/khou/miniconda3/lib/python3.8/site-packages/pandas/core/arrays/categorical.py:2630: FutureWarning: The `inplace` parameter in pandas.Categorical.remove_unused_categories is deprecated and will be removed in a future version.\n",
      "  res = method(*args, **kwargs)\n",
      "Trying to set attribute `.obs` of view, copying.\n"
     ]
    },
    {
     "name": "stdout",
     "output_type": "stream",
     "text": [
      "UKB_460K.blood_RBC_DISTRIB_WIDTH: 187, 275\n",
      "UKB_460K.blood_MONOCYTE_COUNT: 2659, 275\n",
      "PASS_Rheumatoid_Arthritis: 4145, 1162\n",
      "PASS_IBD_deLange2017: 4145, 1162\n",
      "UKB_460K.disease_ASTHMA_DIAGNOSED: 4145, 1162\n",
      "UKB_460K.disease_HYPOTHYROIDISM_SELF_REP: 4145, 1162\n",
      "UKB_460K.cov_SMOKING_STATUS: 827, 4145\n",
      "PASS_Schizophrenia_Pardinas2018: 827, 4145\n",
      "PASS_MDD_Howard2019: 827, 4145\n",
      "UKB_460K.cov_EDU_COLLEGE: 827, 4145\n",
      "UKB_460K.biochemistry_Triglycerides: 1162, 827\n",
      "UKB_460K.biochemistry_Cholesterol: 1162, 827\n",
      "UKB_460K.biochemistry_HDLcholesterol: 1162, 827\n",
      "UKB_460K.biochemistry_Testosterone_Male: 1162, 827\n",
      "UKB_460K.body_HEIGHTz: 275, 827\n",
      "UKB_460K.bmd_HEEL_TSCOREz: 275, 827\n",
      "PASS_FastingGlucose_Manning: 1342, 827\n",
      "PASS_Type_2_Diabetes: 1342, 827\n",
      "PASS_AtrialFibrillation_Nielsen2018: 550, 827\n",
      "UKB_460K.bp_SYSTOLICadjMEDz: 550, 827\n"
     ]
    }
   ],
   "source": [
    "df_trait_info = pd.read_excel(\"../supp_tables.xlsx\", sheet_name=0).set_index(\n",
    "    \"Trait_Identifier\"\n",
    ")\n",
    "DATA_PATH = \"/n/holystore01/LABS/price_lab/Users/mjzhang/scDRS_data\"\n",
    "data_facs_ct = scdrs.data_loader.load_tms_ct(DATA_PATH, data_name=\"facs\")\n",
    "df_celltype = data_facs_ct.obs.cell_ontology_class.str.replace(\" \", \"_\").str.replace(\n",
    "    \",\", \"\"\n",
    ")\n",
    "\n",
    "# parse control trait - celltype pairs\n",
    "df_control = pd.read_excel(\"control_disease_celltype.xlsx\", index_col=0)\n",
    "\n",
    "dict_control_pairs = {}\n",
    "for trait, row in df_control.iterrows():\n",
    "    # positive cells\n",
    "    positive_cells = df_celltype.index[df_celltype.isin(row.iloc[0].split(\";\"))]\n",
    "    # negative cells\n",
    "    negative_cells = df_celltype.index[df_celltype.isin(row.iloc[1].split(\";\"))]\n",
    "    assert set(df_celltype[positive_cells].values) == set(row.iloc[0].split(\";\"))\n",
    "    assert set(df_celltype[negative_cells].values) == set(row.iloc[1].split(\";\"))\n",
    "    print(f\"{trait}: {len(positive_cells)}, {len(negative_cells)}\")\n",
    "    dict_control_pairs[trait] = [positive_cells, negative_cells]"
   ]
  },
  {
   "cell_type": "code",
   "execution_count": 4,
   "metadata": {},
   "outputs": [],
   "source": [
    "gwas_weight_list = (\n",
    "    [f\"top-{n}\" for n in [100, 500, 1000, 2000]]\n",
    "    + [f\"fdr1-{n}\" for n in [2000]]\n",
    "    + [f\"fwer5-{n}\" for n in [2000]]\n",
    ")\n",
    "gwas_weight_list = [\n",
    "    f\"{m}-{w}\" for m, w in itertools.product(gwas_weight_list, [\"zscore\", \"uniform\"])\n",
    "]\n",
    "method_list = [\n",
    "    f\"{m}.{w}\" for m, w in itertools.product(gwas_weight_list, [\"uniform\", \"vs\"])\n",
    "]"
   ]
  },
  {
   "cell_type": "markdown",
   "metadata": {},
   "source": [
    "# Computing the power metrics"
   ]
  },
  {
   "cell_type": "code",
   "execution_count": 5,
   "metadata": {},
   "outputs": [],
   "source": [
    "SCORE_ROOT_DIR = (\n",
    "    \"/n/holyscratch01/price_lab/khou/continuous_weights_experiment/score_file\"\n",
    ")\n",
    "\n",
    "\n",
    "def summarize(method):\n",
    "    df_plot = {\n",
    "        \"method\": [],\n",
    "        \"trait\": [],\n",
    "        \"rep_i\": [],\n",
    "        \"n_pos\": [],\n",
    "        \"n_neg\": [],\n",
    "        \"n_discovery\": [],\n",
    "        \"tstats\": [],\n",
    "        \"meanshift\": [],\n",
    "    }\n",
    "    rep_i = 0\n",
    "    for trait in tqdm(dict_control_pairs):\n",
    "        for rep_i in range(20):\n",
    "            # load score\n",
    "            df_score = pd.read_csv(\n",
    "                join(SCORE_ROOT_DIR, f\"rep{rep_i}/{method}/{trait}.score.gz\"),\n",
    "                sep=\"\\t\",\n",
    "                index_col=0,\n",
    "            )\n",
    "            df_score[\"fdr\"] = multipletests(df_score[\"pval\"], method=\"fdr_bh\")[1]\n",
    "\n",
    "            # find positive cells and negative cells\n",
    "            positive_cells = df_score.index.isin(dict_control_pairs[trait][0])\n",
    "            negative_cells = df_score.index.isin(dict_control_pairs[trait][1])\n",
    "\n",
    "            # compute stats and fill in values\n",
    "            df_plot[\"method\"].append(method)\n",
    "            df_plot[\"trait\"].append(trait)\n",
    "            df_plot[\"n_pos\"].append(sum(positive_cells))\n",
    "            df_plot[\"n_neg\"].append(sum(negative_cells))\n",
    "            df_plot[\"rep_i\"].append(rep_i)\n",
    "            df_plot[\"tstats\"].append(\n",
    "                ttest_ind(\n",
    "                    df_score[\"zscore\"][positive_cells],\n",
    "                    df_score[\"zscore\"][negative_cells],\n",
    "                    equal_var=False,\n",
    "                )[0]\n",
    "            )\n",
    "\n",
    "            df_plot[\"meanshift\"].append(\n",
    "                df_score[\"zscore\"][positive_cells].mean()\n",
    "                - df_score[\"zscore\"][negative_cells].mean()\n",
    "            )\n",
    "\n",
    "            df_plot[\"n_discovery\"].append(np.sum(df_score[\"fdr\"] < 0.1))\n",
    "\n",
    "    return pd.DataFrame(df_plot)"
   ]
  },
  {
   "cell_type": "code",
   "execution_count": 6,
   "metadata": {},
   "outputs": [],
   "source": [
    "import submitit\n",
    "\n",
    "executor = submitit.AutoExecutor(folder=\"~/submitit/\")\n",
    "executor.update_parameters(timeout_min=10, mem_gb=12, slurm_partition=\"shared\")\n",
    "\n",
    "jobs = executor.map_array(\n",
    "    summarize,\n",
    "    method_list,\n",
    ")\n",
    "df_plot = pd.concat(j.result() for j in jobs)\n",
    "df_plot.to_csv(\"power-analysis.csv\", index=False)"
   ]
  },
  {
   "cell_type": "markdown",
   "metadata": {},
   "source": [
    "# Visualizing the power metrics"
   ]
  },
  {
   "cell_type": "code",
   "execution_count": 40,
   "metadata": {},
   "outputs": [],
   "source": [
    "df_plot = pd.read_csv(\"power-analysis.csv\")\n",
    "\n",
    "# normalize by the trait, rep_i max\n",
    "df_plot_normalized = []\n",
    "for (trait, rep_i), df_group in df_plot.groupby([\"trait\", \"rep_i\"]):\n",
    "    for col in [\"n_discovery\", \"tstats\", \"meanshift\"]:\n",
    "        df_group[col] /= df_group[col].max()\n",
    "    df_plot_normalized.append(df_group)\n",
    "df_plot_normalized = pd.concat(df_plot_normalized)\n",
    "\n",
    "df_plot = df_plot_normalized.groupby([\"method\", \"rep_i\"]).mean().reset_index()"
   ]
  },
  {
   "cell_type": "code",
   "execution_count": 41,
   "metadata": {},
   "outputs": [],
   "source": [
    "df_plot[\"gwas_weight\"] = df_plot[\"method\"].apply(lambda x: x.split(\".\")[0])\n",
    "df_plot[\"sc_weight\"] = df_plot[\"method\"].apply(lambda x: x.split(\".\")[1])"
   ]
  },
  {
   "cell_type": "code",
   "execution_count": null,
   "metadata": {},
   "outputs": [],
   "source": [
    "for y in [\"tstats\", \"n_discovery\", \"meanshift\"]:\n",
    "    fig, ax = plt.subplots(figsize=(5, 3), dpi=150)\n",
    "    sns.pointplot(\n",
    "        data=df_plot,\n",
    "        x=\"gwas_weight\",\n",
    "        y=y,\n",
    "        hue=\"sc_weight\",\n",
    "        errwidth=0.75,\n",
    "        join=False,\n",
    "        scale=0.75,\n",
    "        dodge=0.4,\n",
    "        ax=ax,\n",
    "    )\n",
    "    ax.legend(loc=\"center\", bbox_to_anchor=[0.5, 1.1], ncol=2)\n",
    "    ax.set_xticklabels(ax.get_xticklabels(), rotation=45, ha=\"right\")\n",
    "    if y == \"tstats\":\n",
    "        ax.set_ylabel(\"t-stats\")\n",
    "    elif y == \"n_discovery\":\n",
    "        ax.set_ylabel(\"#discoveries\")\n",
    "    elif y == \"meanshift\":\n",
    "        ax.set_ylabel(\"$\\\\overline{z_{pos}}$ - $\\\\overline{z_{neg}}$\")\n",
    "    else:\n",
    "        raise NotImplementedError\n",
    "    ax.axhline(y=0, ls=\"--\", color=\"red\", alpha=0.5)"
   ]
  }
 ],
 "metadata": {
  "kernelspec": {
   "display_name": "Python 3",
   "language": "python",
   "name": "python3"
  },
  "language_info": {
   "codemirror_mode": {
    "name": "ipython",
    "version": 3
   },
   "file_extension": ".py",
   "mimetype": "text/x-python",
   "name": "python",
   "nbconvert_exporter": "python",
   "pygments_lexer": "ipython3",
   "version": "3.8.3"
  }
 },
 "nbformat": 4,
 "nbformat_minor": 4
}
