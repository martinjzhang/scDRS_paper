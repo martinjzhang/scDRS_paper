{
 "cells": [
  {
   "cell_type": "markdown",
   "metadata": {},
   "source": [
    "# Compile .gs file from the precomputed MAGMA z-stat file\n",
    "- zstat_file: /n/holystore01/LABS/price_lab/Users/mjzhang/scDRS_data/gene_annotation/MAGMA-v108/MAGMA_v108_GENE_10_ZSTAT.txt\n",
    "- compute .gs file based on different strategies of assigning gene weights.\n",
    "- Use `submit.compute_score.sh` to calculate the scDRS scores."
   ]
  },
  {
   "cell_type": "code",
   "execution_count": 1,
   "metadata": {},
   "outputs": [],
   "source": [
    "%load_ext lab_black\n",
    "import os, sys"
   ]
  },
  {
   "cell_type": "code",
   "execution_count": 2,
   "metadata": {},
   "outputs": [],
   "source": [
    "import scdrs.util as util\n",
    "import scdrs.data_loader as dl\n",
    "import scdrs.method as md\n",
    "import submitit\n",
    "import os\n",
    "from os.path import join\n",
    "import glob\n",
    "import shutil\n",
    "import yaml\n",
    "import pandas as pd\n",
    "import numpy as np\n",
    "import itertools\n",
    "from statsmodels.stats.multitest import multipletests\n",
    "import matplotlib.pyplot as plt\n",
    "\n",
    "\n",
    "def zsc2pval(zsc):\n",
    "    import scipy\n",
    "\n",
    "    return 1 - scipy.stats.norm.cdf(zsc)"
   ]
  },
  {
   "cell_type": "code",
   "execution_count": 3,
   "metadata": {},
   "outputs": [],
   "source": [
    "df_trait_info = pd.read_excel(\n",
    "    \"https://www.dropbox.com/s/4klqj17l05lqeqf/supp_tables_submission.xlsx?dl=1\",\n",
    ").set_index(\"Trait_Identifier\")"
   ]
  },
  {
   "cell_type": "markdown",
   "metadata": {},
   "source": [
    "# Compile gene set"
   ]
  },
  {
   "cell_type": "code",
   "execution_count": 4,
   "metadata": {},
   "outputs": [],
   "source": [
    "method_list = (\n",
    "    [f\"top-{n}\" for n in [100, 500, 1000, 2000]]\n",
    "    + [f\"fdr1-{n}\" for n in [2000]]\n",
    "    + [f\"fwer5-{n}\" for n in [2000]]\n",
    ")\n",
    "method_list = [\n",
    "    f\"{m}-{w}\" for m, w in itertools.product(method_list, [\"zscore\", \"uniform\"])\n",
    "]"
   ]
  },
  {
   "cell_type": "code",
   "execution_count": 8,
   "metadata": {},
   "outputs": [],
   "source": [
    "for method in method_list:\n",
    "    gene_method, gene_n_cap, weight_method = method.split(\"-\")\n",
    "    if gene_method.startswith(\"fdr\"):\n",
    "        gene_method = gene_method[0:3] + \"0\" + gene_method[3] + \"_cap100n\"\n",
    "    elif gene_method.startswith(\"fwer\"):\n",
    "        gene_method = gene_method[0:4] + \"0\" + gene_method[4] + \"_cap100n\"\n",
    "    elif gene_method.startswith(\"top-\"):\n",
    "        gene_method = gene_method[4:]\n",
    "    fname = (\n",
    "        f\"magma_10kb_\"\n",
    "        + gene_method\n",
    "        + gene_n_cap\n",
    "        + \"_\"\n",
    "        + weight_method\n",
    "        + \".all_traits.rv1.gs\"\n",
    "    )\n",
    "    df_gs = pd.read_csv(\n",
    "        join(\"/n/holystore01/LABS/price_lab/Users/mjzhang/scDRS_data/gs_file\", fname),\n",
    "        sep=\"\\t\",\n",
    "        index_col=0,\n",
    "    ).loc[df_trait_info.index]\n",
    "    df_gs.index.name = \"TRAIT\"\n",
    "    df_gs.to_csv(join(\"geneset\", method + \".gs\"), sep=\"\\t\")"
   ]
  },
  {
   "cell_type": "code",
   "execution_count": 10,
   "metadata": {},
   "outputs": [],
   "source": [
    "for method in method_list:\n",
    "    df = pd.read_csv(f\"geneset/{method}.gs\", sep=\"\\t\")\n",
    "    todo_df = []\n",
    "    for _, row in df.iterrows():\n",
    "        file_exist = [\n",
    "            os.path.exists(\n",
    "                join(\n",
    "                    f\"score_file/{method}.{suffix}\",\n",
    "                    row.TRAIT + \".score.gz\",\n",
    "                )\n",
    "            )\n",
    "            for suffix in [\"uniform\", \"vs\"]\n",
    "        ]\n",
    "        if not np.all(file_exist):\n",
    "            todo_df.append(row)\n",
    "\n",
    "    batch_size = 1\n",
    "    # generate batch gs\n",
    "    batch_dir = join(f\"geneset\", f\"{method}.gs.batch\")\n",
    "    if os.path.exists(batch_dir):\n",
    "        shutil.rmtree(batch_dir)\n",
    "    if len(todo_df) == 0:\n",
    "        continue\n",
    "\n",
    "    os.makedirs(batch_dir)\n",
    "    todo_df = pd.concat(todo_df, axis=1).T\n",
    "\n",
    "    batch_dfs = np.array_split(todo_df, int(np.ceil(todo_df.shape[0] / batch_size)))\n",
    "    for batch_i, batch_df in enumerate(batch_dfs):\n",
    "        batch_df.to_csv(join(batch_dir, f\"batch{batch_i}.gs\"), sep=\"\\t\", index=False)"
   ]
  },
  {
   "cell_type": "code",
   "execution_count": 5,
   "metadata": {},
   "outputs": [
    {
     "ename": "AssertionError",
     "evalue": "",
     "output_type": "error",
     "traceback": [
      "\u001b[0;31m---------------------------------------------------------------------------\u001b[0m",
      "\u001b[0;31mAssertionError\u001b[0m                            Traceback (most recent call last)",
      "\u001b[0;32m<ipython-input-5-a871fdc9ebee>\u001b[0m in \u001b[0;36m<module>\u001b[0;34m\u001b[0m\n\u001b[0;32m----> 1\u001b[0;31m \u001b[0;32massert\u001b[0m \u001b[0;32mFalse\u001b[0m\u001b[0;34m\u001b[0m\u001b[0;34m\u001b[0m\u001b[0m\n\u001b[0m",
      "\u001b[0;31mAssertionError\u001b[0m: "
     ]
    }
   ],
   "source": [
    "assert False"
   ]
  },
  {
   "cell_type": "code",
   "execution_count": null,
   "metadata": {},
   "outputs": [],
   "source": [
    "# OLD\n",
    "# using the 10kb window size\n",
    "zstat_file = f\"/n/holystore01/LABS/price_lab/Users/mjzhang/scDRS_data/gene_annotation/MAGMA-v108/MAGMA_v108_GENE_10_ZSTAT.txt\"\n",
    "df_zstat = pd.read_csv(zstat_file, sep=\"\\t\")\n",
    "\n",
    "dict_df_gs = {}\n",
    "for method in method_list:\n",
    "    df_gs = {\"TRAIT\": [], \"GENESET\": []}\n",
    "    gene_method, gene_n_cap, weight_method = method.split(\"-\")\n",
    "    gene_n_cap = int(gene_n_cap)\n",
    "\n",
    "    for trait in df_trait_info.index:\n",
    "        zsc = df_zstat[trait].dropna()\n",
    "        pval = zsc2pval(zsc)\n",
    "        fwer = multipletests(pval, method=\"bonferroni\")[1]\n",
    "        fdr = multipletests(pval, method=\"fdr_bh\")[1]\n",
    "        if gene_method == \"top\":\n",
    "            n_gene = gene_n_cap\n",
    "        elif gene_method.startswith(\"fwer\"):\n",
    "            fwer_threshold = float(gene_method[4:]) / 100\n",
    "            n_gene = sum(fwer < fwer_threshold)\n",
    "            if n_gene > gene_n_cap:\n",
    "                n_gene = gene_n_cap\n",
    "            if n_gene < 100:\n",
    "                n_gene = 100\n",
    "        elif gene_method.startswith(\"fdr\"):\n",
    "            fdr_threshold = float(gene_method[3:]) / 100\n",
    "            n_gene = sum(fdr < fdr_threshold)\n",
    "            if n_gene > gene_n_cap:\n",
    "                n_gene = gene_n_cap\n",
    "            if n_gene < 100:\n",
    "                n_gene = 100\n",
    "        else:\n",
    "            raise NotImplementedError\n",
    "\n",
    "        zsc = zsc.sort_values(ascending=False).iloc[0:n_gene]\n",
    "\n",
    "        df_gs[\"TRAIT\"].append(trait)\n",
    "        if weight_method == \"zscore\":\n",
    "            df_gs[\"GENESET\"].append(\",\".join([f\"{g}:{w}\" for g, w in zsc.iteritems()]))\n",
    "        elif weight_method == \"uniform\":\n",
    "            df_gs[\"GENESET\"].append(\",\".join([f\"{g}:1.0\" for g, w in zsc.iteritems()]))\n",
    "        else:\n",
    "            raise NotImplementedError\n",
    "    df_gs = pd.DataFrame(df_gs)\n",
    "    dict_df_gs[method] = df_gs"
   ]
  }
 ],
 "metadata": {
  "kernelspec": {
   "display_name": "Python 3",
   "language": "python",
   "name": "python3"
  },
  "language_info": {
   "codemirror_mode": {
    "name": "ipython",
    "version": 3
   },
   "file_extension": ".py",
   "mimetype": "text/x-python",
   "name": "python",
   "nbconvert_exporter": "python",
   "pygments_lexer": "ipython3",
   "version": "3.8.3"
  }
 },
 "nbformat": 4,
 "nbformat_minor": 4
}
