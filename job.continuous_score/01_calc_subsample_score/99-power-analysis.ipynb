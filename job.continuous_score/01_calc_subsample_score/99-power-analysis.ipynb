{
 "cells": [
  {
   "cell_type": "markdown",
   "metadata": {},
   "source": [
    "# Analyze the data to evaluate the relative performance of different gene weighting methods\n",
    "\n",
    "Metrics:\n",
    "1. Number of discoveries\n",
    "2. Evaluate on contrast between silver standards"
   ]
  },
  {
   "cell_type": "code",
   "execution_count": 4,
   "metadata": {},
   "outputs": [
    {
     "name": "stdout",
     "output_type": "stream",
     "text": [
      "The lab_black extension is already loaded. To reload it, use:\n",
      "  %reload_ext lab_black\n"
     ]
    }
   ],
   "source": [
    "%load_ext lab_black\n",
    "\n",
    "import pandas as pd\n",
    "import itertools\n",
    "import numpy as np\n",
    "from statsmodels.stats.multitest import multipletests\n",
    "from tqdm import tqdm\n",
    "import seaborn as sns\n",
    "import matplotlib.pyplot as plt"
   ]
  },
  {
   "cell_type": "code",
   "execution_count": 5,
   "metadata": {},
   "outputs": [],
   "source": [
    "df_trait_info = pd.read_excel(\"../supp_tables.xlsx\", sheet_name=0).set_index(\n",
    "    \"Trait_Identifier\"\n",
    ")"
   ]
  },
  {
   "cell_type": "code",
   "execution_count": 6,
   "metadata": {},
   "outputs": [],
   "source": [
    "gwas_weight_list = (\n",
    "    [f\"top-{n}\" for n in [100, 500, 1000, 2000]]\n",
    "    + [f\"fwer5-{n}\" for n in [1000, 2000]]\n",
    "    + [f\"fdr1-{n}\" for n in [1000, 2000]]\n",
    "    + [f\"fdr5-{n}\" for n in [1000, 2000]]\n",
    ")\n",
    "gwas_weight_list = [\n",
    "    f\"{m}-{w}\" for m, w in itertools.product(gwas_weight_list, [\"zscore\", \"uniform\"])\n",
    "]\n",
    "method_list = [\n",
    "    f\"{m}.{w}\" for m, w in itertools.product(gwas_weight_list, [\"uniform\", \"vs\"])\n",
    "]"
   ]
  },
  {
   "cell_type": "code",
   "execution_count": 7,
   "metadata": {},
   "outputs": [],
   "source": [
    "subset_trait_list = [\n",
    "    \"PASS_Schizophrenia_Pardinas2018\",\n",
    "    \"PASS_MDD_Howard2019\",\n",
    "    \"PASS_AtrialFibrillation_Nielsen2018\",\n",
    "    \"PASS_Rheumatoid_Arthritis\",\n",
    "    \"UKB_460K.biochemistry_LDLdirect\",\n",
    "]\n",
    "\n",
    "trait_list = df_trait_info.index.values"
   ]
  },
  {
   "cell_type": "code",
   "execution_count": 13,
   "metadata": {},
   "outputs": [],
   "source": [
    "def summarize(method, trait_list):\n",
    "    df_plot = {\"method\": [], \"trait\": [], \"n_discovery\": []}\n",
    "\n",
    "    for trait in tqdm(trait_list):\n",
    "        df_score = pd.read_csv(\n",
    "            f\"tms_facs/score_file/{method}/{trait}.score.gz\", sep=\"\\t\", index_col=0\n",
    "        )\n",
    "        df_score[\"fdr\"] = multipletests(df_score[\"pval\"], method=\"fdr_bh\")[1]\n",
    "        df_plot[\"method\"].append(method)\n",
    "        df_plot[\"trait\"].append(trait)\n",
    "        df_plot[\"n_discovery\"].append(np.sum(df_score[\"fdr\"] < 0.1))\n",
    "    return pd.DataFrame(df_plot)"
   ]
  },
  {
   "cell_type": "code",
   "execution_count": 14,
   "metadata": {},
   "outputs": [],
   "source": [
    "import submitit\n",
    "\n",
    "executor = submitit.AutoExecutor(folder=\"~/submitit/\")\n",
    "executor.update_parameters(timeout_min=10, mem_gb=12, slurm_partition=\"shared\")\n",
    "\n",
    "jobs = executor.map_array(\n",
    "    lambda x: summarize(method=x, trait_list=trait_list),\n",
    "    method_list,\n",
    ")\n",
    "df_plot = pd.concat(j.result() for j in jobs)\n",
    "df_plot.to_csv(\"power_summary.csv\", index=False)"
   ]
  },
  {
   "cell_type": "code",
   "execution_count": 24,
   "metadata": {},
   "outputs": [],
   "source": [
    "df_plot = pd.read_csv(\"power_summary.csv\")\n",
    "\n",
    "df_plot[\"gwas_weight\"] = df_plot[\"method\"].apply(lambda x: x.split(\".\")[0])\n",
    "df_plot[\"sc_weight\"] = df_plot[\"method\"].apply(lambda x: x.split(\".\")[1])"
   ]
  },
  {
   "cell_type": "markdown",
   "metadata": {},
   "source": [
    "# sc_weight: vs > uniform\n",
    "This is consistently across traits"
   ]
  },
  {
   "cell_type": "code",
   "execution_count": 25,
   "metadata": {},
   "outputs": [
    {
     "data": {
      "image/png": "[encoded data removed]",
      "text/plain": [
       "<Figure size 450x450 with 1 Axes>"
      ]
     },
     "metadata": {
      "needs_background": "light"
     },
     "output_type": "display_data"
    }
   ],
   "source": [
    "fig, ax = plt.subplots(figsize=(3, 3), dpi=150)\n",
    "sns.pointplot(data=df_plot, x=\"sc_weight\", y=\"n_discovery\")\n",
    "plt.show()"
   ]
  },
  {
   "cell_type": "markdown",
   "metadata": {},
   "source": [
    "Therefore, we consistently use \"vs\" weighting for now"
   ]
  },
  {
   "cell_type": "code",
   "execution_count": 26,
   "metadata": {},
   "outputs": [],
   "source": [
    "df_plot = df_plot[df_plot.sc_weight == \"vs\"].drop(columns=[\"sc_weight\"])"
   ]
  },
  {
   "cell_type": "markdown",
   "metadata": {},
   "source": [
    "# Thresholding with FWER is not ideal"
   ]
  },
  {
   "cell_type": "code",
   "execution_count": 30,
   "metadata": {},
   "outputs": [
    {
     "data": {
      "text/html": [
       "<div>\n",
       "<style scoped>\n",
       "    .dataframe tbody tr th:only-of-type {\n",
       "        vertical-align: middle;\n",
       "    }\n",
       "\n",
       "    .dataframe tbody tr th {\n",
       "        vertical-align: top;\n",
       "    }\n",
       "\n",
       "    .dataframe thead th {\n",
       "        text-align: right;\n",
       "    }\n",
       "</style>\n",
       "<table border=\"1\" class=\"dataframe\">\n",
       "  <thead>\n",
       "    <tr style=\"text-align: right;\">\n",
       "      <th></th>\n",
       "      <th>n_discovery</th>\n",
       "      <th>normalized_n_discovery</th>\n",
       "    </tr>\n",
       "    <tr>\n",
       "      <th>gwas_weight</th>\n",
       "      <th></th>\n",
       "      <th></th>\n",
       "    </tr>\n",
       "  </thead>\n",
       "  <tbody>\n",
       "    <tr>\n",
       "      <th>top-100-zscore</th>\n",
       "      <td>78.594203</td>\n",
       "      <td>0.050126</td>\n",
       "    </tr>\n",
       "    <tr>\n",
       "      <th>top-100-uniform</th>\n",
       "      <td>77.434783</td>\n",
       "      <td>0.046899</td>\n",
       "    </tr>\n",
       "    <tr>\n",
       "      <th>top-500-zscore</th>\n",
       "      <td>548.144928</td>\n",
       "      <td>0.294260</td>\n",
       "    </tr>\n",
       "    <tr>\n",
       "      <th>top-500-uniform</th>\n",
       "      <td>498.260870</td>\n",
       "      <td>0.252404</td>\n",
       "    </tr>\n",
       "    <tr>\n",
       "      <th>top-1000-zscore</th>\n",
       "      <td>1015.275362</td>\n",
       "      <td>0.563915</td>\n",
       "    </tr>\n",
       "    <tr>\n",
       "      <th>top-1000-uniform</th>\n",
       "      <td>879.391304</td>\n",
       "      <td>0.501161</td>\n",
       "    </tr>\n",
       "    <tr>\n",
       "      <th>top-2000-zscore</th>\n",
       "      <td>1547.826087</td>\n",
       "      <td>0.910302</td>\n",
       "    </tr>\n",
       "    <tr>\n",
       "      <th>top-2000-uniform</th>\n",
       "      <td>1208.565217</td>\n",
       "      <td>0.678579</td>\n",
       "    </tr>\n",
       "    <tr>\n",
       "      <th>fwer5-1000-zscore</th>\n",
       "      <td>583.521739</td>\n",
       "      <td>0.277130</td>\n",
       "    </tr>\n",
       "    <tr>\n",
       "      <th>fwer5-1000-uniform</th>\n",
       "      <td>581.144928</td>\n",
       "      <td>0.275362</td>\n",
       "    </tr>\n",
       "    <tr>\n",
       "      <th>fwer5-2000-zscore</th>\n",
       "      <td>693.391304</td>\n",
       "      <td>0.336192</td>\n",
       "    </tr>\n",
       "    <tr>\n",
       "      <th>fwer5-2000-uniform</th>\n",
       "      <td>644.086957</td>\n",
       "      <td>0.302719</td>\n",
       "    </tr>\n",
       "    <tr>\n",
       "      <th>fdr1-1000-zscore</th>\n",
       "      <td>758.028986</td>\n",
       "      <td>0.391216</td>\n",
       "    </tr>\n",
       "    <tr>\n",
       "      <th>fdr1-1000-uniform</th>\n",
       "      <td>721.217391</td>\n",
       "      <td>0.377950</td>\n",
       "    </tr>\n",
       "    <tr>\n",
       "      <th>fdr1-2000-zscore</th>\n",
       "      <td>1086.434783</td>\n",
       "      <td>0.562284</td>\n",
       "    </tr>\n",
       "    <tr>\n",
       "      <th>fdr1-2000-uniform</th>\n",
       "      <td>950.101449</td>\n",
       "      <td>0.480825</td>\n",
       "    </tr>\n",
       "    <tr>\n",
       "      <th>fdr5-1000-zscore</th>\n",
       "      <td>870.159420</td>\n",
       "      <td>0.450689</td>\n",
       "    </tr>\n",
       "    <tr>\n",
       "      <th>fdr5-1000-uniform</th>\n",
       "      <td>819.333333</td>\n",
       "      <td>0.426632</td>\n",
       "    </tr>\n",
       "    <tr>\n",
       "      <th>fdr5-2000-zscore</th>\n",
       "      <td>1286.913043</td>\n",
       "      <td>0.668077</td>\n",
       "    </tr>\n",
       "    <tr>\n",
       "      <th>fdr5-2000-uniform</th>\n",
       "      <td>1133.376812</td>\n",
       "      <td>0.571607</td>\n",
       "    </tr>\n",
       "  </tbody>\n",
       "</table>\n",
       "</div>"
      ],
      "text/plain": [
       "                    n_discovery  normalized_n_discovery\n",
       "gwas_weight                                            \n",
       "top-100-zscore        78.594203                0.050126\n",
       "top-100-uniform       77.434783                0.046899\n",
       "top-500-zscore       548.144928                0.294260\n",
       "top-500-uniform      498.260870                0.252404\n",
       "top-1000-zscore     1015.275362                0.563915\n",
       "top-1000-uniform     879.391304                0.501161\n",
       "top-2000-zscore     1547.826087                0.910302\n",
       "top-2000-uniform    1208.565217                0.678579\n",
       "fwer5-1000-zscore    583.521739                0.277130\n",
       "fwer5-1000-uniform   581.144928                0.275362\n",
       "fwer5-2000-zscore    693.391304                0.336192\n",
       "fwer5-2000-uniform   644.086957                0.302719\n",
       "fdr1-1000-zscore     758.028986                0.391216\n",
       "fdr1-1000-uniform    721.217391                0.377950\n",
       "fdr1-2000-zscore    1086.434783                0.562284\n",
       "fdr1-2000-uniform    950.101449                0.480825\n",
       "fdr5-1000-zscore     870.159420                0.450689\n",
       "fdr5-1000-uniform    819.333333                0.426632\n",
       "fdr5-2000-zscore    1286.913043                0.668077\n",
       "fdr5-2000-uniform   1133.376812                0.571607"
      ]
     },
     "metadata": {},
     "output_type": "display_data"
    }
   ],
   "source": [
    "# trait-specific maximum\n",
    "dict_trait_max = (\n",
    "    df_plot.groupby(\"trait\").apply(lambda x: np.max(x[\"n_discovery\"])).to_dict()\n",
    ")\n",
    "df_plot[\"normalized_n_discovery\"] = df_plot.apply(\n",
    "    lambda x: x[\"n_discovery\"] / dict_trait_max[x.trait], axis=1\n",
    ")\n",
    "df_plot = df_plot[\n",
    "    df_plot.trait.isin([trait for trait, n in dict_trait_max.items() if n > 50])\n",
    "]\n",
    "df_plot_avg = df_plot.groupby(\"gwas_weight\").mean().loc[gwas_weight_list]\n",
    "display(df_plot.groupby(\"gwas_weight\").mean().loc[gwas_weight_list])"
   ]
  },
  {
   "cell_type": "code",
   "execution_count": 34,
   "metadata": {},
   "outputs": [
    {
     "name": "stdout",
     "output_type": "stream",
     "text": [
      "PASS_CD_deLange2017 0.9681643397631314\n",
      "PASS_Celiac 0.9631104358267792\n",
      "PASS_IBD_deLange2017 0.970175398859339\n",
      "PASS_Lupus 0.9655275301477497\n",
      "PASS_Multiple_sclerosis 0.9776326178985083\n",
      "PASS_Primary_biliary_cirrhosis 0.972340949734542\n",
      "PASS_Rheumatoid_Arthritis 0.975524836764889\n",
      "PASS_UC_deLange2017 0.9654322787856948\n",
      "UKB_460K.blood_EOSINOPHIL_COUNT 0.9962354554582359\n"
     ]
    },
    {
     "ename": "KeyboardInterrupt",
     "evalue": "",
     "output_type": "error",
     "traceback": [
      "\u001b[0;31m---------------------------------------------------------------------------\u001b[0m",
      "\u001b[0;31mKeyboardInterrupt\u001b[0m                         Traceback (most recent call last)",
      "\u001b[0;32m<ipython-input-34-c4f53a30c680>\u001b[0m in \u001b[0;36m<module>\u001b[0;34m\u001b[0m\n\u001b[1;32m      6\u001b[0m     \u001b[0mdict_df_score\u001b[0m \u001b[0;34m=\u001b[0m \u001b[0;34m{\u001b[0m\u001b[0;34m}\u001b[0m\u001b[0;34m\u001b[0m\u001b[0;34m\u001b[0m\u001b[0m\n\u001b[1;32m      7\u001b[0m     \u001b[0;32mfor\u001b[0m \u001b[0mw\u001b[0m \u001b[0;32min\u001b[0m \u001b[0;34m[\u001b[0m\u001b[0;34m\"top-1000-uniform\"\u001b[0m\u001b[0;34m,\u001b[0m \u001b[0;34m\"top-1000-zscore\"\u001b[0m\u001b[0;34m]\u001b[0m\u001b[0;34m:\u001b[0m\u001b[0;34m\u001b[0m\u001b[0;34m\u001b[0m\u001b[0m\n\u001b[0;32m----> 8\u001b[0;31m         df_score = pd.read_csv(\n\u001b[0m\u001b[1;32m      9\u001b[0m             \u001b[0;34mf\"tms_facs/score_file/{w}.vs/{trait}.score.gz\"\u001b[0m\u001b[0;34m,\u001b[0m\u001b[0;34m\u001b[0m\u001b[0;34m\u001b[0m\u001b[0m\n\u001b[1;32m     10\u001b[0m             \u001b[0msep\u001b[0m\u001b[0;34m=\u001b[0m\u001b[0;34m\"\\t\"\u001b[0m\u001b[0;34m,\u001b[0m\u001b[0;34m\u001b[0m\u001b[0;34m\u001b[0m\u001b[0m\n",
      "\u001b[0;32m/n/holystore01/LABS/price_lab/Users/khou/miniconda3/lib/python3.8/site-packages/pandas/util/_decorators.py\u001b[0m in \u001b[0;36mwrapper\u001b[0;34m(*args, **kwargs)\u001b[0m\n\u001b[1;32m    309\u001b[0m                     \u001b[0mstacklevel\u001b[0m\u001b[0;34m=\u001b[0m\u001b[0mstacklevel\u001b[0m\u001b[0;34m,\u001b[0m\u001b[0;34m\u001b[0m\u001b[0;34m\u001b[0m\u001b[0m\n\u001b[1;32m    310\u001b[0m                 )\n\u001b[0;32m--> 311\u001b[0;31m             \u001b[0;32mreturn\u001b[0m \u001b[0mfunc\u001b[0m\u001b[0;34m(\u001b[0m\u001b[0;34m*\u001b[0m\u001b[0margs\u001b[0m\u001b[0;34m,\u001b[0m \u001b[0;34m**\u001b[0m\u001b[0mkwargs\u001b[0m\u001b[0;34m)\u001b[0m\u001b[0;34m\u001b[0m\u001b[0;34m\u001b[0m\u001b[0m\n\u001b[0m\u001b[1;32m    312\u001b[0m \u001b[0;34m\u001b[0m\u001b[0m\n\u001b[1;32m    313\u001b[0m         \u001b[0;32mreturn\u001b[0m \u001b[0mwrapper\u001b[0m\u001b[0;34m\u001b[0m\u001b[0;34m\u001b[0m\u001b[0m\n",
      "\u001b[0;32m/n/holystore01/LABS/price_lab/Users/khou/miniconda3/lib/python3.8/site-packages/pandas/io/parsers/readers.py\u001b[0m in \u001b[0;36mread_csv\u001b[0;34m(filepath_or_buffer, sep, delimiter, header, names, index_col, usecols, squeeze, prefix, mangle_dupe_cols, dtype, engine, converters, true_values, false_values, skipinitialspace, skiprows, skipfooter, nrows, na_values, keep_default_na, na_filter, verbose, skip_blank_lines, parse_dates, infer_datetime_format, keep_date_col, date_parser, dayfirst, cache_dates, iterator, chunksize, compression, thousands, decimal, lineterminator, quotechar, quoting, doublequote, escapechar, comment, encoding, encoding_errors, dialect, error_bad_lines, warn_bad_lines, on_bad_lines, delim_whitespace, low_memory, memory_map, float_precision, storage_options)\u001b[0m\n\u001b[1;32m    584\u001b[0m     \u001b[0mkwds\u001b[0m\u001b[0;34m.\u001b[0m\u001b[0mupdate\u001b[0m\u001b[0;34m(\u001b[0m\u001b[0mkwds_defaults\u001b[0m\u001b[0;34m)\u001b[0m\u001b[0;34m\u001b[0m\u001b[0;34m\u001b[0m\u001b[0m\n\u001b[1;32m    585\u001b[0m \u001b[0;34m\u001b[0m\u001b[0m\n\u001b[0;32m--> 586\u001b[0;31m     \u001b[0;32mreturn\u001b[0m \u001b[0m_read\u001b[0m\u001b[0;34m(\u001b[0m\u001b[0mfilepath_or_buffer\u001b[0m\u001b[0;34m,\u001b[0m \u001b[0mkwds\u001b[0m\u001b[0;34m)\u001b[0m\u001b[0;34m\u001b[0m\u001b[0;34m\u001b[0m\u001b[0m\n\u001b[0m\u001b[1;32m    587\u001b[0m \u001b[0;34m\u001b[0m\u001b[0m\n\u001b[1;32m    588\u001b[0m \u001b[0;34m\u001b[0m\u001b[0m\n",
      "\u001b[0;32m/n/holystore01/LABS/price_lab/Users/khou/miniconda3/lib/python3.8/site-packages/pandas/io/parsers/readers.py\u001b[0m in \u001b[0;36m_read\u001b[0;34m(filepath_or_buffer, kwds)\u001b[0m\n\u001b[1;32m    486\u001b[0m \u001b[0;34m\u001b[0m\u001b[0m\n\u001b[1;32m    487\u001b[0m     \u001b[0;32mwith\u001b[0m \u001b[0mparser\u001b[0m\u001b[0;34m:\u001b[0m\u001b[0;34m\u001b[0m\u001b[0;34m\u001b[0m\u001b[0m\n\u001b[0;32m--> 488\u001b[0;31m         \u001b[0;32mreturn\u001b[0m \u001b[0mparser\u001b[0m\u001b[0;34m.\u001b[0m\u001b[0mread\u001b[0m\u001b[0;34m(\u001b[0m\u001b[0mnrows\u001b[0m\u001b[0;34m)\u001b[0m\u001b[0;34m\u001b[0m\u001b[0;34m\u001b[0m\u001b[0m\n\u001b[0m\u001b[1;32m    489\u001b[0m \u001b[0;34m\u001b[0m\u001b[0m\n\u001b[1;32m    490\u001b[0m \u001b[0;34m\u001b[0m\u001b[0m\n",
      "\u001b[0;32m/n/holystore01/LABS/price_lab/Users/khou/miniconda3/lib/python3.8/site-packages/pandas/io/parsers/readers.py\u001b[0m in \u001b[0;36mread\u001b[0;34m(self, nrows)\u001b[0m\n\u001b[1;32m   1045\u001b[0m     \u001b[0;32mdef\u001b[0m \u001b[0mread\u001b[0m\u001b[0;34m(\u001b[0m\u001b[0mself\u001b[0m\u001b[0;34m,\u001b[0m \u001b[0mnrows\u001b[0m\u001b[0;34m=\u001b[0m\u001b[0;32mNone\u001b[0m\u001b[0;34m)\u001b[0m\u001b[0;34m:\u001b[0m\u001b[0;34m\u001b[0m\u001b[0;34m\u001b[0m\u001b[0m\n\u001b[1;32m   1046\u001b[0m         \u001b[0mnrows\u001b[0m \u001b[0;34m=\u001b[0m \u001b[0mvalidate_integer\u001b[0m\u001b[0;34m(\u001b[0m\u001b[0;34m\"nrows\"\u001b[0m\u001b[0;34m,\u001b[0m \u001b[0mnrows\u001b[0m\u001b[0;34m)\u001b[0m\u001b[0;34m\u001b[0m\u001b[0;34m\u001b[0m\u001b[0m\n\u001b[0;32m-> 1047\u001b[0;31m         \u001b[0mindex\u001b[0m\u001b[0;34m,\u001b[0m \u001b[0mcolumns\u001b[0m\u001b[0;34m,\u001b[0m \u001b[0mcol_dict\u001b[0m \u001b[0;34m=\u001b[0m \u001b[0mself\u001b[0m\u001b[0;34m.\u001b[0m\u001b[0m_engine\u001b[0m\u001b[0;34m.\u001b[0m\u001b[0mread\u001b[0m\u001b[0;34m(\u001b[0m\u001b[0mnrows\u001b[0m\u001b[0;34m)\u001b[0m\u001b[0;34m\u001b[0m\u001b[0;34m\u001b[0m\u001b[0m\n\u001b[0m\u001b[1;32m   1048\u001b[0m \u001b[0;34m\u001b[0m\u001b[0m\n\u001b[1;32m   1049\u001b[0m         \u001b[0;32mif\u001b[0m \u001b[0mindex\u001b[0m \u001b[0;32mis\u001b[0m \u001b[0;32mNone\u001b[0m\u001b[0;34m:\u001b[0m\u001b[0;34m\u001b[0m\u001b[0;34m\u001b[0m\u001b[0m\n",
      "\u001b[0;32m/n/holystore01/LABS/price_lab/Users/khou/miniconda3/lib/python3.8/site-packages/pandas/io/parsers/c_parser_wrapper.py\u001b[0m in \u001b[0;36mread\u001b[0;34m(self, nrows)\u001b[0m\n\u001b[1;32m    221\u001b[0m         \u001b[0;32mtry\u001b[0m\u001b[0;34m:\u001b[0m\u001b[0;34m\u001b[0m\u001b[0;34m\u001b[0m\u001b[0m\n\u001b[1;32m    222\u001b[0m             \u001b[0;32mif\u001b[0m \u001b[0mself\u001b[0m\u001b[0;34m.\u001b[0m\u001b[0mlow_memory\u001b[0m\u001b[0;34m:\u001b[0m\u001b[0;34m\u001b[0m\u001b[0;34m\u001b[0m\u001b[0m\n\u001b[0;32m--> 223\u001b[0;31m                 \u001b[0mchunks\u001b[0m \u001b[0;34m=\u001b[0m \u001b[0mself\u001b[0m\u001b[0;34m.\u001b[0m\u001b[0m_reader\u001b[0m\u001b[0;34m.\u001b[0m\u001b[0mread_low_memory\u001b[0m\u001b[0;34m(\u001b[0m\u001b[0mnrows\u001b[0m\u001b[0;34m)\u001b[0m\u001b[0;34m\u001b[0m\u001b[0;34m\u001b[0m\u001b[0m\n\u001b[0m\u001b[1;32m    224\u001b[0m                 \u001b[0;31m# destructive to chunks\u001b[0m\u001b[0;34m\u001b[0m\u001b[0;34m\u001b[0m\u001b[0;34m\u001b[0m\u001b[0m\n\u001b[1;32m    225\u001b[0m                 \u001b[0mdata\u001b[0m \u001b[0;34m=\u001b[0m \u001b[0m_concatenate_chunks\u001b[0m\u001b[0;34m(\u001b[0m\u001b[0mchunks\u001b[0m\u001b[0;34m)\u001b[0m\u001b[0;34m\u001b[0m\u001b[0;34m\u001b[0m\u001b[0m\n",
      "\u001b[0;32m/n/holystore01/LABS/price_lab/Users/khou/miniconda3/lib/python3.8/site-packages/pandas/_libs/parsers.pyx\u001b[0m in \u001b[0;36mpandas._libs.parsers.TextReader.read_low_memory\u001b[0;34m()\u001b[0m\n",
      "\u001b[0;32m/n/holystore01/LABS/price_lab/Users/khou/miniconda3/lib/python3.8/site-packages/pandas/_libs/parsers.pyx\u001b[0m in \u001b[0;36mpandas._libs.parsers.TextReader._read_rows\u001b[0;34m()\u001b[0m\n",
      "\u001b[0;32m/n/holystore01/LABS/price_lab/Users/khou/miniconda3/lib/python3.8/site-packages/pandas/_libs/parsers.pyx\u001b[0m in \u001b[0;36mpandas._libs.parsers.TextReader._convert_column_data\u001b[0;34m()\u001b[0m\n",
      "\u001b[0;32m/n/holystore01/LABS/price_lab/Users/khou/miniconda3/lib/python3.8/site-packages/pandas/_libs/parsers.pyx\u001b[0m in \u001b[0;36mpandas._libs.parsers.TextReader._convert_tokens\u001b[0;34m()\u001b[0m\n",
      "\u001b[0;32m/n/holystore01/LABS/price_lab/Users/khou/miniconda3/lib/python3.8/site-packages/pandas/_libs/parsers.pyx\u001b[0m in \u001b[0;36mpandas._libs.parsers.TextReader._convert_with_dtype\u001b[0;34m()\u001b[0m\n",
      "\u001b[0;32m/n/holystore01/LABS/price_lab/Users/khou/miniconda3/lib/python3.8/site-packages/pandas/core/dtypes/common.py\u001b[0m in \u001b[0;36mis_extension_array_dtype\u001b[0;34m(arr_or_dtype)\u001b[0m\n\u001b[1;32m   1418\u001b[0m \u001b[0;34m\u001b[0m\u001b[0m\n\u001b[1;32m   1419\u001b[0m \u001b[0;34m\u001b[0m\u001b[0m\n\u001b[0;32m-> 1420\u001b[0;31m \u001b[0;32mdef\u001b[0m \u001b[0mis_extension_array_dtype\u001b[0m\u001b[0;34m(\u001b[0m\u001b[0marr_or_dtype\u001b[0m\u001b[0;34m)\u001b[0m \u001b[0;34m->\u001b[0m \u001b[0mbool\u001b[0m\u001b[0;34m:\u001b[0m\u001b[0;34m\u001b[0m\u001b[0;34m\u001b[0m\u001b[0m\n\u001b[0m\u001b[1;32m   1421\u001b[0m     \"\"\"\n\u001b[1;32m   1422\u001b[0m     \u001b[0mCheck\u001b[0m \u001b[0;32mif\u001b[0m \u001b[0man\u001b[0m \u001b[0mobject\u001b[0m \u001b[0;32mis\u001b[0m \u001b[0ma\u001b[0m \u001b[0mpandas\u001b[0m \u001b[0mextension\u001b[0m \u001b[0marray\u001b[0m \u001b[0mtype\u001b[0m\u001b[0;34m.\u001b[0m\u001b[0;34m\u001b[0m\u001b[0;34m\u001b[0m\u001b[0m\n",
      "\u001b[0;31mKeyboardInterrupt\u001b[0m: "
     ]
    }
   ],
   "source": [
    "from scipy.stats import pearsonr, spearmanr\n",
    "df_plot = {\"method\": [], \"trait\": [], \"n_discovery\": []}\n",
    "\n",
    "for trait in trait_list:\n",
    "    # for trait in df_trait_info.index:\n",
    "    dict_df_score = {}\n",
    "    for w in [\"top-1000-uniform\", \"top-1000-zscore\"]:\n",
    "        df_score = pd.read_csv(\n",
    "            f\"tms_facs/score_file/{w}.vs/{trait}.score.gz\",\n",
    "            sep=\"\\t\",\n",
    "            index_col=0,\n",
    "        )\n",
    "        df_score[\"fdr\"] = multipletests(df_score[\"pval\"], method=\"fdr_bh\")[1]\n",
    "        dict_df_score[w] = df_score\n",
    "    print(\n",
    "        trait,\n",
    "        pearsonr(dict_df_score[\"top-1000-uniform\"].zscore, dict_df_score[\"top-1000-zscore\"].zscore)[0],\n",
    "    )"
   ]
  }
 ],
 "metadata": {
  "kernelspec": {
   "display_name": "Python 3",
   "language": "python",
   "name": "python3"
  },
  "language_info": {
   "codemirror_mode": {
    "name": "ipython",
    "version": 3
   },
   "file_extension": ".py",
   "mimetype": "text/x-python",
   "name": "python",
   "nbconvert_exporter": "python",
   "pygments_lexer": "ipython3",
   "version": "3.8.3"
  }
 },
 "nbformat": 4,
 "nbformat_minor": 4
}
