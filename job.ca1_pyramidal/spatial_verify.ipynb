{
 "cells": [
  {
   "cell_type": "code",
   "execution_count": 1,
   "metadata": {},
   "outputs": [],
   "source": [
    "import scanpy as sc\n",
    "import numpy as np\n",
    "import pandas as pd\n",
    "import matplotlib.pyplot as plt\n",
    "from os.path import join\n",
    "from IPython.display import display, Markdown, Latex\n",
    "import sys\n",
    "sys.path.append(\"/n/home12/khou/holystore/\")\n",
    "import paper_utils\n",
    "from scipy.stats import ttest_ind\n",
    "from scipy.stats import pearsonr, spearmanr, kendalltau\n",
    "import seaborn as sns\n",
    "import matplotlib\n",
    "\n",
    "matplotlib.rcParams[\"pdf.fonttype\"] = 42\n",
    "matplotlib.rcParams[\"ps.fonttype\"] = 42\n",
    "\n",
    "\n",
    "plot_trait_list =[\n",
    "    \"UKB_460K.body_HEIGHTz\",\n",
    "    \"PASS_MDD_Howard2019\",\n",
    "    \"PASS_Schizophrenia_Ruderfer2018\",\n",
    "    \"UKB_460K.cov_EDU_COLLEGE\",\n",
    "] + [\"spatial_ventral\", \"spatial_dorsal\", \"spatial_proximal\", \"spatial_distal\"]\n"
   ]
  },
  {
   "cell_type": "code",
   "execution_count": 2,
   "metadata": {},
   "outputs": [],
   "source": [
    "DATA_PATH = \"/n/holystore01/LABS/price_lab/Users/mjzhang/scDRS_data\"\n",
    "URL_SUPP_TABLE = \"https://www.dropbox.com/s/qojbzu5zln33j7f/supp_tables.xlsx?dl=1\"\n",
    "\n",
    "df_trait_info = pd.read_excel(\n",
    "    URL_SUPP_TABLE,\n",
    "    sheet_name=0,\n",
    ")\n",
    "\n",
    "dict_trait_code = {\n",
    "    row[\"Trait_Identifier\"]: row[\"Code\"] for _, row in df_trait_info.iterrows()\n",
    "}\n",
    "\n",
    "dict_trait_code[\"spatial_ventral\"] = \"Ventral\"\n",
    "dict_trait_code[\"spatial_dorsal\"] = \"Dorsal\"\n",
    "dict_trait_code[\"spatial_proximal\"] = \"Proximal\"\n",
    "dict_trait_code[\"spatial_distal\"] = \"Distal\""
   ]
  },
  {
   "cell_type": "code",
   "execution_count": 3,
   "metadata": {},
   "outputs": [],
   "source": [
    "N_CTRL=1000"
   ]
  },
  {
   "cell_type": "markdown",
   "metadata": {},
   "source": [
    "# Ayhan et al. 2021"
   ]
  },
  {
   "cell_type": "code",
   "execution_count": 4,
   "metadata": {},
   "outputs": [
    {
     "name": "stderr",
     "output_type": "stream",
     "text": [
      "/n/holystore01/LABS/price_lab/Users/khou/miniconda3/lib/python3.8/site-packages/pandas/core/arrays/categorical.py:2630: FutureWarning: The `inplace` parameter in pandas.Categorical.remove_unused_categories is deprecated and will be removed in a future version.\n",
      "  res = method(*args, **kwargs)\n",
      "Trying to set attribute `.obs` of view, copying.\n",
      "Trying to set attribute `.obs` of view, copying.\n"
     ]
    }
   ],
   "source": [
    "# load adata and load score\n",
    "processed_dir = \"00_prepare_dataset/processed\"\n",
    "\n",
    "dict_adata = dict()\n",
    "for dataset in [\"ayhan_2021\", \"habib_2016\"]:\n",
    "    if dataset == \"ayhan_2021\":\n",
    "        adata = sc.read_h5ad(join(processed_dir, \"ayhan_2021.raw.h5ad\"))\n",
    "        adata = adata[adata.obs[\"Cluster\"].isin([\"Pyr1\", \"Pyr2\"])]\n",
    "    elif dataset == \"habib_2016\": \n",
    "        adata = sc.read_h5ad(join(processed_dir, \"habib_2016.processed.h5ad\"))\n",
    "        adata = adata[adata.obs.CLUSTER == \"CA1\"]\n",
    "    for trait in plot_trait_list:\n",
    "        temp_df = pd.read_csv(join(\"01_score_cell/score_file\", dataset, f\"{trait}.score.gz\"), sep=\"\\t\", index_col=0)\n",
    "        if trait.startswith(\"spatial_\"):\n",
    "            adata.obs[trait] = temp_df[\"norm_score\"].reindex(adata.obs.index)\n",
    "        else:\n",
    "            adata.obs[trait] = temp_df[\"zscore\"].reindex(adata.obs.index)\n",
    "    dict_adata[dataset] = adata"
   ]
  },
  {
   "cell_type": "code",
   "execution_count": 5,
   "metadata": {},
   "outputs": [
    {
     "name": "stdout",
     "output_type": "stream",
     "text": [
      "spatial_dorsal: posterior - anterior p-value: 0.996\n",
      "spatial_ventral: posterior - anterior p-value: 0.008\n"
     ]
    },
    {
     "data": {
      "image/png": "[encoded data removed]",
      "text/plain": [
       "<Figure size 180x252 with 2 Axes>"
      ]
     },
     "metadata": {
      "needs_background": "light"
     },
     "output_type": "display_data"
    }
   ],
   "source": [
    "dataset = \"ayhan_2021\"\n",
    "adata = dict_adata[dataset]\n",
    "\n",
    "stats_dict = {}\n",
    "pval_dict = {}\n",
    "# obtain statistical significance via MC p-values\n",
    "spatial_trait_list = [\"spatial_dorsal\", \"spatial_ventral\"]\n",
    "for trait in spatial_trait_list:\n",
    "    df_tmp = pd.read_csv(join(\"01_score_cell/score_file\", dataset, f\"{trait}.full_score.gz\"), sep=\"\\t\", index_col=0)\n",
    "    df_tmp = adata.obs[[\"group\"]].merge(df_tmp, left_index=True, right_index=True)\n",
    "    corr = pearsonr(df_tmp[\"group\"].cat.codes, df_tmp[\"norm_score\"])[0]\n",
    "\n",
    "    ctrl_corr = [pearsonr(df_tmp[\"group\"].cat.codes, df_tmp[f\"ctrl_norm_score_{ctrl_i}\"].values)[0] for ctrl_i in range(N_CTRL)]\n",
    "\n",
    "    print(f\"{trait}: posterior - anterior p-value: {np.mean(corr > ctrl_corr)}\")\n",
    "    pval_dict[trait] = np.sum(corr > ctrl_corr)\n",
    "    pval_dict[trait] = min(N_CTRL - pval_dict[trait] + 1, pval_dict[trait] + 1) / (N_CTRL + 1)\n",
    "    stats_dict[trait] = corr\n",
    "    \n",
    "\n",
    "spatial_trait_list = [\"spatial_dorsal\", \"spatial_ventral\"]\n",
    "for trait in spatial_trait_list:\n",
    "    temp_df = pd.read_csv(join(\"01_score_cell/score_file\", dataset, f\"{trait}.score.gz\"), sep=\"\\t\", index_col=0)\n",
    "    adata.obs[trait] = temp_df[\"zscore\"].reindex(adata.obs.index)\n",
    "\n",
    "df = adata.obs[[\"group\", \"spatial_dorsal\", \"spatial_ventral\"]]\n",
    "df = df[(df[\"spatial_dorsal\"] > -10) & (df[\"spatial_ventral\"] > -10)]\n",
    "\n",
    "fig, ax = plt.subplots(figsize=(2.5, 3.5), nrows=2, sharex=True)\n",
    "plots = []\n",
    "for i, col in enumerate([\"spatial_dorsal\", \"spatial_ventral\"]):\n",
    "    g = sns.violinplot(data=df, x=\"group\", y=col, linewidth=1, notch=True, width=0.6, ax=ax[i])\n",
    "    plots.append(g)\n",
    "    ax[i].set_ylabel(dict_trait_code[col] + ' score', fontsize=8)\n",
    "    ax[i].tick_params(axis='both', which='major', labelsize=8)\n",
    "    ax[i].tick_params(axis='both', which='minor', labelsize=6)\n",
    "    ax[i].set_ylim(-6, 7.5)\n",
    "    ax[i].text(0.5, 6, f\"Pearson's $r={stats_dict[col]:.3g}$; MC $p$={pval_dict[col]:.2g}\", ha='center', fontsize=6)\n",
    "plots[0].set(xlabel=None)\n",
    "ax[0].set_title(\"Ayhan et al.\", fontsize=10)\n",
    "\n",
    "plt.xlabel(\"Annotation from original data\", fontsize=8)\n",
    "plt.tight_layout()\n",
    "plt.show()\n"
   ]
  },
  {
   "cell_type": "markdown",
   "metadata": {},
   "source": [
    "# Habib et al. 2016"
   ]
  },
  {
   "cell_type": "code",
   "execution_count": 6,
   "metadata": {},
   "outputs": [
    {
     "name": "stderr",
     "output_type": "stream",
     "text": [
      "/n/holystore01/LABS/price_lab/Users/khou/miniconda3/lib/python3.8/site-packages/pandas/core/arrays/categorical.py:2630: FutureWarning: The `inplace` parameter in pandas.Categorical.remove_unused_categories is deprecated and will be removed in a future version.\n",
      "  res = method(*args, **kwargs)\n",
      "/n/holystore01/LABS/price_lab/Users/khou/miniconda3/lib/python3.8/site-packages/pandas/core/arrays/categorical.py:2630: FutureWarning: The `inplace` parameter in pandas.Categorical.reorder_categories is deprecated and will be removed in a future version. Removing unused categories will always return a new Categorical object.\n",
      "  res = method(*args, **kwargs)\n"
     ]
    },
    {
     "name": "stdout",
     "output_type": "stream",
     "text": [
      "spatial_dorsal: p-value: 0.0\n"
     ]
    },
    {
     "name": "stderr",
     "output_type": "stream",
     "text": [
      "/n/holystore01/LABS/price_lab/Users/khou/miniconda3/lib/python3.8/site-packages/pandas/core/arrays/categorical.py:2630: FutureWarning: The `inplace` parameter in pandas.Categorical.remove_unused_categories is deprecated and will be removed in a future version.\n",
      "  res = method(*args, **kwargs)\n",
      "/n/holystore01/LABS/price_lab/Users/khou/miniconda3/lib/python3.8/site-packages/pandas/core/arrays/categorical.py:2630: FutureWarning: The `inplace` parameter in pandas.Categorical.reorder_categories is deprecated and will be removed in a future version. Removing unused categories will always return a new Categorical object.\n",
      "  res = method(*args, **kwargs)\n"
     ]
    },
    {
     "name": "stdout",
     "output_type": "stream",
     "text": [
      "spatial_ventral: p-value: 1.0\n"
     ]
    },
    {
     "name": "stderr",
     "output_type": "stream",
     "text": [
      "/n/holystore01/LABS/price_lab/Users/khou/miniconda3/lib/python3.8/site-packages/pandas/core/arrays/categorical.py:2630: FutureWarning: The `inplace` parameter in pandas.Categorical.remove_unused_categories is deprecated and will be removed in a future version.\n",
      "  res = method(*args, **kwargs)\n"
     ]
    },
    {
     "data": {
      "image/png": "[encoded data removed]",
      "text/plain": [
       "<Figure size 216x288 with 2 Axes>"
      ]
     },
     "metadata": {
      "needs_background": "light"
     },
     "output_type": "display_data"
    }
   ],
   "source": [
    "dataset = \"habib_2016\"\n",
    "orders = ['CA1_4', 'CA1_2', 'CA1_3', 'CA1_5', 'CA1_6', 'CA1_8', 'CA1c_7']\n",
    "\n",
    "adata = dict_adata[dataset]\n",
    "\n",
    "stats_dict = dict()\n",
    "pval_dict = dict()\n",
    "# obtain statistical significance via MC p-values\n",
    "spatial_trait_list = [\"spatial_dorsal\", \"spatial_ventral\"]\n",
    "for trait in spatial_trait_list:\n",
    "    df_tmp = pd.read_csv(join(\"01_score_cell/score_file\", dataset, f\"{trait}.full_score.gz\"), sep=\"\\t\", index_col=0)\n",
    "    df_tmp = adata.obs[[\"SUB-CLUSTER\"]].merge(df_tmp, left_index=True, right_index=True)\n",
    "    df_tmp = df_tmp[df_tmp[\"SUB-CLUSTER\"] != 'CA1_1']\n",
    "    df_tmp[\"SUB-CLUSTER\"].cat.remove_unused_categories(inplace=True)\n",
    "    df_tmp[\"SUB-CLUSTER\"].cat.reorder_categories(orders, inplace=True)\n",
    "    df_tmp[\"SUB-CLUSTER-CODE\"] = df_tmp[\"SUB-CLUSTER\"].cat.codes\n",
    "    cor = pearsonr(df_tmp[\"SUB-CLUSTER-CODE\"], df_tmp[\"norm_score\"].values)[0]\n",
    "    ctrl_cor = [pearsonr(df_tmp[\"SUB-CLUSTER-CODE\"], df_tmp[f\"ctrl_norm_score_{ctrl_i}\"].values)[0] for ctrl_i in range(N_CTRL)]\n",
    "    print(f\"{trait}: p-value: {np.mean(cor > ctrl_cor)}\")\n",
    "    pval_dict[trait] = np.sum(cor > ctrl_cor)\n",
    "    pval_dict[trait] = min(N_CTRL - pval_dict[trait] + 1, pval_dict[trait] + 1) / (N_CTRL + 1)\n",
    "    stats_dict[trait] = cor\n",
    "    \n",
    "df = adata.obs[[\"SUB-CLUSTER\", \"spatial_dorsal\", \"spatial_ventral\"]]\n",
    "df = df[(df[\"spatial_dorsal\"] > -10) & (df[\"spatial_ventral\"] > -10)]\n",
    "df = df[df[\"SUB-CLUSTER\"] != 'CA1_1']\n",
    "df[\"SUB-CLUSTER\"].cat.remove_unused_categories(inplace=True)\n",
    "\n",
    "# 'CA1_1', \n",
    "fig, ax = plt.subplots(figsize=(3, 4), nrows=2, sharex=True)\n",
    "plots = []\n",
    "for i, col in enumerate([\"spatial_dorsal\", \"spatial_ventral\"]):\n",
    "    g = sns.violinplot(data=df, x=\"SUB-CLUSTER\", y=col, linewidth=1, order=orders, notch=True, width=0.6, ax=ax[i])\n",
    "    plots.append(g)\n",
    "    ax[i].set_ylabel(dict_trait_code[col] + ' score', fontsize=8)\n",
    "    ax[i].tick_params(axis='both', which='major', labelsize=8)\n",
    "    ax[i].tick_params(axis='both', which='minor', labelsize=6)\n",
    "    \n",
    "#     ax[i].set_yticklabels(ax[i].get_yticklabels(), fontsize=10)\n",
    "    ax[i].set_ylim(-12, 20)\n",
    "    ax[i].text(3, 15, f\"Pearson's $r={stats_dict[col]:.3g}$, MC $p$={pval_dict[col]:.1g}\", ha='center', fontsize=8)\n",
    "    \n",
    "plots[0].set(xlabel=None)\n",
    "ax[0].set_title(\"Habib & Li et al.\", fontsize=10)\n",
    "\n",
    "plt.xlabel(\"Annotation from original data\", fontsize=8)\n",
    "plt.xticks(rotation=90, fontsize=8)\n",
    "plt.tight_layout()\n",
    "plt.show()"
   ]
  }
 ],
 "metadata": {
  "kernelspec": {
   "display_name": "Python 3",
   "language": "python",
   "name": "python3"
  },
  "language_info": {
   "codemirror_mode": {
    "name": "ipython",
    "version": 3
   },
   "file_extension": ".py",
   "mimetype": "text/x-python",
   "name": "python",
   "nbconvert_exporter": "python",
   "pygments_lexer": "ipython3",
   "version": "3.8.3"
  }
 },
 "nbformat": 4,
 "nbformat_minor": 4
}
