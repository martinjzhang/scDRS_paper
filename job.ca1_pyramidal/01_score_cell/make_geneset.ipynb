{
 "cells": [
  {
   "cell_type": "code",
   "execution_count": 2,
   "metadata": {},
   "outputs": [
    {
     "name": "stdout",
     "output_type": "stream",
     "text": [
      "The lab_black extension is already loaded. To reload it, use:\n",
      "  %reload_ext lab_black\n",
      "The autoreload extension is already loaded. To reload it, use:\n",
      "  %reload_ext autoreload\n"
     ]
    }
   ],
   "source": [
    "%load_ext lab_black\n",
    "import os, sys\n",
    "\n",
    "%load_ext autoreload\n",
    "%autoreload 2\n",
    "import pandas as pd\n",
    "from os.path import join\n",
    "import scanpy as sc\n",
    "import numpy as np\n",
    "from statsmodels.stats.multitest import multipletests\n",
    "\n",
    "import matplotlib.pyplot as plt"
   ]
  },
  {
   "cell_type": "code",
   "execution_count": 5,
   "metadata": {},
   "outputs": [],
   "source": [
    "DATA_PATH = \"/n/holystore01/LABS/price_lab/Users/mjzhang/scDRS_data\""
   ]
  },
  {
   "cell_type": "code",
   "execution_count": 8,
   "metadata": {},
   "outputs": [],
   "source": [
    "df_hom = pd.read_csv(\n",
    "    join(DATA_PATH, \"gene_annotation/\", \"mouse_human_homologs.txt\"),\n",
    "    sep=\"\\t\",\n",
    ")\n",
    "dict_hom = {row[1]: row[0] for _, row in df_hom.iterrows()}"
   ]
  },
  {
   "cell_type": "code",
   "execution_count": 10,
   "metadata": {},
   "outputs": [],
   "source": [
    "URL_SUPP_TABLE = \"https://www.dropbox.com/s/qojbzu5zln33j7f/supp_tables.xlsx?dl=1\"\n",
    "\n",
    "df_trait_info = pd.read_excel(\n",
    "    URL_SUPP_TABLE,\n",
    "    sheet_name=0,\n",
    ")\n",
    "\n",
    "list_trait = list(\n",
    "    df_trait_info[df_trait_info.Category == \"brain\"][\"Trait_Identifier\"].values\n",
    ")\n",
    "list_trait += [\"UKB_460K.body_HEIGHTz\"]\n",
    "\n",
    "gs_path = join(DATA_PATH, \"gs_file\", \"magma_10kb_1000.gs\")\n",
    "df_magma_gs = pd.read_csv(gs_path, sep=\"\\t\")\n",
    "df_magma_gs = df_magma_gs[df_magma_gs.TRAIT.isin(list_trait)].reset_index(drop=True)\n",
    "\n",
    "df_magma_gs[\"GENESET\"] = df_magma_gs[\"GENESET\"].apply(\n",
    "    lambda r: \",\".join([dict_hom[g] for g in r.split(\",\") if g in dict_hom])\n",
    ")"
   ]
  },
  {
   "cell_type": "code",
   "execution_count": 12,
   "metadata": {},
   "outputs": [],
   "source": [
    "diff_expr = pd.read_csv(\"data/GSE67403_gene_exp.diff\", sep=\"\\t\")\n",
    "regions = [\n",
    "    \"dorsal\",\n",
    "    \"intermediate\",\n",
    "    \"ventral\",\n",
    "    \"proximal\",\n",
    "    \"distal\",\n",
    "    \"superficial\",\n",
    "    \"deep\",\n",
    "]\n",
    "\n",
    "dict_diff_genes = dict()\n",
    "FOLD_CHANGE_THRES = 2\n",
    "\n",
    "diff_expr = diff_expr[\n",
    "    diff_expr.sample_1.isin(regions) & diff_expr.sample_2.isin(regions)\n",
    "]\n",
    "diff_expr = diff_expr[\n",
    "    ((diff_expr.value_1 > 10) | (diff_expr.value_2 > 10)) & (diff_expr.q_value < 0.05)\n",
    "]\n",
    "\n",
    "diff_long = diff_expr[\n",
    "    (diff_expr.sample_1 == \"dorsal\") & (diff_expr.sample_2 == \"ventral\")\n",
    "]\n",
    "diff_long = diff_long[\n",
    "    (np.abs(diff_long[\"log2(fold_change)\"]) > np.log2(FOLD_CHANGE_THRES))\n",
    "]\n",
    "diff_transverse = diff_expr[\n",
    "    (diff_expr.sample_1 == \"proximal\") & (diff_expr.sample_2 == \"distal\")\n",
    "]\n",
    "diff_transverse = diff_transverse[\n",
    "    (np.abs(diff_transverse[\"log2(fold_change)\"]) > np.log2(FOLD_CHANGE_THRES))\n",
    "]\n",
    "diff_radial = diff_expr[\n",
    "    (diff_expr.sample_1 == \"superficial\") & (diff_expr.sample_2 == \"deep\")\n",
    "]\n",
    "diff_radial = diff_radial[\n",
    "    (np.abs(diff_radial[\"log2(fold_change)\"]) > np.log2(FOLD_CHANGE_THRES))\n",
    "]\n",
    "\n",
    "dict_diff_genes[f\"ventral\"] = diff_long[diff_long.test_stat > 0].gene.values\n",
    "dict_diff_genes[f\"dorsal\"] = diff_long[diff_long.test_stat < 0].gene.values\n",
    "\n",
    "dict_diff_genes[f\"distal\"] = diff_transverse[diff_transverse.test_stat > 0].gene.values\n",
    "dict_diff_genes[f\"proximal\"] = diff_transverse[\n",
    "    diff_transverse.test_stat < 0\n",
    "].gene.values\n",
    "\n",
    "dict_diff_genes[f\"deep\"] = diff_radial[diff_radial.test_stat > 0].gene.values\n",
    "dict_diff_genes[f\"superficial\"] = diff_radial[diff_radial.test_stat < 0].gene.values\n",
    "\n",
    "from os.path import join\n",
    "\n",
    "df_spatial_gs = {\"TRAIT\": [], \"GENESET\": []}\n",
    "for trait in dict_diff_genes:\n",
    "    df_spatial_gs[\"TRAIT\"].append(\"spatial_\" + trait)\n",
    "    df_spatial_gs[\"GENESET\"].append(\n",
    "        \",\".join([g for g in dict_diff_genes[trait] if g in dict_hom.values()])\n",
    "    )\n",
    "df_spatial_gs = pd.DataFrame(df_spatial_gs)"
   ]
  },
  {
   "cell_type": "markdown",
   "metadata": {},
   "source": [
    "# Spatial geneset"
   ]
  },
  {
   "cell_type": "code",
   "execution_count": 19,
   "metadata": {},
   "outputs": [],
   "source": [
    "df_gs = pd.concat([df_magma_gs, df_spatial_gs])"
   ]
  },
  {
   "cell_type": "code",
   "execution_count": 20,
   "metadata": {},
   "outputs": [],
   "source": [
    "df_mouse_gs = df_gs.copy()\n",
    "df_mouse_gs.to_csv(\"gs_file/mouse.gs\", sep=\"\\t\", index=False)\n",
    "\n",
    "# mouse to human\n",
    "dict_hom = {row[0]: row[1] for _, row in df_hom.iterrows()}\n",
    "\n",
    "df_human_gs = df_mouse_gs.copy()\n",
    "df_human_gs[\"GENESET\"] = df_mouse_gs[\"GENESET\"].apply(\n",
    "    lambda gs: \",\".join([dict_hom[g] for g in gs.split(\",\")])\n",
    ")\n",
    "df_human_gs.to_csv(\"gs_file/human.gs\", sep=\"\\t\", index=False)"
   ]
  },
  {
   "cell_type": "code",
   "execution_count": 21,
   "metadata": {},
   "outputs": [],
   "source": [
    "# divide the gene set into several pieces for parallel submission to the cluster\n",
    "def divide_gs(df_gs, out_dir, batch_size=1):\n",
    "    batch_dfs = np.array_split(df_gs, int(np.ceil(df_gs.shape[0] / batch_size)))\n",
    "    if os.path.exists(out_dir):\n",
    "        print(f\"{out_dir} already exists. Clean up or use another directory\")\n",
    "        return\n",
    "    else:\n",
    "        os.makedirs(out_dir)\n",
    "    for batch_i, batch_df in enumerate(batch_dfs):\n",
    "        batch_df.to_csv(join(out_dir, f\"batch{batch_i}.gs\"), sep=\"\\t\", index=False)"
   ]
  },
  {
   "cell_type": "code",
   "execution_count": 22,
   "metadata": {},
   "outputs": [],
   "source": [
    "divide_gs(df_mouse_gs, \"gs_file/mouse.gs.batch\")\n",
    "divide_gs(df_human_gs, \"gs_file/human.gs.batch\")"
   ]
  }
 ],
 "metadata": {
  "kernelspec": {
   "display_name": "Python 3",
   "language": "python",
   "name": "python3"
  },
  "language_info": {
   "codemirror_mode": {
    "name": "ipython",
    "version": 3
   },
   "file_extension": ".py",
   "mimetype": "text/x-python",
   "name": "python",
   "nbconvert_exporter": "python",
   "pygments_lexer": "ipython3",
   "version": "3.8.3"
  }
 },
 "nbformat": 4,
 "nbformat_minor": 4
}
