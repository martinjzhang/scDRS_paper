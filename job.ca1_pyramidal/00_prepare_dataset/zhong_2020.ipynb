{
 "cells": [
  {
   "cell_type": "code",
   "execution_count": 2,
   "metadata": {},
   "outputs": [],
   "source": [
    "import numpy as np\n",
    "import pandas as pd\n",
    "import scanpy as sc\n",
    "from os.path import join"
   ]
  },
  {
   "cell_type": "code",
   "execution_count": 7,
   "metadata": {},
   "outputs": [],
   "source": [
    "raw_dir = \"raw/zhong_2020/\""
   ]
  },
  {
   "cell_type": "code",
   "execution_count": 5,
   "metadata": {},
   "outputs": [],
   "source": [
    "adata = sc.read_mtx(join(raw_dir, \"GSE119212_hippocampus_aggr_8_matrix.mtx.gz\")).T\n",
    "df_cell = pd.read_csv(join(raw_dir, \"GSE119212_hippocampus_aggr_8_barcodes.tsv.gz\"), sep='\\t', header=None, index_col=0)\n",
    "df_gene = pd.read_csv(join(raw_dir, \"GSE119212_hippocampus_aggr_8_genes.tsv.gz\"), sep='\\t', header=None, index_col=1)\n",
    "df_cell.index.name = \"cell\"\n",
    "df_gene.index.name = \"gene\"\n",
    "df_gene.columns = [\"ensembl_id\"]\n",
    "\n",
    "adata.obs = df_cell\n",
    "adata.var = df_gene\n",
    "\n",
    "adata.write_h5ad(\"processed/zhong_2020.raw.h5ad\")"
   ]
  },
  {
   "cell_type": "code",
   "execution_count": 6,
   "metadata": {},
   "outputs": [],
   "source": [
    "df_hom = pd.read_csv(\n",
    "    \"/n/holystore01/LABS/price_lab/Users/mjzhang/scTRS_data/gene_annotation/\"\n",
    "    \"mouse_human_homologs.txt\",\n",
    "    sep=\"\\t\",\n",
    ")\n",
    "dict_hom = {row[1]: row[0] for _, row in df_hom.iterrows()}"
   ]
  },
  {
   "cell_type": "code",
   "execution_count": 9,
   "metadata": {},
   "outputs": [
    {
     "name": "stderr",
     "output_type": "stream",
     "text": [
      "Variable names are not unique. To make them unique, call `.var_names_make_unique`.\n",
      "/n/holystore01/LABS/price_lab/Users/khou/miniconda3/lib/python3.8/site-packages/pandas/core/arrays/categorical.py:2487: FutureWarning: The `inplace` parameter in pandas.Categorical.remove_unused_categories is deprecated and will be removed in a future version.\n",
      "  res = method(*args, **kwargs)\n",
      "Variable names are not unique. To make them unique, call `.var_names_make_unique`.\n",
      "Variable names are not unique. To make them unique, call `.var_names_make_unique`.\n",
      "Variable names are not unique. To make them unique, call `.var_names_make_unique`.\n",
      "Variable names are not unique. To make them unique, call `.var_names_make_unique`.\n",
      "Variable names are not unique. To make them unique, call `.var_names_make_unique`.\n",
      "Variable names are not unique. To make them unique, call `.var_names_make_unique`.\n",
      "/n/holystore01/LABS/price_lab/Users/khou/miniconda3/lib/python3.8/site-packages/pandas/core/arrays/categorical.py:2487: FutureWarning: The `inplace` parameter in pandas.Categorical.remove_unused_categories is deprecated and will be removed in a future version.\n",
      "  res = method(*args, **kwargs)\n"
     ]
    }
   ],
   "source": [
    "adata = sc.read_h5ad(\"processed/zhong_2020.raw.h5ad\")\n",
    "adata.obs[\"batch\"] = [str(x.split('-')[-1]) for x in adata.obs.index]\n",
    "adata.obs[\"batch\"] = adata.obs[\"batch\"].astype(\"category\")\n",
    "df_cell_batch = pd.read_csv(join(raw_dir, \"hippocampus-development-human-brain-10XV2.cell_id.csv.gz\"), index_col=0)\n",
    "dict_cell_batch = {i : row[0] for i, row in df_cell_batch.iterrows()}\n",
    "adata.obs[\"batch_name\"] = [dict_cell_batch[i[:-2]] for i in adata.obs.index]\n",
    "\n",
    "sc.pp.filter_cells(adata, min_genes=800)\n",
    "sc.pp.filter_cells(adata, max_genes=7000)\n",
    "sc.pp.filter_genes(adata, min_cells=30)\n",
    "\n",
    "adata.var['mt'] = adata.var_names.str.startswith('MT-')\n",
    "haemoglobin_genes = [\"HBM\", \"HBA1\", \"HBA2\", \"HBB\", \"HBD\", \"HBE1\", \"HBG1\", \"HBG2\", \"HBQ1\", \"HBZ\"]\n",
    "adata.var['haemoglobin'] = adata.var_names.isin(haemoglobin_genes)\n",
    "sc.pp.calculate_qc_metrics(adata, qc_vars=['mt', \"haemoglobin\"], percent_top=None, log1p=False, inplace=True)\n",
    "adata = adata[(adata.obs.pct_counts_mt < 15) & (adata.obs.pct_counts_haemoglobin < 5), :]"
   ]
  },
  {
   "cell_type": "code",
   "execution_count": 10,
   "metadata": {},
   "outputs": [
    {
     "name": "stderr",
     "output_type": "stream",
     "text": [
      "Variable names are not unique. To make them unique, call `.var_names_make_unique`.\n",
      "Variable names are not unique. To make them unique, call `.var_names_make_unique`.\n"
     ]
    },
    {
     "data": {
      "image/png": "[encoded data removed]",
      "text/plain": [
       "<Figure size 360x396 with 1 Axes>"
      ]
     },
     "metadata": {
      "needs_background": "light"
     },
     "output_type": "display_data"
    },
    {
     "name": "stderr",
     "output_type": "stream",
     "text": [
      "/n/holystore01/LABS/price_lab/Users/khou/miniconda3/lib/python3.8/site-packages/pandas/core/arrays/categorical.py:2487: FutureWarning: The `inplace` parameter in pandas.Categorical.remove_unused_categories is deprecated and will be removed in a future version.\n",
      "  res = method(*args, **kwargs)\n"
     ]
    }
   ],
   "source": [
    "adata.raw = adata\n",
    "sc.pp.normalize_total(adata, target_sum=1e4)\n",
    "sc.pp.log1p(adata)\n",
    "sc.pp.highly_variable_genes(adata, min_mean=0.0125, max_mean=3, min_disp=0.5)\n",
    "sc.pl.highest_expr_genes(adata, n_top=20, )\n",
    "\n",
    "adata = adata[:, adata.var.highly_variable]"
   ]
  },
  {
   "cell_type": "code",
   "execution_count": 11,
   "metadata": {},
   "outputs": [
    {
     "name": "stderr",
     "output_type": "stream",
     "text": [
      "/n/holystore01/LABS/price_lab/Users/khou/miniconda3/lib/python3.8/site-packages/scanpy/preprocessing/_simple.py:806: UserWarning: Revieved a view of an AnnData. Making a copy.\n",
      "  view_to_actual(adata)\n"
     ]
    }
   ],
   "source": [
    "sc.pp.scale(adata, max_value=10)\n",
    "sc.tl.pca(adata, svd_solver='arpack')\n",
    "sc.set_figure_params(dpi=150)\n",
    "sc.pp.neighbors(adata, n_neighbors=10, n_pcs=40)\n",
    "sc.tl.umap(adata)\n",
    "sc.tl.leiden(adata)"
   ]
  },
  {
   "cell_type": "code",
   "execution_count": 14,
   "metadata": {},
   "outputs": [
    {
     "name": "stderr",
     "output_type": "stream",
     "text": [
      "Variable names are not unique. To make them unique, call `.var_names_make_unique`.\n"
     ]
    }
   ],
   "source": [
    "raw_adata = adata.raw.to_adata()\n",
    "raw_adata.var_names_make_unique()\n",
    "raw_adata.write_h5ad(\"processed/zhong_2020.processed.h5ad\")"
   ]
  },
  {
   "cell_type": "code",
   "execution_count": 15,
   "metadata": {},
   "outputs": [
    {
     "name": "stderr",
     "output_type": "stream",
     "text": [
      "<ipython-input-15-b1f5838a5dfc>:2: SettingWithCopyWarning: \n",
      "A value is trying to be set on a copy of a slice from a DataFrame.\n",
      "Try using .loc[row_indexer,col_indexer] = value instead\n",
      "\n",
      "See the caveats in the documentation: https://pandas.pydata.org/pandas-docs/stable/user_guide/indexing.html#returning-a-view-versus-a-copy\n",
      "  df_cov[\"const\"] = 1.\n"
     ]
    }
   ],
   "source": [
    "df_cov = raw_adata.obs[[\"batch_name\", \"n_genes\"]]\n",
    "df_cov[\"const\"] = 1.\n",
    "pd.get_dummies(df_cov, drop_first=True).to_csv(\"processed/zhong_2020.cov.tsv\", sep='\\t')"
   ]
  }
 ],
 "metadata": {
  "kernelspec": {
   "display_name": "Python 3",
   "language": "python",
   "name": "python3"
  },
  "language_info": {
   "codemirror_mode": {
    "name": "ipython",
    "version": 3
   },
   "file_extension": ".py",
   "mimetype": "text/x-python",
   "name": "python",
   "nbconvert_exporter": "python",
   "pygments_lexer": "ipython3",
   "version": "3.8.3"
  }
 },
 "nbformat": 4,
 "nbformat_minor": 4
}
