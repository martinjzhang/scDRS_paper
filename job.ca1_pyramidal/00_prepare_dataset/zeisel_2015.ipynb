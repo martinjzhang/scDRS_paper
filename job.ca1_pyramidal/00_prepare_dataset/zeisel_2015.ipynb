{
 "cells": [
  {
   "cell_type": "code",
   "execution_count": 1,
   "metadata": {},
   "outputs": [],
   "source": [
    "import pandas as pd\n",
    "import anndata\n",
    "from anndata import AnnData\n",
    "import scanpy as sc\n",
    "import matplotlib.pyplot as plt\n",
    "from os.path import join"
   ]
  },
  {
   "cell_type": "code",
   "execution_count": 2,
   "metadata": {},
   "outputs": [],
   "source": [
    "raw_dir = \"raw/zeisel_2015/\""
   ]
  },
  {
   "cell_type": "code",
   "execution_count": 3,
   "metadata": {},
   "outputs": [
    {
     "name": "stderr",
     "output_type": "stream",
     "text": [
      "... storing 'tissue' as categorical\n",
      "... storing 'group #' as categorical\n",
      "... storing 'well' as categorical\n",
      "... storing 'sex' as categorical\n",
      "... storing 'age' as categorical\n",
      "... storing 'diameter' as categorical\n",
      "... storing 'level1class' as categorical\n",
      "... storing 'level2class' as categorical\n"
     ]
    }
   ],
   "source": [
    "# meta information\n",
    "df_meta = pd.read_csv(join(raw_dir, \"expression_mRNA_17-Aug-2014.txt\"), nrows=10, sep='\\t', header=None)\n",
    "df_meta = df_meta.iloc[:, 1:].T\n",
    "columns = df_meta.iloc[0, :]\n",
    "df_meta = df_meta.iloc[1:, :]\n",
    "df_meta.columns = columns\n",
    "df_meta = df_meta.set_index(\"cell_id\")\n",
    "df_meta.columns.name = None\n",
    "df_meta[\"total mRNA mol\"] = df_meta[\"total mRNA mol\"].astype(float)\n",
    "\n",
    "# expression information\n",
    "df_expr = pd.read_csv(join(raw_dir, \"expression_mRNA_17-Aug-2014.txt\"), skiprows=11, sep='\\t', header=None).set_index(0)\n",
    "df_expr.index.name = \"gene\"\n",
    "df_gene_backspin = df_expr.iloc[:, [0]]\n",
    "df_gene_backspin.columns = ['BackSPIN']\n",
    "df_expr = df_expr.iloc[:, 1:]\n",
    "df_expr.columns = df_meta.index\n",
    "df_expr = df_expr.T\n",
    "adata = AnnData(df_expr, obs=df_meta, var=df_gene_backspin)\n",
    "adata.write_h5ad(\"processed/zeisel_2015.raw.h5ad\")"
   ]
  },
  {
   "cell_type": "code",
   "execution_count": null,
   "metadata": {},
   "outputs": [],
   "source": [
    "adata = sc.read_h5ad(\"processed/zeisel_2015.raw.h5ad\")\n",
    "\n",
    "sc.pp.filter_cells(adata, min_genes=0)\n",
    "sc.pp.filter_genes(adata, min_cells=30)\n",
    "\n",
    "adata.raw = adata\n",
    "\n",
    "sc.pp.normalize_total(adata, target_sum=1e4)\n",
    "sc.pp.log1p(adata)\n",
    "sc.pp.highly_variable_genes(adata, min_mean=0.0125, max_mean=3, min_disp=0.5)\n",
    "sc.pl.highest_expr_genes(adata, n_top=20, )\n",
    "\n",
    "adata = adata[:, adata.var.highly_variable]\n",
    "\n",
    "sc.pp.scale(adata, max_value=10)\n",
    "sc.tl.pca(adata, svd_solver='arpack')\n",
    "sc.set_figure_params(dpi=150)\n",
    "sc.pp.neighbors(adata, n_neighbors=10, n_pcs=40)\n",
    "sc.tl.umap(adata)\n",
    "sc.tl.leiden(adata)\n",
    "\n",
    "raw_adata = adata.raw.to_adata()\n",
    "raw_adata.obsp = adata.obsp\n",
    "raw_adata.write_h5ad(\"processed/zeisel_2015.processed.h5ad\")"
   ]
  },
  {
   "cell_type": "code",
   "execution_count": 9,
   "metadata": {},
   "outputs": [],
   "source": [
    "df_cov = pd.DataFrame(index=adata.obs.index)\n",
    "df_cov['const'] = 1\n",
    "df_cov['n_genes'] = adata.obs['n_genes']\n",
    "df_cov.to_csv(\"processed/zeisel_2015.cov.tsv\", sep='\\t')"
   ]
  },
  {
   "cell_type": "code",
   "execution_count": null,
   "metadata": {},
   "outputs": [],
   "source": [
    "sc.pl.umap(adata, color=[\"level1class\", \"level2class\", \"Gad1\"], size=40, legend_loc=\"on data\")"
   ]
  }
 ],
 "metadata": {
  "kernelspec": {
   "display_name": "Python 3",
   "language": "python",
   "name": "python3"
  },
  "language_info": {
   "codemirror_mode": {
    "name": "ipython",
    "version": 3
   },
   "file_extension": ".py",
   "mimetype": "text/x-python",
   "name": "python",
   "nbconvert_exporter": "python",
   "pygments_lexer": "ipython3",
   "version": "3.8.3"
  }
 },
 "nbformat": 4,
 "nbformat_minor": 4
}
