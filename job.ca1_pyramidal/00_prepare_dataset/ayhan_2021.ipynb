{
 "cells": [
  {
   "cell_type": "code",
   "execution_count": 2,
   "metadata": {},
   "outputs": [],
   "source": [
    "import numpy as np\n",
    "import scanpy as sc\n",
    "import pandas as pd\n",
    "import matplotlib.pyplot as plt\n",
    "from os.path import join"
   ]
  },
  {
   "cell_type": "code",
   "execution_count": 3,
   "metadata": {},
   "outputs": [],
   "source": [
    "raw_dir = \"raw/ayhan_2021/\""
   ]
  },
  {
   "cell_type": "code",
   "execution_count": 6,
   "metadata": {},
   "outputs": [
    {
     "name": "stderr",
     "output_type": "stream",
     "text": [
      "/n/holystore01/LABS/price_lab/Users/khou/miniconda3/lib/python3.8/site-packages/anndata/_core/anndata.py:119: ImplicitModificationWarning: Transforming to str index.\n",
      "  warnings.warn(\"Transforming to str index.\", ImplicitModificationWarning)\n",
      "... storing 'orig.ident' as categorical\n",
      "... storing 'group' as categorical\n",
      "... storing 'sex' as categorical\n",
      "... storing 'batch' as categorical\n",
      "... storing 'version' as categorical\n",
      "... storing 'donor' as categorical\n",
      "... storing 'Cluster' as categorical\n"
     ]
    }
   ],
   "source": [
    "adata = sc.read_text(join(raw_dir, \"exprMatrix.tsv.gz\"))\n",
    "meta = pd.read_csv(join(raw_dir, \"meta.tsv\"), sep=\"\\t\")\n",
    "adata.var = meta\n",
    "adata = adata.T\n",
    "adata.obs = adata.obs.set_index(\"Cell\")\n",
    "\n",
    "umap = pd.read_csv(join(raw_dir, \"Seurat_umap.coords.tsv.gz\"), sep='\\t', header=None, index_col=0, names=[\"Cell\", \"Seurat_umap1\", \"Seurat_umap2\"])\n",
    "assert (adata.obs.index == umap.index).all()\n",
    "adata.obs[[\"Seurat_umap1\", \"Seurat_umap2\"]] = umap[[\"Seurat_umap1\", \"Seurat_umap2\"]]\n",
    "sc.pp.filter_cells(adata, min_genes=0)\n",
    "adata.write_h5ad(\"processed/ayhan_2021.raw.h5ad\")"
   ]
  },
  {
   "cell_type": "code",
   "execution_count": 3,
   "metadata": {},
   "outputs": [],
   "source": [
    "adata = sc.read_h5ad(\"processed/ayhan_2021.raw.h5ad\")"
   ]
  },
  {
   "cell_type": "code",
   "execution_count": 12,
   "metadata": {},
   "outputs": [],
   "source": [
    "adata.obsm[\"X_umap\"] = adata.obs[[\"Seurat_umap1\", \"Seurat_umap2\"]]"
   ]
  },
  {
   "cell_type": "code",
   "execution_count": 31,
   "metadata": {},
   "outputs": [
    {
     "data": {
      "text/plain": [
       "AnnData object with n_obs × n_vars = 129908 × 17180\n",
       "    obs: 'orig.ident', 'nCount_RNA', 'nFeature_RNA', 'percent.mt', 'group', 'age', 'sex', 'epilepsy_duration', 'batch', 'version', 'donor', 'seurat_clusters', 'epilepsy_frequency', 'Cluster', 'Seurat_umap1', 'Seurat_umap2', 'n_genes'\n",
       "    uns: 'Cluster_colors'\n",
       "    obsm: 'X_umap'"
      ]
     },
     "execution_count": 31,
     "metadata": {},
     "output_type": "execute_result"
    }
   ],
   "source": [
    "adata"
   ]
  },
  {
   "cell_type": "code",
   "execution_count": 17,
   "metadata": {},
   "outputs": [],
   "source": [
    "sc.set_figure_params(dpi=200)"
   ]
  },
  {
   "cell_type": "code",
   "execution_count": null,
   "metadata": {},
   "outputs": [],
   "source": [
    "?sc.pl.umap"
   ]
  },
  {
   "cell_type": "code",
   "execution_count": null,
   "metadata": {},
   "outputs": [],
   "source": [
    "sc.pl.umap(adata, color=[\"Cluster\", \"SATB2\", \"TYRO3\", \"PFKP\", \"FN1\"], ncols=1, use_raw=False)"
   ]
  },
  {
   "cell_type": "code",
   "execution_count": 8,
   "metadata": {},
   "outputs": [
    {
     "name": "stdout",
     "output_type": "stream",
     "text": [
      "8\n",
      "8\n"
     ]
    }
   ],
   "source": [
    "df_cov = pd.get_dummies(adata.obs[[\"n_genes\", \"nCount_RNA\", \"percent.mt\", \"age\", \"batch\", \"sex\", \"version\", \"epilepsy_duration\", \"epilepsy_frequency\"]], drop_first=True)\n",
    "print(np.linalg.matrix_rank(df_cov.values))\n",
    "\n",
    "# make covariates (remove dependent columns)\n",
    "df_cov = pd.get_dummies(adata.obs[[\"n_genes\", \"nCount_RNA\", \"percent.mt\", \"batch\", \"sex\", \"epilepsy_duration\"]], drop_first=True)\n",
    "print(np.linalg.matrix_rank(df_cov.values))\n",
    "df_cov[\"const\"] = 1.\n",
    "df_cov.to_csv(\"processed/ayhan_2021.cov.tsv\", sep='\\t')"
   ]
  },
  {
   "cell_type": "code",
   "execution_count": 10,
   "metadata": {},
   "outputs": [],
   "source": [
    "# processed = raw.copy()\n",
    "# sc.pp.highly_variable_genes(processed)\n",
    "# processed = processed[:, processed.var.highly_variable]\n",
    "# sc.pp.scale(processed, max_value=10)\n",
    "# sc.tl.pca(processed, svd_solver='arpack')\n",
    "# sc.pp.neighbors(processed, n_neighbors=10, n_pcs=40)\n",
    "# sc.tl.umap(processed)\n",
    "# raw.obsm[\"X_umap\"] = raw.obs[['Seurat_umap1', 'Seurat_umap2']].values\n",
    "# # visualize raw dataset\n",
    "# sc.pl.umap(raw, color=[\"Cluster\", \"age\", \"sex\", \"batch\"])\n",
    "# for g in np.unique(raw.obs[\"orig.ident\"]):\n",
    "#     sub_adata = raw[raw.obs[\"orig.ident\"] == g]\n",
    "#     sc.pl.umap(sub_adata, color=\"Cluster\")\n",
    "\n",
    "# # visualize processed dataset\n",
    "# for g in np.unique(processed.obs[\"orig.ident\"]):\n",
    "#     sub_adata = processed[processed.obs[\"orig.ident\"] == g]\n",
    "#     sc.pl.umap(sub_adata, color=\"Cluster\")"
   ]
  }
 ],
 "metadata": {
  "kernelspec": {
   "display_name": "Python 3",
   "language": "python",
   "name": "python3"
  },
  "language_info": {
   "codemirror_mode": {
    "name": "ipython",
    "version": 3
   },
   "file_extension": ".py",
   "mimetype": "text/x-python",
   "name": "python",
   "nbconvert_exporter": "python",
   "pygments_lexer": "ipython3",
   "version": "3.8.3"
  }
 },
 "nbformat": 4,
 "nbformat_minor": 4
}
