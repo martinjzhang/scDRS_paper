{
 "cells": [
  {
   "cell_type": "code",
   "execution_count": 1,
   "metadata": {},
   "outputs": [],
   "source": [
    "import numpy as np\n",
    "import pandas as pd\n",
    "from anndata import AnnData\n",
    "import anndata\n",
    "import scipy\n",
    "from tqdm import tqdm\n",
    "from scipy.sparse import csr_matrix\n",
    "import scanpy as sc\n",
    "from os.path import join\n",
    "def to_adata(df):\n",
    "    adata = AnnData(csr_matrix(df.values), obs=pd.DataFrame(index=df.index.values), var=pd.DataFrame(index=df.columns.values))\n",
    "    return adata"
   ]
  },
  {
   "cell_type": "code",
   "execution_count": 2,
   "metadata": {},
   "outputs": [],
   "source": [
    "raw_dir = \"./raw/yao_2021\""
   ]
  },
  {
   "cell_type": "code",
   "execution_count": 4,
   "metadata": {},
   "outputs": [],
   "source": [
    "meta = pd.read_csv(join(raw_dir, \"metadata.csv\"), index_col=0)\n",
    "chunks = pd.read_csv(join(raw_dir, \"matrix.csv\"), index_col=0, chunksize=1000)\n",
    "list_adata = []\n",
    "for chunk in tqdm(chunks):\n",
    "    list_adata.append(to_adata(chunk))\n",
    "adata = anndata.concat(list_adata, axis=0)\n",
    "assert set(adata.obs.index) == set(meta.index)\n",
    "adata.obs = meta.reindex(adata.obs.index)\n",
    "adata.write_h5ad(\"processed/yao_2021.raw.h5ad\")"
   ]
  },
  {
   "cell_type": "code",
   "execution_count": 3,
   "metadata": {},
   "outputs": [
    {
     "name": "stderr",
     "output_type": "stream",
     "text": [
      "/n/holystore01/LABS/price_lab/Users/khou/miniconda3/lib/python3.8/site-packages/pandas/core/arrays/categorical.py:2487: FutureWarning: The `inplace` parameter in pandas.Categorical.remove_unused_categories is deprecated and will be removed in a future version.\n",
      "  res = method(*args, **kwargs)\n"
     ]
    }
   ],
   "source": [
    "adata = sc.read_h5ad(\"processed/yao_2021.raw.h5ad\")\n",
    "tsne = pd.read_csv(join(raw_dir, \"tsne.csv\"), index_col=0)\n",
    "adata.obs[[\"tsne_1\", \"tsne_2\"]] = tsne.reindex(adata.obs.index)\n",
    "df_hom = pd.read_csv('/n/holystore01/LABS/price_lab/Users/mjzhang/scTRS_data/gene_annotation/'\n",
    "                     'mouse_human_homologs.txt', sep='\\t')\n",
    "adata = adata[:, adata.var.index.isin(df_hom[\"MOUSE_GENE_SYM\"])]"
   ]
  },
  {
   "cell_type": "code",
   "execution_count": null,
   "metadata": {},
   "outputs": [
    {
     "name": "stderr",
     "output_type": "stream",
     "text": [
      "Trying to set attribute `.obs` of view, copying.\n"
     ]
    }
   ],
   "source": [
    "sc.pp.filter_cells(adata, min_genes=0)\n",
    "sc.pp.filter_genes(adata, min_cells=50)\n",
    "\n",
    "adata.raw = adata\n",
    "sc.pp.normalize_total(adata, target_sum=1e4)\n",
    "sc.pp.log1p(adata)\n",
    "sc.pp.highly_variable_genes(adata, min_mean=0.0125, max_mean=3, min_disp=0.5)\n",
    "sc.pl.highest_expr_genes(adata, n_top=20, )\n",
    "\n",
    "adata = adata[:, adata.var.highly_variable]\n",
    "\n",
    "sc.pp.scale(adata, max_value=10)\n",
    "sc.tl.pca(adata, svd_solver='arpack')\n",
    "sc.set_figure_params(dpi=150)\n",
    "sc.pp.neighbors(adata, n_neighbors=10, n_pcs=40)\n",
    "sc.tl.umap(adata)\n",
    "sc.tl.leiden(adata)"
   ]
  },
  {
   "cell_type": "code",
   "execution_count": null,
   "metadata": {},
   "outputs": [],
   "source": [
    "raw_adata = adata.raw.to_adata()\n",
    "raw_adata.var_names_make_unique()\n",
    "raw_adata.write_h5ad(\"processed/yao_2021.processed.h5ad\")"
   ]
  },
  {
   "cell_type": "code",
   "execution_count": null,
   "metadata": {},
   "outputs": [],
   "source": [
    "df_cov = raw_adata.obs[\"n_genes\"]\n",
    "df_cov[\"const\"] = 1.\n",
    "df_cov.to_csv(\"processed/yao_2021.cov.tsv\", sep='\\t')"
   ]
  }
 ],
 "metadata": {
  "kernelspec": {
   "display_name": "Python 3",
   "language": "python",
   "name": "python3"
  },
  "language_info": {
   "codemirror_mode": {
    "name": "ipython",
    "version": 3
   },
   "file_extension": ".py",
   "mimetype": "text/x-python",
   "name": "python",
   "nbconvert_exporter": "python",
   "pygments_lexer": "ipython3",
   "version": "3.8.3"
  }
 },
 "nbformat": 4,
 "nbformat_minor": 4
}
