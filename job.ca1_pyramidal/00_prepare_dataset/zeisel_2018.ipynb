{
 "cells": [
  {
   "cell_type": "code",
   "execution_count": 1,
   "metadata": {},
   "outputs": [],
   "source": [
    "import loompy\n",
    "import numpy as np\n",
    "import pandas as pd\n",
    "from anndata import AnnData\n",
    "import scanpy as sc"
   ]
  },
  {
   "cell_type": "code",
   "execution_count": 3,
   "metadata": {},
   "outputs": [],
   "source": [
    "lc = loompy.connect(\"./raw/zeisel_2018/l5_all.loom\")"
   ]
  },
  {
   "cell_type": "code",
   "execution_count": 4,
   "metadata": {},
   "outputs": [],
   "source": [
    "X = lc.layers[\"\"].sparse().T.tocsr() \n",
    "dict_obs = dict()\n",
    "for k in lc.col_attrs.keys():\n",
    "    if k == \"Comment\":\n",
    "        continue\n",
    "    dict_obs[k] = lc.col_attrs[k]\n",
    "obs = pd.DataFrame(dict_obs).set_index(\"CellID\")\n",
    "var = pd.DataFrame(dict(lc.row_attrs)).set_index(\"Gene\")"
   ]
  },
  {
   "cell_type": "code",
   "execution_count": 5,
   "metadata": {},
   "outputs": [
    {
     "name": "stderr",
     "output_type": "stream",
     "text": [
      "Observation names are not unique. To make them unique, call `.obs_names_make_unique`.\n",
      "Variable names are not unique. To make them unique, call `.var_names_make_unique`.\n"
     ]
    }
   ],
   "source": [
    "adata = AnnData(X, obs=obs, var=var)\n",
    "adata.obs_names_make_unique()\n",
    "adata = adata[:, ~adata.var.index.duplicated(keep=False)].copy()"
   ]
  },
  {
   "cell_type": "code",
   "execution_count": 8,
   "metadata": {},
   "outputs": [],
   "source": [
    "df_hom = pd.read_csv('/n/holystore01/LABS/price_lab/Users/mjzhang/scTRS_data/gene_annotation/'\n",
    "                     'mouse_human_homologs.txt', sep='\\t')"
   ]
  },
  {
   "cell_type": "code",
   "execution_count": 12,
   "metadata": {},
   "outputs": [
    {
     "name": "stderr",
     "output_type": "stream",
     "text": [
      "/n/holystore01/LABS/price_lab/Users/khou/miniconda3/lib/python3.8/site-packages/anndata/_core/anndata.py:1207: ImplicitModificationWarning: Initializing view as actual.\n",
      "  warnings.warn(\n",
      "Trying to set attribute `.obs` of view, copying.\n",
      "... storing 'Age' as categorical\n",
      "Trying to set attribute `.obs` of view, copying.\n",
      "... storing 'AnalysisPool' as categorical\n",
      "Trying to set attribute `.obs` of view, copying.\n",
      "... storing 'AnalysisProject' as categorical\n",
      "Trying to set attribute `.obs` of view, copying.\n",
      "... storing 'Bucket' as categorical\n",
      "Trying to set attribute `.obs` of view, copying.\n",
      "... storing 'CellConc' as categorical\n",
      "Trying to set attribute `.obs` of view, copying.\n",
      "... storing 'Cell_Conc' as categorical\n",
      "Trying to set attribute `.obs` of view, copying.\n",
      "... storing 'ChipID' as categorical\n",
      "Trying to set attribute `.obs` of view, copying.\n",
      "... storing 'Class' as categorical\n",
      "Trying to set attribute `.obs` of view, copying.\n",
      "... storing 'ClusterName' as categorical\n",
      "Trying to set attribute `.obs` of view, copying.\n",
      "... storing 'Comments' as categorical\n",
      "Trying to set attribute `.obs` of view, copying.\n",
      "... storing 'DateCaptured' as categorical\n",
      "Trying to set attribute `.obs` of view, copying.\n",
      "... storing 'Date_Captured' as categorical\n",
      "Trying to set attribute `.obs` of view, copying.\n",
      "... storing 'Description' as categorical\n",
      "Trying to set attribute `.obs` of view, copying.\n",
      "... storing 'Developmental_compartment' as categorical\n",
      "Trying to set attribute `.obs` of view, copying.\n",
      "... storing 'DonorID' as categorical\n",
      "Trying to set attribute `.obs` of view, copying.\n",
      "... storing 'Estimated Number of Cells' as categorical\n",
      "Trying to set attribute `.obs` of view, copying.\n",
      "... storing 'Flowcell' as categorical\n",
      "Trying to set attribute `.obs` of view, copying.\n",
      "... storing 'Fraction Reads in Cells' as categorical\n",
      "Trying to set attribute `.obs` of view, copying.\n",
      "... storing 'Label' as categorical\n",
      "Trying to set attribute `.obs` of view, copying.\n",
      "... storing 'Location_based_on' as categorical\n",
      "Trying to set attribute `.obs` of view, copying.\n",
      "... storing 'Mean Reads per Cell' as categorical\n",
      "Trying to set attribute `.obs` of view, copying.\n",
      "... storing 'Median Genes per Cell' as categorical\n",
      "Trying to set attribute `.obs` of view, copying.\n",
      "... storing 'Median UMI Counts per Cell' as categorical\n",
      "Trying to set attribute `.obs` of view, copying.\n",
      "... storing 'NGI_PlateWell' as categorical\n",
      "Trying to set attribute `.obs` of view, copying.\n",
      "... storing 'Neurotransmitter' as categorical\n",
      "Trying to set attribute `.obs` of view, copying.\n",
      "... storing 'NumPooledAnimals' as categorical\n",
      "Trying to set attribute `.obs` of view, copying.\n",
      "... storing 'Num_Pooled_Animals' as categorical\n",
      "Trying to set attribute `.obs` of view, copying.\n",
      "... storing 'Number of Reads' as categorical\n",
      "Trying to set attribute `.obs` of view, copying.\n",
      "... storing 'PCRCycles' as categorical\n",
      "Trying to set attribute `.obs` of view, copying.\n",
      "... storing 'PCR_Cycles' as categorical\n",
      "Trying to set attribute `.obs` of view, copying.\n",
      "... storing 'PassedQC' as categorical\n",
      "Trying to set attribute `.obs` of view, copying.\n",
      "... storing 'PlugDate' as categorical\n",
      "Trying to set attribute `.obs` of view, copying.\n",
      "... storing 'Plug_Date' as categorical\n",
      "Trying to set attribute `.obs` of view, copying.\n",
      "... storing 'Probable_location' as categorical\n",
      "Trying to set attribute `.obs` of view, copying.\n",
      "... storing 'Project' as categorical\n",
      "Trying to set attribute `.obs` of view, copying.\n",
      "... storing 'Q30 Bases in Barcode' as categorical\n",
      "Trying to set attribute `.obs` of view, copying.\n",
      "... storing 'Q30 Bases in RNA Read' as categorical\n",
      "Trying to set attribute `.obs` of view, copying.\n",
      "... storing 'Q30 Bases in Sample Index' as categorical\n",
      "Trying to set attribute `.obs` of view, copying.\n",
      "... storing 'Q30 Bases in UMI' as categorical\n",
      "Trying to set attribute `.obs` of view, copying.\n",
      "... storing 'Reads Mapped Confidently to Exonic Regions' as categorical\n",
      "Trying to set attribute `.obs` of view, copying.\n",
      "... storing 'Reads Mapped Confidently to Intergenic Regions' as categorical\n",
      "Trying to set attribute `.obs` of view, copying.\n",
      "... storing 'Reads Mapped Confidently to Intronic Regions' as categorical\n",
      "Trying to set attribute `.obs` of view, copying.\n",
      "... storing 'Reads Mapped Confidently to Transcriptome' as categorical\n",
      "Trying to set attribute `.obs` of view, copying.\n",
      "... storing 'Region' as categorical\n",
      "Trying to set attribute `.obs` of view, copying.\n",
      "... storing 'SampleID' as categorical\n",
      "Trying to set attribute `.obs` of view, copying.\n",
      "... storing 'SampleIndex' as categorical\n",
      "Trying to set attribute `.obs` of view, copying.\n",
      "... storing 'SampleOK' as categorical\n",
      "Trying to set attribute `.obs` of view, copying.\n",
      "... storing 'Sample_Index' as categorical\n",
      "Trying to set attribute `.obs` of view, copying.\n",
      "... storing 'SeqComment' as categorical\n",
      "Trying to set attribute `.obs` of view, copying.\n",
      "... storing 'SeqLibDate' as categorical\n",
      "Trying to set attribute `.obs` of view, copying.\n",
      "... storing 'SeqLibOk' as categorical\n",
      "Trying to set attribute `.obs` of view, copying.\n",
      "... storing 'Seq_Comment' as categorical\n",
      "Trying to set attribute `.obs` of view, copying.\n",
      "... storing 'Seq_Lib_Date' as categorical\n",
      "Trying to set attribute `.obs` of view, copying.\n",
      "... storing 'Seq_Lib_Ok' as categorical\n",
      "Trying to set attribute `.obs` of view, copying.\n",
      "... storing 'Sequencing Saturation' as categorical\n",
      "Trying to set attribute `.obs` of view, copying.\n",
      "... storing 'Serial_Number' as categorical\n",
      "Trying to set attribute `.obs` of view, copying.\n",
      "... storing 'Sex' as categorical\n",
      "Trying to set attribute `.obs` of view, copying.\n",
      "... storing 'Species' as categorical\n",
      "Trying to set attribute `.obs` of view, copying.\n",
      "... storing 'Strain' as categorical\n",
      "Trying to set attribute `.obs` of view, copying.\n",
      "... storing 'Subclass' as categorical\n",
      "Trying to set attribute `.obs` of view, copying.\n",
      "... storing 'TargetNumCells' as categorical\n",
      "Trying to set attribute `.obs` of view, copying.\n",
      "... storing 'Target_Num_Cells' as categorical\n",
      "Trying to set attribute `.obs` of view, copying.\n",
      "... storing 'TaxonomyRank1' as categorical\n",
      "Trying to set attribute `.obs` of view, copying.\n",
      "... storing 'TaxonomyRank2' as categorical\n",
      "Trying to set attribute `.obs` of view, copying.\n",
      "... storing 'TaxonomyRank3' as categorical\n",
      "Trying to set attribute `.obs` of view, copying.\n",
      "... storing 'TaxonomyRank4' as categorical\n",
      "Trying to set attribute `.obs` of view, copying.\n",
      "... storing 'TaxonomySymbol' as categorical\n",
      "Trying to set attribute `.obs` of view, copying.\n",
      "... storing 'Taxonomy_group' as categorical\n",
      "Trying to set attribute `.obs` of view, copying.\n",
      "... storing 'TimepointPool' as categorical\n",
      "Trying to set attribute `.obs` of view, copying.\n",
      "... storing 'Tissue' as categorical\n",
      "Trying to set attribute `.obs` of view, copying.\n",
      "... storing 'Total Genes Detected' as categorical\n",
      "Trying to set attribute `.obs` of view, copying.\n",
      "... storing 'Transcriptome' as categorical\n",
      "Trying to set attribute `.obs` of view, copying.\n",
      "... storing 'Valid Barcodes' as categorical\n",
      "Trying to set attribute `.obs` of view, copying.\n",
      "... storing 'cDNAConcNanogramPerMicroliter' as categorical\n",
      "Trying to set attribute `.obs` of view, copying.\n",
      "... storing 'cDNALibOk' as categorical\n",
      "Trying to set attribute `.obs` of view, copying.\n",
      "... storing 'cDNA_Lib_Ok' as categorical\n",
      "Trying to set attribute `.obs` of view, copying.\n",
      "... storing 'ngperul_cDNA' as categorical\n"
     ]
    }
   ],
   "source": [
    "adata = adata[:, adata.var.index.isin(df_hom[\"MOUSE_GENE_SYM\"])]\n",
    "adata.write_h5ad(\"processed/zeisel_2018.raw.h5ad\")"
   ]
  },
  {
   "cell_type": "code",
   "execution_count": 11,
   "metadata": {},
   "outputs": [],
   "source": [
    "# adata_hippo = adata[adata.obs[\"Region\"].isin([\"Hippocampus\"]), :]\n",
    "# # filter homolog genes\n",
    "# adata_hippo = adata_hippo[:, adata_hippo.var.index.isin(df_hom[\"MOUSE_GENE_SYM\"])]\n",
    "# # save \n",
    "# adata_hippo.write_h5ad(\"raw.h5ad\")"
   ]
  },
  {
   "cell_type": "code",
   "execution_count": 2,
   "metadata": {},
   "outputs": [],
   "source": [
    "adata = sc.read_h5ad(\"processed/zeisel_2018.raw.h5ad\")"
   ]
  },
  {
   "cell_type": "code",
   "execution_count": 3,
   "metadata": {},
   "outputs": [
    {
     "name": "stderr",
     "output_type": "stream",
     "text": [
      "/n/holystore01/LABS/price_lab/Users/khou/miniconda3/lib/python3.8/site-packages/pandas/core/arrays/categorical.py:2487: FutureWarning: The `inplace` parameter in pandas.Categorical.remove_unused_categories is deprecated and will be removed in a future version.\n",
      "  res = method(*args, **kwargs)\n",
      "<ipython-input-3-e6beafb192f2>:4: SettingWithCopyWarning: \n",
      "A value is trying to be set on a copy of a slice from a DataFrame.\n",
      "Try using .loc[row_indexer,col_indexer] = value instead\n",
      "\n",
      "See the caveats in the documentation: https://pandas.pydata.org/pandas-docs/stable/user_guide/indexing.html#returning-a-view-versus-a-copy\n",
      "  df_cov[\"const\"] = 1.\n"
     ]
    }
   ],
   "source": [
    "import scanpy as sc\n",
    "sc.pp.filter_cells(adata, min_genes=0)\n",
    "df_cov = adata.obs[[\"n_genes\"]]\n",
    "df_cov[\"const\"] = 1.\n",
    "df_cov.to_csv(\"processed/zeisel_2018.cov.tsv\", sep='\\t')"
   ]
  }
 ],
 "metadata": {
  "kernelspec": {
   "display_name": "Python 3",
   "language": "python",
   "name": "python3"
  },
  "language_info": {
   "codemirror_mode": {
    "name": "ipython",
    "version": 3
   },
   "file_extension": ".py",
   "mimetype": "text/x-python",
   "name": "python",
   "nbconvert_exporter": "python",
   "pygments_lexer": "ipython3",
   "version": "3.8.3"
  }
 },
 "nbformat": 4,
 "nbformat_minor": 4
}
