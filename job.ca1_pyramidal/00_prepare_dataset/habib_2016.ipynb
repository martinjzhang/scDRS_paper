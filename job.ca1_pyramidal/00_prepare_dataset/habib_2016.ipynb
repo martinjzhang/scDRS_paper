{
 "cells": [
  {
   "cell_type": "code",
   "execution_count": 1,
   "metadata": {},
   "outputs": [],
   "source": [
    "import pandas as pd\n",
    "import anndata\n",
    "from anndata import AnnData\n",
    "import scanpy as sc\n",
    "import matplotlib.pyplot as plt\n",
    "from os.path import join\n",
    "import numpy as np\n",
    "import glob"
   ]
  },
  {
   "cell_type": "code",
   "execution_count": 2,
   "metadata": {},
   "outputs": [],
   "source": [
    "raw_dir = \"raw/habib_2016/\""
   ]
  },
  {
   "cell_type": "code",
   "execution_count": 3,
   "metadata": {},
   "outputs": [
    {
     "name": "stderr",
     "output_type": "stream",
     "text": [
      "... storing 'CLUSTER' as categorical\n",
      "... storing 'SUB-CLUSTER' as categorical\n"
     ]
    }
   ],
   "source": [
    "df_mat = pd.read_csv(join(raw_dir, \"SCP1/expression/DATA_MATRIX_LOG_TPM.txt\"), sep='\\t', index_col=0)\n",
    "df_mat = np.exp(df_mat) - 1\n",
    "df_meta = pd.read_csv(join(raw_dir, \"SCP1/metadata/CLUSTER_AND_SUBCLUSTER_INDEX.txt\"), sep='\\t').iloc[1:, :].set_index(\"NAME\")\n",
    "assert np.all(df_meta.index == df_mat.columns)\n",
    "adata = AnnData(df_mat.T, obs=df_meta)\n",
    "\n",
    "for f in glob.glob(join(raw_dir, \"SCP1/cluster/*\")):\n",
    "    df = pd.read_csv(f, sep='\\t').iloc[1:, :].set_index(\"NAME\")\n",
    "    col_name = f.split(\"/\")[-1].split('.')[0]\n",
    "    adata.obs[[col_name + \"_X\", col_name + \"_Y\"]] = df.reindex(adata.obs.index).astype(float)\n",
    "    \n",
    "adata.write_h5ad(\"processed/habib_2016.raw.h5ad\")"
   ]
  },
  {
   "cell_type": "code",
   "execution_count": null,
   "metadata": {},
   "outputs": [],
   "source": [
    "adata = sc.read_h5ad(\"processed/habib_2016.raw.h5ad\")\n",
    "    \n",
    "sc.pp.filter_cells(adata, min_genes=0)\n",
    "sc.pp.filter_genes(adata, min_cells=0)\n",
    "adata.raw = adata\n",
    "\n",
    "sc.pp.normalize_total(adata, target_sum=1e4)\n",
    "sc.pp.log1p(adata)\n",
    "sc.pp.highly_variable_genes(adata, min_mean=0.0125, max_mean=3, min_disp=0.5)\n",
    "sc.pl.highest_expr_genes(adata, n_top=20)\n",
    "adata = adata[:, adata.var.highly_variable]\n",
    "\n",
    "\n",
    "sc.pp.scale(adata, max_value=10)\n",
    "sc.tl.pca(adata, svd_solver='arpack')\n",
    "sc.set_figure_params(dpi=150)\n",
    "sc.pp.neighbors(adata, n_neighbors=10, n_pcs=40)\n",
    "sc.tl.umap(adata)\n",
    "sc.tl.leiden(adata)\n",
    "\n",
    "sc.pl.umap(adata, color=[\"CLUSTER\", \"SUB-CLUSTER\"], ncols=1)\n",
    "\n",
    "\n",
    "raw_adata = adata.raw.to_adata()\n",
    "raw_adata.write_h5ad(\"processed/habib_2016.processed.h5ad\")"
   ]
  }
 ],
 "metadata": {
  "kernelspec": {
   "display_name": "Python 3",
   "language": "python",
   "name": "python3"
  },
  "language_info": {
   "codemirror_mode": {
    "name": "ipython",
    "version": 3
   },
   "file_extension": ".py",
   "mimetype": "text/x-python",
   "name": "python",
   "nbconvert_exporter": "python",
   "pygments_lexer": "ipython3",
   "version": "3.8.3"
  }
 },
 "nbformat": 4,
 "nbformat_minor": 4
}
