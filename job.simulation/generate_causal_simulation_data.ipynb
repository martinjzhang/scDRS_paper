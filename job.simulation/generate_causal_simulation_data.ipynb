{
 "cells": [
  {
   "cell_type": "code",
   "execution_count": 5,
   "metadata": {},
   "outputs": [
    {
     "name": "stdout",
     "output_type": "stream",
     "text": [
      "The autoreload extension is already loaded. To reload it, use:\n",
      "  %reload_ext autoreload\n"
     ]
    }
   ],
   "source": [
    "import scanpy as sc\n",
    "from anndata import read_h5ad\n",
    "import pandas as pd\n",
    "import numpy as np\n",
    "import os\n",
    "from os.path import join\n",
    "import time\n",
    "import argparse\n",
    "\n",
    "# inhouse tools\n",
    "import scdrs.util as util\n",
    "import scdrs.data_loader as dl\n",
    "import scdrs.method as md\n",
    "\n",
    "# autoreload\n",
    "%load_ext autoreload\n",
    "%autoreload 2"
   ]
  },
  {
   "cell_type": "code",
   "execution_count": 6,
   "metadata": {},
   "outputs": [],
   "source": [
    "# Constants\n",
    "DATA_PATH='/n/holystore01/LABS/price_lab/Users/mjzhang/scDRS_data'\n",
    "H5AD_FILE=DATA_PATH+'/simulation_data/single_cell_data/tms_facs.ncell_10k.h5ad'\n",
    "GS_FILE=DATA_PATH+'/simulation_data/gs_file/all_ngene1000.gs'\n",
    "OUT_PATH=DATA_PATH+'/simulation_data'"
   ]
  },
  {
   "cell_type": "code",
   "execution_count": 8,
   "metadata": {},
   "outputs": [
    {
     "name": "stdout",
     "output_type": "stream",
     "text": [
      "# H5AD_FILE loaded:  (10000, 18383)\n"
     ]
    }
   ],
   "source": [
    "# Load .h5ad file \n",
    "adata = read_h5ad(H5AD_FILE)\n",
    "sc.pp.normalize_per_cell(adata, counts_per_cell_after=1e4)\n",
    "sc.pp.log1p(adata)\n",
    "print('# H5AD_FILE loaded: ', adata.shape)\n",
    "\n",
    "# Load .gs file \n",
    "df_gs = pd.read_csv(GS_FILE, sep='\\t', index_col=0)"
   ]
  },
  {
   "cell_type": "code",
   "execution_count": 9,
   "metadata": {
    "scrolled": true
   },
   "outputs": [],
   "source": [
    "# Generate .effect file \n",
    "f = open(OUT_PATH+'/perturb_list.txt', 'w')\n",
    "n_cell_causal = 500\n",
    "n_gene_causal = 1000\n",
    "param_list = [0.05, 0.1, 0.15, 0.2, 0.25, 0.3, 0.35, 0.4, 0.45, 0.5]\n",
    "config_list = [[x,0.25] for x in param_list] + [[0.25,x] for x in param_list]\n",
    "for effect_size,overlap in config_list:\n",
    "    df_eff = pd.DataFrame(index=df_gs.index, columns=['TRAIT', 'GENELIST', 'GENEEFF', 'CELLLIST'])\n",
    "    for trait in df_gs.index:\n",
    "        np.random.seed(int(trait[-1]))\n",
    "        cell_list = np.random.choice(adata.obs_names, size=n_cell_causal)\n",
    "        gene_list_gs = sorted(set(df_gs.loc[trait, 'GENESET'].split(',')) & set(adata.var_names))\n",
    "        gene_list_other = sorted(set(adata.var_names) - set(df_gs.loc[trait, 'GENESET'].split(',')))\n",
    "        gene_list = list(np.random.choice(gene_list_gs, size=int(overlap*n_gene_causal), replace=False)) + \\\n",
    "            list(np.random.choice(gene_list_other, size=int((1-overlap)*n_gene_causal), replace=False))\n",
    "        v_eff = np.zeros(len(gene_list)) + np.log(effect_size+1)\n",
    "\n",
    "        df_eff.loc[trait, 'TRAIT'] = trait\n",
    "        df_eff.loc[trait, 'GENELIST'] = ','.join(gene_list)\n",
    "        df_eff.loc[trait, 'GENEEFF'] = ','.join([str(x) for x in v_eff])\n",
    "        df_eff.loc[trait, 'CELLLIST'] = ','.join(cell_list)\n",
    "\n",
    "    perturb_file = 'tms_facs_ncell_10k.all_ngene1000.eff_%d_overlap_%d.perturb'\\\n",
    "                    %(int(effect_size*100), int(overlap*100))\n",
    "    df_eff.to_csv(OUT_PATH+'/gs_file/'+perturb_file, sep='\\t', index=False)\n",
    "    f.write(perturb_file+'\\n')  \n",
    "f.close()"
   ]
  },
  {
   "cell_type": "code",
   "execution_count": 10,
   "metadata": {},
   "outputs": [
    {
     "name": "stdout",
     "output_type": "stream",
     "text": [
      "n cell 528\n"
     ]
    }
   ],
   "source": [
    "cell_list = list(adata.obs_names[adata.obs['cell_ontology_class']=='B cell'])\n",
    "print('n cell', len(cell_list))"
   ]
  },
  {
   "cell_type": "code",
   "execution_count": 11,
   "metadata": {},
   "outputs": [],
   "source": [
    "# Generate .effect file where B cells are causal cells \n",
    "f = open(OUT_PATH+'/perturb_list_celltype.txt', 'w')\n",
    "n_gene_causal = 1000\n",
    "overlap = 0.25\n",
    "for effect_size in [0.05, 0.1, 0.15, 0.2, 0.25, 0.3, 0.35, 0.4, 0.45, 0.5]:\n",
    "    df_eff = pd.DataFrame(index=df_gs.index, columns=['TRAIT', 'GENELIST', 'GENEEFF', 'CELLLIST'])\n",
    "    for trait in df_gs.index:\n",
    "        np.random.seed(int(trait[-1]))\n",
    "        cell_list = list(adata.obs_names[adata.obs['cell_ontology_class']=='B cell'])\n",
    "        gene_list_gs = sorted(set(df_gs.loc[trait, 'GENESET'].split(',')) & set(adata.var_names))\n",
    "        gene_list_other = sorted(set(adata.var_names) - set(df_gs.loc[trait, 'GENESET'].split(',')))\n",
    "        gene_list = list(np.random.choice(gene_list_gs, size=int(overlap*n_gene_causal), replace=False)) + \\\n",
    "            list(np.random.choice(gene_list_other, size=int((1-overlap)*n_gene_causal), replace=False))\n",
    "        v_eff = np.zeros(len(gene_list)) + np.log(effect_size+1)\n",
    "\n",
    "        df_eff.loc[trait, 'TRAIT'] = trait\n",
    "        df_eff.loc[trait, 'GENELIST'] = ','.join(gene_list)\n",
    "        df_eff.loc[trait, 'GENEEFF'] = ','.join([str(x) for x in v_eff])\n",
    "        df_eff.loc[trait, 'CELLLIST'] = ','.join(cell_list)\n",
    "\n",
    "    perturb_file = 'tms_facs_ncell_10k.all_ngene1000.Bcell.eff_%d_overlap_%d.perturb'\\\n",
    "                    %(int(effect_size*100), int(overlap*100))\n",
    "    df_eff.to_csv(OUT_PATH+'/gs_file/'+perturb_file, sep='\\t', index=False)\n",
    "    f.write(perturb_file+'\\n')  \n",
    "f.close()"
   ]
  },
  {
   "cell_type": "code",
   "execution_count": null,
   "metadata": {
    "scrolled": true
   },
   "outputs": [],
   "source": [
    "# # find list of scores not computed \n",
    "# df_perturb = pd.read_csv(DATA_PATH + '/simulation_data/perturb_list.txt', header=None)\n",
    "# flist_miss = []\n",
    "# for i_p,perturb in enumerate(df_perturb[0]):\n",
    "#     folder_name = DATA_PATH+'/simulation_data/score_file/%s'%perturb\n",
    "#     if os.path.exists(folder_name) is False:\n",
    "#         flist_miss.append(i_p+1)\n",
    "# print(','.join(['%d'%x for x in flist_miss]))"
   ]
  },
  {
   "cell_type": "code",
   "execution_count": 22,
   "metadata": {},
   "outputs": [
    {
     "name": "stdout",
     "output_type": "stream",
     "text": [
      "tms_facs_ncell_10k.all_ngene1000.eff_5_overlap_25.perturb 0.0 0.0 0\n",
      "tms_facs_ncell_10k.all_ngene1000.eff_10_overlap_25.perturb 0.0 0.0 0\n",
      "tms_facs_ncell_10k.all_ngene1000.eff_25_overlap_25.perturb 0.0 0.0 0\n",
      "tms_facs_ncell_10k.all_ngene1000.Bcell.eff_35_overlap_25.perturb 0.0 0.0 0\n",
      "tms_facs_ncell_10k.all_ngene1000.eff_25_overlap_20.perturb 0.0 0.0 0\n",
      "tms_facs_ncell_10k.all_ngene1000.Bcell.eff_50_overlap_25.perturb 0.0 0.0 0\n",
      "tms_facs_ncell_10k.all_ngene1000.eff_30_overlap_25.perturb 0.0 0.0 0\n",
      "tms_facs_ncell_10k.all_ngene1000.eff_35_overlap_25.perturb 0.0 0.0 0\n",
      "tms_facs_ncell_10k.all_ngene1000.Bcell.eff_25_overlap_25.perturb 0.0 0.0 0\n",
      "tms_facs_ncell_10k.all_ngene1000.eff_20_overlap_25.perturb 0.0 0.0 0\n",
      "tms_facs_ncell_10k.all_ngene1000.Bcell.eff_15_overlap_25.perturb 0.0 0.0 0\n",
      "tms_facs_ncell_10k.all_ngene1000.Bcell.eff_30_overlap_25.perturb 0.0 0.0 0\n",
      "tms_facs_ncell_10k.all_ngene1000.eff_25_overlap_50.perturb 0.0 0.0 0\n",
      "tms_facs_ncell_10k.all_ngene1000.Bcell.eff_20_overlap_25.perturb 0.0 0.0 0\n",
      "tms_facs_ncell_10k.all_ngene1000.eff_25_overlap_5.perturb 0.0 0.0 0\n",
      "tms_facs_ncell_10k.all_ngene1000.eff_25_overlap_35.perturb 0.0 0.0 0\n",
      "tms_facs_ncell_10k.all_ngene1000.eff_15_overlap_25.perturb 0.0 0.0 0\n",
      "tms_facs_ncell_10k.all_ngene1000.eff_25_overlap_10.perturb 0.0 0.0 0\n",
      "tms_facs_ncell_10k.all_ngene1000.eff_40_overlap_25.perturb 0.0 0.0 0\n",
      "tms_facs_ncell_10k.all_ngene1000.eff_45_overlap_25.perturb 0.0 0.0 0\n",
      "tms_facs_ncell_10k.all_ngene1000.eff_25_overlap_40.perturb 0.0 0.0 0\n",
      "tms_facs_ncell_10k.all_ngene1000.Bcell.eff_10_overlap_25.perturb 0.0 0.0 0\n",
      "tms_facs_ncell_10k.all_ngene1000.Bcell.eff_45_overlap_25.perturb 0.0 0.0 0\n",
      "tms_facs_ncell_10k.all_ngene1000.eff_25_overlap_30.perturb 0.0 0.0 0\n",
      "tms_facs_ncell_10k.all_ngene1000.eff_25_overlap_15.perturb 0.0 0.0 0\n",
      "tms_facs_ncell_10k.all_ngene1000.eff_25_overlap_45.perturb 0.0 0.0 0\n",
      "tms_facs_ncell_10k.all_ngene1000.eff_50_overlap_25.perturb 0.0 0.0 0\n",
      "tms_facs_ncell_10k.all_ngene1000.Bcell.eff_5_overlap_25.perturb 0.0 0.0 0\n",
      "tms_facs_ncell_10k.all_ngene1000.Bcell.eff_40_overlap_25.perturb 0.0 0.0 0\n"
     ]
    }
   ],
   "source": [
    "# Compare with old gene set\n",
    "GS_PATH = OUT_PATH+'/gs_file'\n",
    "GA_PATH_REF = OUT_PATH+'/gs_file.080721'\n",
    "for gs in [x for x in os.listdir(GS_PATH) if x.endswith('.perturb')]:\n",
    "    df_gs = pd.read_csv(GS_PATH+'/'+gs, sep='\\t', index_col=0)\n",
    "    df_gs_ref = pd.read_csv(GA_PATH_REF+'/'+gs, sep='\\t', index_col=0)\n",
    "    v_dif_gene = [len(set(df_gs.loc[x,'GENELIST'].split(','))-set(df_gs_ref.loc[x,'GENELIST'].split(',')))\n",
    "                  for x in df_gs.index]\n",
    "    v_dif_gene = [(np.array(df_gs.loc[x,'GENEEFF'].split(','), dtype=float)-\n",
    "                   np.array(df_gs_ref.loc[x,'GENEEFF'].split(','), dtype=float)).sum()\n",
    "                  for x in df_gs.index]\n",
    "    v_dif_cell = [len(set(df_gs.loc[x,'CELLLIST'].split(','))-set(df_gs_ref.loc[x,'CELLLIST'].split(',')))\n",
    "                  for x in df_gs.index]\n",
    "    print(gs, np.array(v_dif_gene).sum(), np.array(v_dif_gene).sum(), np.array(v_dif_cell).sum())\n",
    "#     break"
   ]
  },
  {
   "cell_type": "code",
   "execution_count": 16,
   "metadata": {},
   "outputs": [
    {
     "data": {
      "text/html": [
       "<div>\n",
       "<style scoped>\n",
       "    .dataframe tbody tr th:only-of-type {\n",
       "        vertical-align: middle;\n",
       "    }\n",
       "\n",
       "    .dataframe tbody tr th {\n",
       "        vertical-align: top;\n",
       "    }\n",
       "\n",
       "    .dataframe thead th {\n",
       "        text-align: right;\n",
       "    }\n",
       "</style>\n",
       "<table border=\"1\" class=\"dataframe\">\n",
       "  <thead>\n",
       "    <tr style=\"text-align: right;\">\n",
       "      <th></th>\n",
       "      <th>GENELIST</th>\n",
       "      <th>GENEEFF</th>\n",
       "      <th>CELLLIST</th>\n",
       "    </tr>\n",
       "    <tr>\n",
       "      <th>TRAIT</th>\n",
       "      <th></th>\n",
       "      <th></th>\n",
       "      <th></th>\n",
       "    </tr>\n",
       "  </thead>\n",
       "  <tbody>\n",
       "    <tr>\n",
       "      <th>all_ngene1000_rep0</th>\n",
       "      <td>2210404J11Rik,Abhd10,Irx1,Mir680-2,Fancg,S100g...</td>\n",
       "      <td>0.04879016416943205,0.04879016416943205,0.0487...</td>\n",
       "      <td>E18_B002452_B009020_S114.mm10-plus-0-0,L20_B00...</td>\n",
       "    </tr>\n",
       "    <tr>\n",
       "      <th>all_ngene1000_rep1</th>\n",
       "      <td>Mtap1a,Zfp57,Sh2d2a,Mbip,Aktip,Eif4a1,Ccdc64b,...</td>\n",
       "      <td>0.04879016416943205,0.04879016416943205,0.0487...</td>\n",
       "      <td>M4.MAA000938.3_8_M.1.1-1-1,L18_B010818_S270.mu...</td>\n",
       "    </tr>\n",
       "    <tr>\n",
       "      <th>all_ngene1000_rep2</th>\n",
       "      <td>Ranbp9,Myo16,Kcnk3,Cnst,LOC622070,A230072E10Ri...</td>\n",
       "      <td>0.04879016416943205,0.04879016416943205,0.0487...</td>\n",
       "      <td>G7_B000176_B008056_S151.mm10-plus-3-0,I1_B0007...</td>\n",
       "    </tr>\n",
       "    <tr>\n",
       "      <th>all_ngene1000_rep3</th>\n",
       "      <td>A630089N07Rik,Slc26a10,Dnajc27,Acsl5,Sipa1l1,T...</td>\n",
       "      <td>0.04879016416943205,0.04879016416943205,0.0487...</td>\n",
       "      <td>N14.B002421.3_39_F.1.1-1-1,E1_B000120_B007345_...</td>\n",
       "    </tr>\n",
       "    <tr>\n",
       "      <th>all_ngene1000_rep4</th>\n",
       "      <td>BC053749,Epha3,Gm5485,Hcfc1,Acot2,9930021J03Ri...</td>\n",
       "      <td>0.04879016416943205,0.04879016416943205,0.0487...</td>\n",
       "      <td>K18.MAA000913.3_9_M.1.1-1-1,A14.MAA001857.3_38...</td>\n",
       "    </tr>\n",
       "    <tr>\n",
       "      <th>...</th>\n",
       "      <td>...</td>\n",
       "      <td>...</td>\n",
       "      <td>...</td>\n",
       "    </tr>\n",
       "    <tr>\n",
       "      <th>all_ngene1000_rep95</th>\n",
       "      <td>Apol7b,Esyt1,Chaf1b,0610011L14Rik,Zc3h12a,Zyg1...</td>\n",
       "      <td>0.04879016416943205,0.04879016416943205,0.0487...</td>\n",
       "      <td>H19_B002894_S259_L002.mus-2-0-1,I19_B000797_B0...</td>\n",
       "    </tr>\n",
       "    <tr>\n",
       "      <th>all_ngene1000_rep96</th>\n",
       "      <td>Gmip,Serpina3n,Eral1,Arpc1a,Krt42,Glt8d2,Mtmr1...</td>\n",
       "      <td>0.04879016416943205,0.04879016416943205,0.0487...</td>\n",
       "      <td>L6_D045853_B009304_S66.mm10-plus-1-0,P16.B0023...</td>\n",
       "    </tr>\n",
       "    <tr>\n",
       "      <th>all_ngene1000_rep97</th>\n",
       "      <td>Rfc1,Eif4h,Tm9sf4,Rab43,Fam184a,Tnrc6a,Mblac2,...</td>\n",
       "      <td>0.04879016416943205,0.04879016416943205,0.0487...</td>\n",
       "      <td>B13_B000843_S121_L001.mus-0-0-1,I5_B003009_B00...</td>\n",
       "    </tr>\n",
       "    <tr>\n",
       "      <th>all_ngene1000_rep98</th>\n",
       "      <td>Pou5f2,Tspan11,Dhrsx,Zfp82,Ccdc68,Arhgap27,Urb...</td>\n",
       "      <td>0.04879016416943205,0.04879016416943205,0.0487...</td>\n",
       "      <td>J10_B002999_S226_L002.mus-6-0-1,B15.MAA000910....</td>\n",
       "    </tr>\n",
       "    <tr>\n",
       "      <th>all_ngene1000_rep99</th>\n",
       "      <td>Ovgp1,Ube2q2,Grin2a,Bcl2a1a,Mei4,Lrrcc1,Cdyl,W...</td>\n",
       "      <td>0.04879016416943205,0.04879016416943205,0.0487...</td>\n",
       "      <td>I21.D042186.3_8_M.1.1-1-1,D16.MAA000870.3_10_M...</td>\n",
       "    </tr>\n",
       "  </tbody>\n",
       "</table>\n",
       "<p>100 rows × 3 columns</p>\n",
       "</div>"
      ],
      "text/plain": [
       "                                                              GENELIST  \\\n",
       "TRAIT                                                                    \n",
       "all_ngene1000_rep0   2210404J11Rik,Abhd10,Irx1,Mir680-2,Fancg,S100g...   \n",
       "all_ngene1000_rep1   Mtap1a,Zfp57,Sh2d2a,Mbip,Aktip,Eif4a1,Ccdc64b,...   \n",
       "all_ngene1000_rep2   Ranbp9,Myo16,Kcnk3,Cnst,LOC622070,A230072E10Ri...   \n",
       "all_ngene1000_rep3   A630089N07Rik,Slc26a10,Dnajc27,Acsl5,Sipa1l1,T...   \n",
       "all_ngene1000_rep4   BC053749,Epha3,Gm5485,Hcfc1,Acot2,9930021J03Ri...   \n",
       "...                                                                ...   \n",
       "all_ngene1000_rep95  Apol7b,Esyt1,Chaf1b,0610011L14Rik,Zc3h12a,Zyg1...   \n",
       "all_ngene1000_rep96  Gmip,Serpina3n,Eral1,Arpc1a,Krt42,Glt8d2,Mtmr1...   \n",
       "all_ngene1000_rep97  Rfc1,Eif4h,Tm9sf4,Rab43,Fam184a,Tnrc6a,Mblac2,...   \n",
       "all_ngene1000_rep98  Pou5f2,Tspan11,Dhrsx,Zfp82,Ccdc68,Arhgap27,Urb...   \n",
       "all_ngene1000_rep99  Ovgp1,Ube2q2,Grin2a,Bcl2a1a,Mei4,Lrrcc1,Cdyl,W...   \n",
       "\n",
       "                                                               GENEEFF  \\\n",
       "TRAIT                                                                    \n",
       "all_ngene1000_rep0   0.04879016416943205,0.04879016416943205,0.0487...   \n",
       "all_ngene1000_rep1   0.04879016416943205,0.04879016416943205,0.0487...   \n",
       "all_ngene1000_rep2   0.04879016416943205,0.04879016416943205,0.0487...   \n",
       "all_ngene1000_rep3   0.04879016416943205,0.04879016416943205,0.0487...   \n",
       "all_ngene1000_rep4   0.04879016416943205,0.04879016416943205,0.0487...   \n",
       "...                                                                ...   \n",
       "all_ngene1000_rep95  0.04879016416943205,0.04879016416943205,0.0487...   \n",
       "all_ngene1000_rep96  0.04879016416943205,0.04879016416943205,0.0487...   \n",
       "all_ngene1000_rep97  0.04879016416943205,0.04879016416943205,0.0487...   \n",
       "all_ngene1000_rep98  0.04879016416943205,0.04879016416943205,0.0487...   \n",
       "all_ngene1000_rep99  0.04879016416943205,0.04879016416943205,0.0487...   \n",
       "\n",
       "                                                              CELLLIST  \n",
       "TRAIT                                                                   \n",
       "all_ngene1000_rep0   E18_B002452_B009020_S114.mm10-plus-0-0,L20_B00...  \n",
       "all_ngene1000_rep1   M4.MAA000938.3_8_M.1.1-1-1,L18_B010818_S270.mu...  \n",
       "all_ngene1000_rep2   G7_B000176_B008056_S151.mm10-plus-3-0,I1_B0007...  \n",
       "all_ngene1000_rep3   N14.B002421.3_39_F.1.1-1-1,E1_B000120_B007345_...  \n",
       "all_ngene1000_rep4   K18.MAA000913.3_9_M.1.1-1-1,A14.MAA001857.3_38...  \n",
       "...                                                                ...  \n",
       "all_ngene1000_rep95  H19_B002894_S259_L002.mus-2-0-1,I19_B000797_B0...  \n",
       "all_ngene1000_rep96  L6_D045853_B009304_S66.mm10-plus-1-0,P16.B0023...  \n",
       "all_ngene1000_rep97  B13_B000843_S121_L001.mus-0-0-1,I5_B003009_B00...  \n",
       "all_ngene1000_rep98  J10_B002999_S226_L002.mus-6-0-1,B15.MAA000910....  \n",
       "all_ngene1000_rep99  I21.D042186.3_8_M.1.1-1-1,D16.MAA000870.3_10_M...  \n",
       "\n",
       "[100 rows x 3 columns]"
      ]
     },
     "execution_count": 16,
     "metadata": {},
     "output_type": "execute_result"
    }
   ],
   "source": [
    "df_gs_ref"
   ]
  },
  {
   "cell_type": "code",
   "execution_count": null,
   "metadata": {},
   "outputs": [],
   "source": []
  }
 ],
 "metadata": {
  "kernelspec": {
   "display_name": "Python 3",
   "language": "python",
   "name": "python3"
  },
  "language_info": {
   "codemirror_mode": {
    "name": "ipython",
    "version": 3
   },
   "file_extension": ".py",
   "mimetype": "text/x-python",
   "name": "python",
   "nbconvert_exporter": "python",
   "pygments_lexer": "ipython3",
   "version": "3.7.2"
  }
 },
 "nbformat": 4,
 "nbformat_minor": 4
}
