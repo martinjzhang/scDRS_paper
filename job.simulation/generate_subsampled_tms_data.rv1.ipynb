{
 "cells": [
  {
   "cell_type": "code",
   "execution_count": 1,
   "metadata": {},
   "outputs": [],
   "source": [
    "import scanpy as sc\n",
    "from anndata import read_h5ad\n",
    "import pandas as pd\n",
    "import numpy as np\n",
    "import os\n",
    "from os.path import join\n",
    "import time\n",
    "import argparse"
   ]
  },
  {
   "cell_type": "code",
   "execution_count": 2,
   "metadata": {},
   "outputs": [],
   "source": [
    "# Constants\n",
    "DATA_PATH='/n/holystore01/LABS/price_lab/Users/mjzhang/scDRS_data'\n",
    "OUT_PATH=DATA_PATH+'/simulation_data'\n",
    "H5AD_FILE=DATA_PATH+'/tabula_muris_senis/tabula-muris-senis-facs-official-raw-obj.h5ad'"
   ]
  },
  {
   "cell_type": "code",
   "execution_count": 3,
   "metadata": {},
   "outputs": [
    {
     "name": "stdout",
     "output_type": "stream",
     "text": [
      "# H5AD_FILE loaded:  (110823, 18383)\n"
     ]
    }
   ],
   "source": [
    "# Load .h5ad file \n",
    "adata = read_h5ad(H5AD_FILE)\n",
    "sc.pp.filter_cells(adata, min_genes=500)\n",
    "sc.pp.filter_genes(adata, min_cells=200)\n",
    "print('# H5AD_FILE loaded: ', adata.shape)"
   ]
  },
  {
   "cell_type": "code",
   "execution_count": 5,
   "metadata": {},
   "outputs": [
    {
     "name": "stdout",
     "output_type": "stream",
     "text": [
      "(10000, 18383)\n",
      "(10000, 18383)\n",
      "(10000, 18383)\n",
      "(10000, 18383)\n",
      "(10000, 18383)\n",
      "(10000, 18383)\n",
      "(10000, 18383)\n",
      "(10000, 18383)\n",
      "(10000, 18383)\n",
      "(10000, 18383)\n",
      "(10000, 18383)\n",
      "(10000, 18383)\n",
      "(10000, 18383)\n",
      "(10000, 18383)\n",
      "(10000, 18383)\n",
      "(10000, 18383)\n",
      "(10000, 18383)\n",
      "(10000, 18383)\n",
      "(10000, 18383)\n",
      "(10000, 18383)\n"
     ]
    }
   ],
   "source": [
    "# Generate subsampled data \n",
    "n_cell = 1e4\n",
    "for i_rep in range(20):\n",
    "    np.random.seed(i_rep)\n",
    "    ind_select = np.random.choice(np.arange(adata.shape[0]), size=int(n_cell), replace=False)\n",
    "    temp_adata = adata[ind_select].copy()\n",
    "    temp_adata.write(OUT_PATH+'/single_cell_data/tms_facs.ncell_10k_rep%d.h5ad'%i_rep)\n",
    "    print(temp_adata.shape)"
   ]
  }
 ],
 "metadata": {
  "kernelspec": {
   "display_name": "Python 3",
   "language": "python",
   "name": "python3"
  },
  "language_info": {
   "codemirror_mode": {
    "name": "ipython",
    "version": 3
   },
   "file_extension": ".py",
   "mimetype": "text/x-python",
   "name": "python",
   "nbconvert_exporter": "python",
   "pygments_lexer": "ipython3",
   "version": "3.7.2"
  }
 },
 "nbformat": 4,
 "nbformat_minor": 4
}
