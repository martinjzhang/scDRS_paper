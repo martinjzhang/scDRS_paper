{
 "cells": [
  {
   "cell_type": "code",
   "execution_count": 1,
   "metadata": {},
   "outputs": [],
   "source": [
    "import scanpy as sc\n",
    "from anndata import read_h5ad\n",
    "import pandas as pd\n",
    "import numpy as np\n",
    "import os\n",
    "from os.path import join\n",
    "import time\n",
    "import argparse\n",
    "\n",
    "# inhouse tools\n",
    "import scdrs\n",
    "\n",
    "# autoreload\n",
    "%load_ext autoreload\n",
    "%autoreload 2"
   ]
  },
  {
   "cell_type": "code",
   "execution_count": 2,
   "metadata": {},
   "outputs": [],
   "source": [
    "# Constants\n",
    "DATA_PATH='/n/holystore01/LABS/price_lab/Users/mjzhang/scDRS_data'\n",
    "OUT_PATH=DATA_PATH+'/simulation_data'\n",
    "H5AD_FILE=DATA_PATH+'/tabula_muris_senis/tabula-muris-senis-facs-official-raw-obj.h5ad'"
   ]
  },
  {
   "cell_type": "code",
   "execution_count": 3,
   "metadata": {},
   "outputs": [
    {
     "name": "stdout",
     "output_type": "stream",
     "text": [
      "# H5AD_FILE loaded:  (110823, 18383)\n"
     ]
    }
   ],
   "source": [
    "# Load .h5ad file \n",
    "adata = read_h5ad(H5AD_FILE)\n",
    "sc.pp.filter_cells(adata, min_genes=500)\n",
    "sc.pp.filter_genes(adata, min_cells=200)\n",
    "print('# H5AD_FILE loaded: ', adata.shape)"
   ]
  },
  {
   "cell_type": "markdown",
   "metadata": {},
   "source": [
    "### Generate .gs files "
   ]
  },
  {
   "cell_type": "code",
   "execution_count": 6,
   "metadata": {},
   "outputs": [],
   "source": [
    "# Config \n",
    "GS_SIZE_LIST = [100, 500, 1000, 2000]\n",
    "N_REP = 100\n",
    "N_GENE_SELECT = int(0.25*adata.shape[1])\n",
    "\n",
    "# adata_norm = adata.copy()\n",
    "# sc.pp.normalize_per_cell(adata_norm, counts_per_cell_after=1e4)\n",
    "# sc.pp.log1p(adata_norm)\n",
    "# scdrs.pp.preprocess(adata_norm)\n",
    "# adata_norm.uns['SCDRS_PARAM']['GENE_STATS']['bvar'] = \\\n",
    "#     adata_norm.uns['SCDRS_PARAM']['GENE_STATS']['var'] - adata_norm.uns['SCDRS_PARAM']['GENE_STATS']['var_tech']\n",
    "\n",
    "\n",
    "adata_norm = adata.copy()\n",
    "sc.pp.normalize_per_cell(adata_norm, counts_per_cell_after=1e4)\n",
    "sc.pp.log1p(adata_norm)\n",
    "\n",
    "scdrs.pp.preprocess(adata_norm)\n",
    "df_gene = adata_norm.uns['SCDRS_PARAM']['GENE_STATS'].copy()\n",
    "df_gene['bvar'] = df_gene['var'] - df_gene['var_tech']\n",
    "\n",
    "scdrs.preprocess(adata_norm, adj_prop='cell_ontology_class')\n",
    "df_gene_adj = adata_norm.uns['SCDRS_PARAM']['GENE_STATS'].copy()\n",
    "df_gene_adj['bvar'] = df_gene_adj['var'] - df_gene_adj['var_tech']"
   ]
  },
  {
   "cell_type": "code",
   "execution_count": 16,
   "metadata": {},
   "outputs": [],
   "source": [
    "dic_gs_all = {}\n",
    "# df_gene = adata_norm.uns['SCDRS_PARAM']['GENE_STATS']\n",
    "\n",
    "# All genes \n",
    "dic_gs_all['all'] = sorted(adata.var_names)\n",
    "\n",
    "# Highly-expressed genes \n",
    "dic_gs_all['highmean'] = sorted(df_gene.sort_values('mean', ascending=False).index[:N_GENE_SELECT])\n",
    "\n",
    "# Highly-variale genes \n",
    "dic_gs_all['highvar'] = sorted(df_gene.sort_values('var', ascending=False).index[:N_GENE_SELECT])\n",
    "\n",
    "# Over-dispersed genes\n",
    "dic_gs_all['highbvar'] = sorted(df_gene.sort_values('bvar', ascending=False).index[:N_GENE_SELECT])\n",
    "\n",
    "# Adjusted highly-expressed genes \n",
    "dic_gs_all['adj_highmean'] = sorted(df_gene_adj.sort_values('mean', ascending=False).index[:N_GENE_SELECT])\n",
    "\n",
    "# Adjusted highly-variale genes \n",
    "dic_gs_all['adj_highvar'] = sorted(df_gene_adj.sort_values('var', ascending=False).index[:N_GENE_SELECT])\n",
    "\n",
    "# Adjusted over-dispersed genes\n",
    "dic_gs_all['adj_highbvar'] = sorted(df_gene_adj.sort_values('bvar', ascending=False).index[:N_GENE_SELECT])"
   ]
  },
  {
   "cell_type": "code",
   "execution_count": 17,
   "metadata": {},
   "outputs": [],
   "source": [
    "# Randomly sample genes \n",
    "f = open(OUT_PATH+'/simu_list.rv1.txt', 'w')\n",
    "for suffix in dic_gs_all.keys():\n",
    "    for n_gene in GS_SIZE_LIST:\n",
    "        gs_name = '%s_ngene%d'%(suffix, n_gene)\n",
    "        df_gs = pd.DataFrame(columns=['TRAIT', 'GENESET'])\n",
    "        for i_rep in np.arange(N_REP):\n",
    "            np.random.seed(i_rep)\n",
    "            temp_list = np.random.choice(dic_gs_all[suffix], size=n_gene, replace=False)\n",
    "            df_gs.loc[i_rep] =  ['%s_rep%d'%(gs_name,i_rep), ','.join(temp_list)]\n",
    "        df_gs.to_csv(OUT_PATH+'/gs_file.rv1/%s.gs'%gs_name, sep='\\t', index=False)\n",
    "        f.write(gs_name+'\\n')    \n",
    "f.close()"
   ]
  },
  {
   "cell_type": "code",
   "execution_count": 18,
   "metadata": {},
   "outputs": [
    {
     "name": "stdout",
     "output_type": "stream",
     "text": [
      "highbvar_ngene500.gs 0\n",
      "all_ngene1000.gs 0\n",
      "highbvar_ngene1000.gs 0\n",
      "highmean_ngene500.gs 0\n",
      "highbvar_ngene100.gs 0\n",
      "highmean_ngene1000.gs 0\n",
      "all_ngene100.gs 0\n",
      "highvar_ngene100.gs 0\n",
      "highvar_ngene1000.gs 0\n",
      "highvar_ngene500.gs 0\n",
      "all_ngene500.gs 0\n",
      "highmean_ngene100.gs 0\n"
     ]
    }
   ],
   "source": [
    "# Compare with old gene set\n",
    "GS_PATH = OUT_PATH+'/gs_file.rv1'\n",
    "GA_PATH_REF = OUT_PATH+'/gs_file'\n",
    "for gs in [x for x in os.listdir(GS_PATH) if x.endswith('.gs')]:\n",
    "    if os.path.exists(GA_PATH_REF+'/'+gs) is False:\n",
    "        continue\n",
    "    df_gs = pd.read_csv(GS_PATH+'/'+gs, sep='\\t', index_col=0)\n",
    "    df_gs_ref = pd.read_csv(GA_PATH_REF+'/'+gs, sep='\\t', index_col=0)\n",
    "    v_dif = [len(set(df_gs.loc[x,'GENESET'].split(','))-set(df_gs_ref.loc[x,'GENESET'].split(',')))\n",
    "             for x in df_gs.index]\n",
    "    print(gs, np.array(v_dif).sum())\n",
    "#     break"
   ]
  },
  {
   "cell_type": "code",
   "execution_count": 19,
   "metadata": {},
   "outputs": [],
   "source": [
    "# Generate .weighted.gs files for each .gs file\n",
    "DATA_PATH = '/n/holystore01/LABS/price_lab/Users/mjzhang/scDRS_data'\n",
    "DF_HOM = pd.read_csv('/n/holystore01/LABS/price_lab/Users/mjzhang/scDRS_data/gene_annotation/'\n",
    "                     'mouse_human_homologs.txt', sep='\\t')\n",
    "DIC_MAP_H2M = {x:y for x,y in zip(DF_HOM['HUMAN_GENE_SYM'], DF_HOM['MOUSE_GENE_SYM'])}\n",
    "DF_MAGMA = pd.read_csv(DATA_PATH+'/gene_annotation/MAGMA-v108/MAGMA_v108_GENE_10_ZSTAT.txt', sep='\\t')\n",
    "DF_TRAIT_INFO = pd.read_csv(DATA_PATH+'/supp_table/trait_info.tsv', sep='\\t')\n",
    "DF_MAGMA = DF_MAGMA[DF_TRAIT_INFO['Trait_Identifier']].copy()\n",
    "\n",
    "DF_MAGMA.fillna(0, inplace=True)"
   ]
  },
  {
   "cell_type": "code",
   "execution_count": 20,
   "metadata": {
    "scrolled": true
   },
   "outputs": [],
   "source": [
    "# Write .gs file with continuous weights\n",
    "with open(OUT_PATH+'/simu_list.rv1.txt', 'r') as f:\n",
    "    SIMU_LIST = [x.strip() for x in f]\n",
    "    \n",
    "for gs_name in SIMU_LIST:\n",
    "    df_gs = pd.read_csv(OUT_PATH+'/gs_file.rv1/%s.gs'%gs_name, sep='\\t')\n",
    "    df_gs.index = df_gs['TRAIT']\n",
    "    dict_gene_weights = {\"TRAIT\":[], \"GENESET\":[]}\n",
    "    for i_trait,trait in enumerate(df_gs.index):\n",
    "        dict_gene_weights[\"TRAIT\"].append(trait)\n",
    "        gene_list = df_gs.loc[trait, 'GENESET'].split(',')\n",
    "        \n",
    "        np.random.seed(i_trait)\n",
    "        trait_gwas = np.random.choice(DF_MAGMA.columns)\n",
    "        temp_df = DF_MAGMA[[trait_gwas]].sort_values(trait_gwas, ascending=False)\n",
    "        gene_weights = np.random.permutation(temp_df[trait_gwas].values[:len(gene_list)])\n",
    "        \n",
    "        dict_gene_weights[\"GENESET\"].append(\n",
    "            \",\".join([f\"{g}:{w:.5g}\" for g, w in zip(gene_list, gene_weights)])\n",
    "        )\n",
    "    df_gs_w = pd.DataFrame(dict_gene_weights)\n",
    "    df_gs_w.to_csv(OUT_PATH+'/gs_file.rv1/%s.weighted.gs'%gs_name, sep='\\t', index=False)   "
   ]
  },
  {
   "cell_type": "code",
   "execution_count": 21,
   "metadata": {},
   "outputs": [
    {
     "name": "stdout",
     "output_type": "stream",
     "text": [
      "highmean_ngene1000.weighted.gs 0\n",
      "highbvar_ngene100.weighted.gs 0\n",
      "highbvar_ngene500.gs 0\n",
      "all_ngene1000.weighted.gs 0\n",
      "all_ngene1000.gs 0\n",
      "highbvar_ngene1000.gs 0\n",
      "highmean_ngene500.gs 0\n",
      "highvar_ngene1000.weighted.gs 0\n",
      "highmean_ngene2000.gs 0\n",
      "all_ngene100.weighted.gs 0\n",
      "highbvar_ngene1000.weighted.gs 0\n",
      "highmean_ngene500.weighted.gs 0\n",
      "highbvar_ngene100.gs 0\n",
      "highmean_ngene1000.gs 0\n",
      "all_ngene100.gs 0\n",
      "highbvar_ngene500.weighted.gs 0\n",
      "highvar_ngene500.weighted.gs 0\n",
      "all_ngene2000.gs 0\n",
      "highmean_ngene2000.weighted.gs 0\n",
      "highvar_ngene100.gs 0\n",
      "highvar_ngene100.weighted.gs 0\n",
      "highvar_ngene2000.gs 0\n",
      "highvar_ngene1000.gs 0\n",
      "all_ngene500.weighted.gs 0\n",
      "highvar_ngene500.gs 0\n",
      "highmean_ngene100.weighted.gs 0\n",
      "all_ngene2000.weighted.gs 0\n",
      "all_ngene500.gs 0\n",
      "highbvar_ngene2000.gs 0\n",
      "highbvar_ngene2000.weighted.gs 0\n",
      "highmean_ngene100.gs 0\n",
      "highvar_ngene2000.weighted.gs 0\n"
     ]
    }
   ],
   "source": [
    "# Compare with old gene set\n",
    "GS_PATH = OUT_PATH+'/gs_file.rv1'\n",
    "GA_PATH_REF = OUT_PATH+'/gs_file.rv1.011622'\n",
    "for gs in [x for x in os.listdir(GS_PATH) if x.endswith('.gs')]:\n",
    "    if os.path.exists(GA_PATH_REF+'/'+gs) is False:\n",
    "        continue\n",
    "    df_gs = pd.read_csv(GS_PATH+'/'+gs, sep='\\t', index_col=0)\n",
    "    df_gs_ref = pd.read_csv(GA_PATH_REF+'/'+gs, sep='\\t', index_col=0)\n",
    "    v_dif = [len(set(df_gs.loc[x,'GENESET'].split(','))-set(df_gs_ref.loc[x,'GENESET'].split(',')))\n",
    "             for x in df_gs.index]\n",
    "    print(gs, np.array(v_dif).sum())\n",
    "#     break"
   ]
  },
  {
   "cell_type": "code",
   "execution_count": null,
   "metadata": {},
   "outputs": [],
   "source": []
  }
 ],
 "metadata": {
  "kernelspec": {
   "display_name": "Python 3",
   "language": "python",
   "name": "python3"
  },
  "language_info": {
   "codemirror_mode": {
    "name": "ipython",
    "version": 3
   },
   "file_extension": ".py",
   "mimetype": "text/x-python",
   "name": "python",
   "nbconvert_exporter": "python",
   "pygments_lexer": "ipython3",
   "version": "3.7.2"
  }
 },
 "nbformat": 4,
 "nbformat_minor": 4
}
