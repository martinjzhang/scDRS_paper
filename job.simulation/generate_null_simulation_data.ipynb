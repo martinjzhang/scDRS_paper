{
 "cells": [
  {
   "cell_type": "code",
   "execution_count": 1,
   "metadata": {},
   "outputs": [],
   "source": [
    "import scanpy as sc\n",
    "from anndata import read_h5ad\n",
    "import pandas as pd\n",
    "import numpy as np\n",
    "import os\n",
    "from os.path import join\n",
    "import time\n",
    "import argparse\n",
    "\n",
    "# inhouse tools\n",
    "import scdrs.util as util\n",
    "import scdrs.data_loader as dl\n",
    "import scdrs.method as md\n",
    "\n",
    "# autoreload\n",
    "%load_ext autoreload\n",
    "%autoreload 2"
   ]
  },
  {
   "cell_type": "code",
   "execution_count": 22,
   "metadata": {},
   "outputs": [],
   "source": [
    "# Constants\n",
    "DATA_PATH='/n/holystore01/LABS/price_lab/Users/mjzhang/scDRS_data'\n",
    "OUT_PATH=DATA_PATH+'/simulation_data'\n",
    "H5AD_FILE=DATA_PATH+'/tabula_muris_senis/tabula-muris-senis-facs-official-raw-obj.h5ad'"
   ]
  },
  {
   "cell_type": "code",
   "execution_count": 23,
   "metadata": {},
   "outputs": [
    {
     "name": "stdout",
     "output_type": "stream",
     "text": [
      "# H5AD_FILE loaded:  (110823, 18383)\n"
     ]
    }
   ],
   "source": [
    "# Load .h5ad file \n",
    "adata = read_h5ad(H5AD_FILE)\n",
    "sc.pp.filter_cells(adata, min_genes=500)\n",
    "sc.pp.filter_genes(adata, min_cells=200)\n",
    "print('# H5AD_FILE loaded: ', adata.shape)"
   ]
  },
  {
   "cell_type": "code",
   "execution_count": 4,
   "metadata": {},
   "outputs": [],
   "source": [
    "# # Generate subsampled data \n",
    "# for n_cell in [1e3,2e3,5e3,1e4]:\n",
    "#     np.random.seed(0)\n",
    "#     ind_select = np.random.choice(np.arange(adata.shape[0]), size=int(n_cell), replace=False)\n",
    "#     temp_adata = adata[ind_select].copy()\n",
    "#     temp_adata.write(OUT_PATH+'/single_cell_data/tms_facs.ncell_%dk.h5ad'%int(n_cell/1000))\n",
    "    \n",
    "#     temp_adata.obs.to_csv(OUT_PATH+'/single_cell_data/tms_facs.ncell_%dk.obs'%int(n_cell/1000), sep='\\t')\n",
    "#     temp_df = pd.DataFrame(index=temp_adata.obs_names, columns=temp_adata.var_names,\n",
    "#                            data=temp_adata.X.toarray(), dtype=int).T\n",
    "#     temp_df.to_csv(OUT_PATH+'/single_cell_data/tms_facs.ncell_%dk.tsv'%int(n_cell/1000), sep='\\t')\n",
    "#     print(temp_adata.shape)"
   ]
  },
  {
   "cell_type": "markdown",
   "metadata": {},
   "source": [
    "### Generate .gs files "
   ]
  },
  {
   "cell_type": "code",
   "execution_count": 24,
   "metadata": {},
   "outputs": [],
   "source": [
    "# Config \n",
    "GS_SIZE_LIST = [100, 500, 1000]\n",
    "N_REP = 100\n",
    "N_GENE_SELECT = int(0.25*adata.shape[1])\n",
    "\n",
    "adata_norm = adata.copy()\n",
    "sc.pp.normalize_per_cell(adata_norm, counts_per_cell_after=1e4)\n",
    "sc.pp.log1p(adata_norm)\n",
    "md.compute_stats(adata_norm)\n",
    "adata_norm.var['bvar'] = adata_norm.var['var'] - adata_norm.var['var_tech']"
   ]
  },
  {
   "cell_type": "code",
   "execution_count": 25,
   "metadata": {},
   "outputs": [],
   "source": [
    "dic_gs_all = {}\n",
    "\n",
    "# All genes \n",
    "dic_gs_all['all'] = sorted(adata.var_names)\n",
    "\n",
    "# Highly-expressed genes \n",
    "dic_gs_all['highmean'] = sorted(adata_norm.var.sort_values('mean', ascending=False).index[:N_GENE_SELECT])\n",
    "\n",
    "# Highly-variale genes \n",
    "dic_gs_all['highvar'] = sorted(adata_norm.var.sort_values('var', ascending=False).index[:N_GENE_SELECT])\n",
    "\n",
    "# Overly-dispersed genes\n",
    "dic_gs_all['highbvar'] = sorted(adata_norm.var.sort_values('bvar', ascending=False).index[:N_GENE_SELECT])"
   ]
  },
  {
   "cell_type": "code",
   "execution_count": 26,
   "metadata": {},
   "outputs": [],
   "source": [
    "# Randomly sample genes \n",
    "f = open(OUT_PATH+'/simu_list.txt', 'w')\n",
    "for suffix in dic_gs_all.keys():\n",
    "    for n_gene in GS_SIZE_LIST:\n",
    "        gs_name = '%s_ngene%d'%(suffix, n_gene)\n",
    "        df_gs = pd.DataFrame(columns=['TRAIT', 'GENESET'])\n",
    "        for i_rep in np.arange(N_REP):\n",
    "            np.random.seed(i_rep)\n",
    "            temp_list = np.random.choice(dic_gs_all[suffix], size=n_gene, replace=False)\n",
    "            df_gs.loc[i_rep] =  ['%s_rep%d'%(gs_name,i_rep), ','.join(temp_list)]\n",
    "        df_gs.to_csv(OUT_PATH+'/gs_file/%s.gs'%gs_name, sep='\\t', index=False)\n",
    "        f.write(gs_name+'\\n')    \n",
    "f.close()"
   ]
  },
  {
   "cell_type": "code",
   "execution_count": 29,
   "metadata": {},
   "outputs": [
    {
     "name": "stdout",
     "output_type": "stream",
     "text": [
      "highbvar_ngene500.gs 0\n",
      "all_ngene1000.gs 0\n",
      "highbvar_ngene1000.gs 0\n",
      "highmean_ngene500.gs 0\n",
      "highbvar_ngene100.gs 0\n",
      "highmean_ngene1000.gs 0\n",
      "all_ngene100.gs 0\n",
      "highvar_ngene100.gs 0\n",
      "highvar_ngene1000.gs 0\n",
      "highvar_ngene500.gs 0\n",
      "all_ngene500.gs 0\n",
      "highmean_ngene100.gs 0\n"
     ]
    }
   ],
   "source": [
    "# Compare with old gene set\n",
    "GS_PATH = OUT_PATH+'/gs_file'\n",
    "GA_PATH_REF = OUT_PATH+'/gs_file.080721'\n",
    "for gs in [x for x in os.listdir(GS_PATH) if x.endswith('.gs')]:\n",
    "    df_gs = pd.read_csv(GS_PATH+'/'+gs, sep='\\t', index_col=0)\n",
    "    df_gs_ref = pd.read_csv(GA_PATH_REF+'/'+gs, sep='\\t', index_col=0)\n",
    "    v_dif = [len(set(df_gs.loc[x,'GENESET'].split(','))-set(df_gs_ref.loc[x,'GENESET'].split(',')))\n",
    "             for x in df_gs.index]\n",
    "    print(gs, np.array(v_dif).sum())\n",
    "#     break"
   ]
  },
  {
   "cell_type": "code",
   "execution_count": null,
   "metadata": {},
   "outputs": [],
   "source": []
  }
 ],
 "metadata": {
  "kernelspec": {
   "display_name": "Python 3",
   "language": "python",
   "name": "python3"
  },
  "language_info": {
   "codemirror_mode": {
    "name": "ipython",
    "version": 3
   },
   "file_extension": ".py",
   "mimetype": "text/x-python",
   "name": "python",
   "nbconvert_exporter": "python",
   "pygments_lexer": "ipython3",
   "version": "3.7.2"
  }
 },
 "nbformat": 4,
 "nbformat_minor": 4
}
